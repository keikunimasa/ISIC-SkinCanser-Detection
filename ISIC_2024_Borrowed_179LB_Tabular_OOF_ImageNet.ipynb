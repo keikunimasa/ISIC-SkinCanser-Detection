{
  "metadata": {
    "kernelspec": {
      "display_name": "Python 3",
      "name": "python3"
    },
    "language_info": {
      "name": "python",
      "version": "3.10.13",
      "mimetype": "text/x-python",
      "codemirror_mode": {
        "name": "ipython",
        "version": 3
      },
      "pygments_lexer": "ipython3",
      "nbconvert_exporter": "python",
      "file_extension": ".py"
    },
    "kaggle": {
      "accelerator": "gpu",
      "dataSources": [
        {
          "sourceId": 63056,
          "databundleVersionId": 9094797,
          "sourceType": "competition"
        },
        {
          "sourceId": 9104956,
          "sourceType": "datasetVersion",
          "datasetId": 5495198
        },
        {
          "sourceId": 9106190,
          "sourceType": "datasetVersion",
          "datasetId": 5495898
        },
        {
          "sourceId": 191977782,
          "sourceType": "kernelVersion"
        }
      ],
      "dockerImageVersionId": 30747,
      "isInternetEnabled": false,
      "language": "python",
      "sourceType": "notebook",
      "isGpuEnabled": true
    },
    "colab": {
      "name": "ISIC 2024 Borrowed .179LB Tabular/OOF ImageNet",
      "provenance": [],
      "machine_shape": "hm",
      "gpuType": "V28",
      "include_colab_link": true
    },
    "accelerator": "TPU"
  },
  "nbformat_minor": 0,
  "nbformat": 4,
  "cells": [
    {
      "cell_type": "markdown",
      "metadata": {
        "id": "view-in-github",
        "colab_type": "text"
      },
      "source": [
        "<a href=\"https://colab.research.google.com/github/keikunimasa/ISIC-SkinCanser-Detection/blob/main/ISIC_2024_Borrowed_179LB_Tabular_OOF_ImageNet.ipynb\" target=\"_parent\"><img src=\"https://colab.research.google.com/assets/colab-badge.svg\" alt=\"Open In Colab\"/></a>"
      ]
    },
    {
      "source": [
        "\n",
        "# IMPORTANT: RUN THIS CELL IN ORDER TO IMPORT YOUR KAGGLE DATA SOURCES\n",
        "# TO THE CORRECT LOCATION (/kaggle/input) IN YOUR NOTEBOOK,\n",
        "# THEN FEEL FREE TO DELETE THIS CELL.\n",
        "# NOTE: THIS NOTEBOOK ENVIRONMENT DIFFERS FROM KAGGLE'S PYTHON\n",
        "# ENVIRONMENT SO THERE MAY BE MISSING LIBRARIES USED BY YOUR\n",
        "# NOTEBOOK.\n",
        "\n",
        "import os\n",
        "import sys\n",
        "from tempfile import NamedTemporaryFile\n",
        "from urllib.request import urlopen\n",
        "from urllib.parse import unquote, urlparse\n",
        "from urllib.error import HTTPError\n",
        "from zipfile import ZipFile\n",
        "import tarfile\n",
        "import shutil\n",
        "\n",
        "CHUNK_SIZE = 40960\n",
        "DATA_SOURCE_MAPPING = 'isic-2024-challenge:https%3A%2F%2Fstorage.googleapis.com%2Fkaggle-competitions-data%2Fkaggle-v2%2F63056%2F9094797%2Fbundle%2Farchive.zip%3FX-Goog-Algorithm%3DGOOG4-RSA-SHA256%26X-Goog-Credential%3Dgcp-kaggle-com%2540kaggle-161607.iam.gserviceaccount.com%252F20240811%252Fauto%252Fstorage%252Fgoog4_request%26X-Goog-Date%3D20240811T064702Z%26X-Goog-Expires%3D259200%26X-Goog-SignedHeaders%3Dhost%26X-Goog-Signature%3D81dcea099d938f15ab60721638088ad6ca75489d0b463eb0e934693115fa31c3fab1534872f3bb8821eeceac4392b15a03bff9a0b26ff50810e83fc013eaedc7b85a3a05904af824bc728247be15d9d2ff735a8c7cf20da8f7ca5b555ec68dbc55442fb3bf85bf6cbae00b822d59766337463a3eb5c2e29fbcc5d97e89343efa9d35df3f9dd4ad92e160b7309275778eea99dcb34b10e57f5a8110880c21a1b1c7313dbb80b17d8850f00ae0329c562e3dcbb98c5062f855b988299f8658b3799e377eaa5f0b022d52c002ea0ef5fab2934649e1a2001ef9d0c6e2a35300097e6ac3fc7e53cf835e189c7bb74534ad10c6a8b304a9e719ef2575bcbdeab3fcb6'\n",
        "\n",
        "KAGGLE_INPUT_PATH='/kaggle/input'\n",
        "KAGGLE_WORKING_PATH='/kaggle/working'\n",
        "KAGGLE_SYMLINK='kaggle'\n",
        "\n",
        "!umount /kaggle/input/ 2> /dev/null\n",
        "shutil.rmtree('/kaggle/input', ignore_errors=True)\n",
        "os.makedirs(KAGGLE_INPUT_PATH, 0o777, exist_ok=True)\n",
        "os.makedirs(KAGGLE_WORKING_PATH, 0o777, exist_ok=True)\n",
        "\n",
        "try:\n",
        "  os.symlink(KAGGLE_INPUT_PATH, os.path.join(\"..\", 'input'), target_is_directory=True)\n",
        "except FileExistsError:\n",
        "  pass\n",
        "try:\n",
        "  os.symlink(KAGGLE_WORKING_PATH, os.path.join(\"..\", 'working'), target_is_directory=True)\n",
        "except FileExistsError:\n",
        "  pass\n",
        "\n",
        "for data_source_mapping in DATA_SOURCE_MAPPING.split(','):\n",
        "    directory, download_url_encoded = data_source_mapping.split(':')\n",
        "    download_url = unquote(download_url_encoded)\n",
        "    filename = urlparse(download_url).path\n",
        "    destination_path = os.path.join(KAGGLE_INPUT_PATH, directory)\n",
        "    try:\n",
        "        with urlopen(download_url) as fileres, NamedTemporaryFile() as tfile:\n",
        "            total_length = fileres.headers['content-length']\n",
        "            print(f'Downloading {directory}, {total_length} bytes compressed')\n",
        "            dl = 0\n",
        "            data = fileres.read(CHUNK_SIZE)\n",
        "            while len(data) > 0:\n",
        "                dl += len(data)\n",
        "                tfile.write(data)\n",
        "                done = int(50 * dl / int(total_length))\n",
        "                sys.stdout.write(f\"\\r[{'=' * done}{' ' * (50-done)}] {dl} bytes downloaded\")\n",
        "                sys.stdout.flush()\n",
        "                data = fileres.read(CHUNK_SIZE)\n",
        "            if filename.endswith('.zip'):\n",
        "              with ZipFile(tfile) as zfile:\n",
        "                zfile.extractall(destination_path)\n",
        "            else:\n",
        "              with tarfile.open(tfile.name) as tarfile:\n",
        "                tarfile.extractall(destination_path)\n",
        "            print(f'\\nDownloaded and uncompressed: {directory}')\n",
        "    except HTTPError as e:\n",
        "        print(f'Failed to load (likely expired) {download_url} to path {destination_path}')\n",
        "        continue\n",
        "    except OSError as e:\n",
        "        print(f'Failed to load {download_url} to path {destination_path}')\n",
        "        continue\n",
        "\n",
        "print('Data source import complete.')\n"
      ],
      "metadata": {
        "id": "ZS2EAEzcMMr9",
        "outputId": "9e9eb1a2-3d29-4eae-9bac-1842f941608a",
        "colab": {
          "base_uri": "https://localhost:8080/"
        }
      },
      "cell_type": "code",
      "outputs": [
        {
          "output_type": "stream",
          "name": "stdout",
          "text": [
            "Downloading isic-2024-challenge, 2148525604 bytes compressed\n",
            "[==================================================] 2148525604 bytes downloaded\n",
            "Downloaded and uncompressed: isic-2024-challenge\n",
            "Data source import complete.\n"
          ]
        }
      ],
      "execution_count": 1
    },
    {
      "cell_type": "code",
      "source": [
        "# prompt: mount google drive\n",
        "\n",
        "from google.colab import drive\n",
        "drive.mount('/content/drive')\n"
      ],
      "metadata": {
        "colab": {
          "base_uri": "https://localhost:8080/"
        },
        "id": "Z1xz2BTcLWms",
        "outputId": "3fdc68ab-1419-48b6-ee6c-0993b029fdec"
      },
      "execution_count": 8,
      "outputs": [
        {
          "output_type": "stream",
          "name": "stdout",
          "text": [
            "Drive already mounted at /content/drive; to attempt to forcibly remount, call drive.mount(\"/content/drive\", force_remount=True).\n"
          ]
        }
      ]
    },
    {
      "cell_type": "markdown",
      "source": [
        "## The bulk of this notebook is copied from the excellent: https://www.kaggle.com/code/greysky/isic-2024-only-tabular-data\n",
        "### I add to this:\n",
        "* Merge OOF (out-of-CV-fold) ImageNets predictions into the train set / use as a feature (\"imagenet_predict\")\n",
        "* Same folds defined in ImageNet predictions are re-used in tabular training to avoid data-leakage\n",
        "\n",
        "## See https://www.kaggle.com/code/richolson/isic-2024-imagenet-train-oof-preds-public for a public example of how to train an ImageNet / generate OOF predictions\n",
        "* That notebook is a de-optimized version of my private imagenet notebook\n",
        "* Doesn't do much as-is - but is a handful of tweaks away from performing well\n",
        "\n",
        "### Version 1 of this notebook (.181 LB) uses OOF predictions and ImageNets that are private (sorry!)\n",
        "\n",
        "### Version 3 of this notebook uses the public OOF predictions and ImageNet\n",
        "* You should be able to submit it - but no promises on LB score"
      ],
      "metadata": {
        "id": "nblCyJtaMMsH"
      }
    },
    {
      "cell_type": "code",
      "source": [
        "!pip install polars\n",
        "!pip install optuna\n",
        "!pip install catboost\n",
        "!pip install xgboost\n",
        "!pip install lightgbm\n",
        "!pip install imblearn\n",
        "\n",
        "import os\n",
        "from pathlib import Path\n",
        "\n",
        "import numpy as np\n",
        "import pandas as pd\n",
        "import polars as pl\n",
        "\n",
        "from sklearn.model_selection import StratifiedGroupKFold\n",
        "from sklearn.model_selection import cross_val_score\n",
        "from sklearn.preprocessing import OneHotEncoder\n",
        "from sklearn.metrics import roc_auc_score\n",
        "from sklearn.ensemble import VotingClassifier\n",
        "\n",
        "from imblearn.under_sampling import RandomUnderSampler\n",
        "from imblearn.pipeline import Pipeline\n",
        "\n",
        "import lightgbm as lgb\n",
        "import catboost as cb\n",
        "import xgboost as xgb\n",
        "\n",
        "import optuna"
      ],
      "metadata": {
        "_uuid": "8f2839f25d086af736a60e9eeb907d3b93b6e0e5",
        "_cell_guid": "b1076dfc-b9ad-4769-8c92-a6c4dae69d19",
        "execution": {
          "iopub.status.busy": "2024-08-11T06:30:13.267238Z",
          "iopub.execute_input": "2024-08-11T06:30:13.267942Z",
          "iopub.status.idle": "2024-08-11T06:30:13.274505Z",
          "shell.execute_reply.started": "2024-08-11T06:30:13.267903Z",
          "shell.execute_reply": "2024-08-11T06:30:13.273477Z"
        },
        "trusted": true,
        "id": "YAQueODRMMsK",
        "collapsed": true,
        "colab": {
          "base_uri": "https://localhost:8080/"
        },
        "outputId": "f12ec6f6-cfc7-4966-fdf5-cea3be4577ed"
      },
      "execution_count": 3,
      "outputs": [
        {
          "output_type": "stream",
          "name": "stdout",
          "text": [
            "Collecting polars\n",
            "  Downloading polars-1.4.1-cp38-abi3-manylinux_2_17_x86_64.manylinux2014_x86_64.whl.metadata (14 kB)\n",
            "Downloading polars-1.4.1-cp38-abi3-manylinux_2_17_x86_64.manylinux2014_x86_64.whl (31.5 MB)\n",
            "\u001b[2K   \u001b[90m━━━━━━━━━━━━━━━━━━━━━━━━━━━━━━━━━━━━━━━━\u001b[0m \u001b[32m31.5/31.5 MB\u001b[0m \u001b[31m40.6 MB/s\u001b[0m eta \u001b[36m0:00:00\u001b[0m\n",
            "\u001b[?25hInstalling collected packages: polars\n",
            "Successfully installed polars-1.4.1\n",
            "Collecting optuna\n",
            "  Downloading optuna-3.6.1-py3-none-any.whl.metadata (17 kB)\n",
            "Collecting alembic>=1.5.0 (from optuna)\n",
            "  Downloading alembic-1.13.2-py3-none-any.whl.metadata (7.4 kB)\n",
            "Collecting colorlog (from optuna)\n",
            "  Downloading colorlog-6.8.2-py3-none-any.whl.metadata (10 kB)\n",
            "Requirement already satisfied: numpy in /usr/local/lib/python3.10/dist-packages (from optuna) (1.26.4)\n",
            "Requirement already satisfied: packaging>=20.0 in /usr/local/lib/python3.10/dist-packages (from optuna) (24.1)\n",
            "Collecting sqlalchemy>=1.3.0 (from optuna)\n",
            "  Downloading SQLAlchemy-2.0.32-cp310-cp310-manylinux_2_17_x86_64.manylinux2014_x86_64.whl.metadata (9.6 kB)\n",
            "Requirement already satisfied: tqdm in /usr/local/lib/python3.10/dist-packages (from optuna) (4.66.5)\n",
            "Requirement already satisfied: PyYAML in /usr/local/lib/python3.10/dist-packages (from optuna) (6.0.2)\n",
            "Collecting Mako (from alembic>=1.5.0->optuna)\n",
            "  Downloading Mako-1.3.5-py3-none-any.whl.metadata (2.9 kB)\n",
            "Requirement already satisfied: typing-extensions>=4 in /usr/local/lib/python3.10/dist-packages (from alembic>=1.5.0->optuna) (4.12.2)\n",
            "Collecting greenlet!=0.4.17 (from sqlalchemy>=1.3.0->optuna)\n",
            "  Downloading greenlet-3.0.3-cp310-cp310-manylinux_2_24_x86_64.manylinux_2_28_x86_64.whl.metadata (3.8 kB)\n",
            "Requirement already satisfied: MarkupSafe>=0.9.2 in /usr/local/lib/python3.10/dist-packages (from Mako->alembic>=1.5.0->optuna) (2.1.5)\n",
            "Downloading optuna-3.6.1-py3-none-any.whl (380 kB)\n",
            "\u001b[2K   \u001b[90m━━━━━━━━━━━━━━━━━━━━━━━━━━━━━━━━━━━━━━━━\u001b[0m \u001b[32m380.1/380.1 kB\u001b[0m \u001b[31m3.1 MB/s\u001b[0m eta \u001b[36m0:00:00\u001b[0m\n",
            "\u001b[?25hDownloading alembic-1.13.2-py3-none-any.whl (232 kB)\n",
            "\u001b[2K   \u001b[90m━━━━━━━━━━━━━━━━━━━━━━━━━━━━━━━━━━━━━━━━\u001b[0m \u001b[32m233.0/233.0 kB\u001b[0m \u001b[31m11.5 MB/s\u001b[0m eta \u001b[36m0:00:00\u001b[0m\n",
            "\u001b[?25hDownloading SQLAlchemy-2.0.32-cp310-cp310-manylinux_2_17_x86_64.manylinux2014_x86_64.whl (3.1 MB)\n",
            "\u001b[2K   \u001b[90m━━━━━━━━━━━━━━━━━━━━━━━━━━━━━━━━━━━━━━━━\u001b[0m \u001b[32m3.1/3.1 MB\u001b[0m \u001b[31m27.8 MB/s\u001b[0m eta \u001b[36m0:00:00\u001b[0m\n",
            "\u001b[?25hDownloading colorlog-6.8.2-py3-none-any.whl (11 kB)\n",
            "Downloading greenlet-3.0.3-cp310-cp310-manylinux_2_24_x86_64.manylinux_2_28_x86_64.whl (616 kB)\n",
            "\u001b[2K   \u001b[90m━━━━━━━━━━━━━━━━━━━━━━━━━━━━━━━━━━━━━━━━\u001b[0m \u001b[32m616.0/616.0 kB\u001b[0m \u001b[31m30.2 MB/s\u001b[0m eta \u001b[36m0:00:00\u001b[0m\n",
            "\u001b[?25hDownloading Mako-1.3.5-py3-none-any.whl (78 kB)\n",
            "\u001b[2K   \u001b[90m━━━━━━━━━━━━━━━━━━━━━━━━━━━━━━━━━━━━━━━━\u001b[0m \u001b[32m78.6/78.6 kB\u001b[0m \u001b[31m5.1 MB/s\u001b[0m eta \u001b[36m0:00:00\u001b[0m\n",
            "\u001b[?25hInstalling collected packages: Mako, greenlet, colorlog, sqlalchemy, alembic, optuna\n",
            "Successfully installed Mako-1.3.5 alembic-1.13.2 colorlog-6.8.2 greenlet-3.0.3 optuna-3.6.1 sqlalchemy-2.0.32\n",
            "Collecting catboost\n",
            "  Downloading catboost-1.2.5-cp310-cp310-manylinux2014_x86_64.whl.metadata (1.2 kB)\n",
            "Collecting graphviz (from catboost)\n",
            "  Downloading graphviz-0.20.3-py3-none-any.whl.metadata (12 kB)\n",
            "Requirement already satisfied: matplotlib in /usr/local/lib/python3.10/dist-packages (from catboost) (3.7.1)\n",
            "Requirement already satisfied: numpy>=1.16.0 in /usr/local/lib/python3.10/dist-packages (from catboost) (1.26.4)\n",
            "Requirement already satisfied: pandas>=0.24 in /usr/local/lib/python3.10/dist-packages (from catboost) (2.1.4)\n",
            "Requirement already satisfied: scipy in /usr/local/lib/python3.10/dist-packages (from catboost) (1.13.1)\n",
            "Requirement already satisfied: plotly in /usr/local/lib/python3.10/dist-packages (from catboost) (5.15.0)\n",
            "Requirement already satisfied: six in /usr/local/lib/python3.10/dist-packages (from catboost) (1.16.0)\n",
            "Requirement already satisfied: python-dateutil>=2.8.2 in /usr/local/lib/python3.10/dist-packages (from pandas>=0.24->catboost) (2.9.0.post0)\n",
            "Requirement already satisfied: pytz>=2020.1 in /usr/local/lib/python3.10/dist-packages (from pandas>=0.24->catboost) (2024.1)\n",
            "Requirement already satisfied: tzdata>=2022.1 in /usr/local/lib/python3.10/dist-packages (from pandas>=0.24->catboost) (2024.1)\n",
            "Requirement already satisfied: contourpy>=1.0.1 in /usr/local/lib/python3.10/dist-packages (from matplotlib->catboost) (1.2.1)\n",
            "Requirement already satisfied: cycler>=0.10 in /usr/local/lib/python3.10/dist-packages (from matplotlib->catboost) (0.12.1)\n",
            "Requirement already satisfied: fonttools>=4.22.0 in /usr/local/lib/python3.10/dist-packages (from matplotlib->catboost) (4.53.1)\n",
            "Requirement already satisfied: kiwisolver>=1.0.1 in /usr/local/lib/python3.10/dist-packages (from matplotlib->catboost) (1.4.5)\n",
            "Requirement already satisfied: packaging>=20.0 in /usr/local/lib/python3.10/dist-packages (from matplotlib->catboost) (24.1)\n",
            "Requirement already satisfied: pillow>=6.2.0 in /usr/local/lib/python3.10/dist-packages (from matplotlib->catboost) (10.4.0)\n",
            "Requirement already satisfied: pyparsing>=2.3.1 in /usr/local/lib/python3.10/dist-packages (from matplotlib->catboost) (3.1.2)\n",
            "Requirement already satisfied: tenacity>=6.2.0 in /usr/local/lib/python3.10/dist-packages (from plotly->catboost) (9.0.0)\n",
            "Downloading catboost-1.2.5-cp310-cp310-manylinux2014_x86_64.whl (98.2 MB)\n",
            "\u001b[2K   \u001b[90m━━━━━━━━━━━━━━━━━━━━━━━━━━━━━━━━━━━━━━━━\u001b[0m \u001b[32m98.2/98.2 MB\u001b[0m \u001b[31m10.7 MB/s\u001b[0m eta \u001b[36m0:00:00\u001b[0m\n",
            "\u001b[?25hDownloading graphviz-0.20.3-py3-none-any.whl (47 kB)\n",
            "\u001b[2K   \u001b[90m━━━━━━━━━━━━━━━━━━━━━━━━━━━━━━━━━━━━━━━━\u001b[0m \u001b[32m47.1/47.1 kB\u001b[0m \u001b[31m2.8 MB/s\u001b[0m eta \u001b[36m0:00:00\u001b[0m\n",
            "\u001b[?25hInstalling collected packages: graphviz, catboost\n",
            "Successfully installed catboost-1.2.5 graphviz-0.20.3\n",
            "Collecting xgboost\n",
            "  Downloading xgboost-2.1.1-py3-none-manylinux_2_28_x86_64.whl.metadata (2.1 kB)\n",
            "Requirement already satisfied: numpy in /usr/local/lib/python3.10/dist-packages (from xgboost) (1.26.4)\n",
            "Collecting nvidia-nccl-cu12 (from xgboost)\n",
            "  Downloading nvidia_nccl_cu12-2.22.3-py3-none-manylinux2014_x86_64.whl.metadata (1.8 kB)\n",
            "Requirement already satisfied: scipy in /usr/local/lib/python3.10/dist-packages (from xgboost) (1.13.1)\n",
            "Downloading xgboost-2.1.1-py3-none-manylinux_2_28_x86_64.whl (153.9 MB)\n",
            "\u001b[2K   \u001b[90m━━━━━━━━━━━━━━━━━━━━━━━━━━━━━━━━━━━━━━━━\u001b[0m \u001b[32m153.9/153.9 MB\u001b[0m \u001b[31m6.7 MB/s\u001b[0m eta \u001b[36m0:00:00\u001b[0m\n",
            "\u001b[?25hDownloading nvidia_nccl_cu12-2.22.3-py3-none-manylinux2014_x86_64.whl (190.9 MB)\n",
            "\u001b[2K   \u001b[90m━━━━━━━━━━━━━━━━━━━━━━━━━━━━━━━━━━━━━━━━\u001b[0m \u001b[32m190.9/190.9 MB\u001b[0m \u001b[31m5.4 MB/s\u001b[0m eta \u001b[36m0:00:00\u001b[0m\n",
            "\u001b[?25hInstalling collected packages: nvidia-nccl-cu12, xgboost\n",
            "Successfully installed nvidia-nccl-cu12-2.22.3 xgboost-2.1.1\n",
            "Collecting lightgbm\n",
            "  Downloading lightgbm-4.5.0-py3-none-manylinux_2_28_x86_64.whl.metadata (17 kB)\n",
            "Requirement already satisfied: numpy>=1.17.0 in /usr/local/lib/python3.10/dist-packages (from lightgbm) (1.26.4)\n",
            "Requirement already satisfied: scipy in /usr/local/lib/python3.10/dist-packages (from lightgbm) (1.13.1)\n",
            "Downloading lightgbm-4.5.0-py3-none-manylinux_2_28_x86_64.whl (3.6 MB)\n",
            "\u001b[2K   \u001b[90m━━━━━━━━━━━━━━━━━━━━━━━━━━━━━━━━━━━━━━━━\u001b[0m \u001b[32m3.6/3.6 MB\u001b[0m \u001b[31m15.2 MB/s\u001b[0m eta \u001b[36m0:00:00\u001b[0m\n",
            "\u001b[?25hInstalling collected packages: lightgbm\n",
            "Successfully installed lightgbm-4.5.0\n",
            "Collecting imblearn\n",
            "  Downloading imblearn-0.0-py2.py3-none-any.whl.metadata (355 bytes)\n",
            "Collecting imbalanced-learn (from imblearn)\n",
            "  Downloading imbalanced_learn-0.12.3-py3-none-any.whl.metadata (8.3 kB)\n",
            "Requirement already satisfied: numpy>=1.17.3 in /usr/local/lib/python3.10/dist-packages (from imbalanced-learn->imblearn) (1.26.4)\n",
            "Requirement already satisfied: scipy>=1.5.0 in /usr/local/lib/python3.10/dist-packages (from imbalanced-learn->imblearn) (1.13.1)\n",
            "Requirement already satisfied: scikit-learn>=1.0.2 in /usr/local/lib/python3.10/dist-packages (from imbalanced-learn->imblearn) (1.3.2)\n",
            "Requirement already satisfied: joblib>=1.1.1 in /usr/local/lib/python3.10/dist-packages (from imbalanced-learn->imblearn) (1.4.2)\n",
            "Requirement already satisfied: threadpoolctl>=2.0.0 in /usr/local/lib/python3.10/dist-packages (from imbalanced-learn->imblearn) (3.5.0)\n",
            "Downloading imblearn-0.0-py2.py3-none-any.whl (1.9 kB)\n",
            "Downloading imbalanced_learn-0.12.3-py3-none-any.whl (258 kB)\n",
            "\u001b[2K   \u001b[90m━━━━━━━━━━━━━━━━━━━━━━━━━━━━━━━━━━━━━━━━\u001b[0m \u001b[32m258.3/258.3 kB\u001b[0m \u001b[31m2.2 MB/s\u001b[0m eta \u001b[36m0:00:00\u001b[0m\n",
            "\u001b[?25hInstalling collected packages: imbalanced-learn, imblearn\n",
            "Successfully installed imbalanced-learn-0.12.3 imblearn-0.0\n"
          ]
        }
      ]
    },
    {
      "cell_type": "code",
      "source": [
        "root = Path('/kaggle/input/isic-2024-challenge')\n",
        "\n",
        "train_path = root / 'train-metadata.csv'\n",
        "test_path = root / 'test-metadata.csv'\n",
        "subm_path = root / 'sample_submission.csv'\n",
        "\n",
        "id_col = 'isic_id'\n",
        "target_col = 'target'\n",
        "group_col = 'patient_id'\n",
        "\n",
        "err = 1e-5\n",
        "sampling_ratio = 0.01\n",
        "seed = 42\n",
        "\n",
        "num_cols = [\n",
        "    'age_approx',                        # Approximate age of patient at time of imaging.\n",
        "    'clin_size_long_diam_mm',            # Maximum diameter of the lesion (mm).+\n",
        "    'tbp_lv_A',                          # A inside  lesion.+\n",
        "    'tbp_lv_Aext',                       # A outside lesion.+\n",
        "    'tbp_lv_B',                          # B inside  lesion.+\n",
        "    'tbp_lv_Bext',                       # B outside lesion.+\n",
        "    'tbp_lv_C',                          # Chroma inside  lesion.+\n",
        "    'tbp_lv_Cext',                       # Chroma outside lesion.+\n",
        "    'tbp_lv_H',                          # Hue inside the lesion; calculated as the angle of A* and B* in LAB* color space. Typical values range from 25 (red) to 75 (brown).+\n",
        "    'tbp_lv_Hext',                       # Hue outside lesion.+\n",
        "    'tbp_lv_L',                          # L inside lesion.+\n",
        "    'tbp_lv_Lext',                       # L outside lesion.+\n",
        "    'tbp_lv_areaMM2',                    # Area of lesion (mm^2).+\n",
        "    'tbp_lv_area_perim_ratio',           # Border jaggedness, the ratio between lesions perimeter and area. Circular lesions will have low values; irregular shaped lesions will have higher values. Values range 0-10.+\n",
        "    'tbp_lv_color_std_mean',             # Color irregularity, calculated as the variance of colors within the lesion's boundary.\n",
        "    'tbp_lv_deltaA',                     # Average A contrast (inside vs. outside lesion).+\n",
        "    'tbp_lv_deltaB',                     # Average B contrast (inside vs. outside lesion).+\n",
        "    'tbp_lv_deltaL',                     # Average L contrast (inside vs. outside lesion).+\n",
        "    'tbp_lv_deltaLB',                    #\n",
        "    'tbp_lv_deltaLBnorm',                # Contrast between the lesion and its immediate surrounding skin. Low contrast lesions tend to be faintly visible such as freckles; high contrast lesions tend to be those with darker pigment. Calculated as the average delta LB of the lesion relative to its immediate background in LAB* color space. Typical values range from 5.5 to 25.+\n",
        "    'tbp_lv_eccentricity',               # Eccentricity.+\n",
        "    'tbp_lv_minorAxisMM',                # Smallest lesion diameter (mm).+\n",
        "    'tbp_lv_nevi_confidence',            # Nevus confidence score (0-100 scale) is a convolutional neural network classifier estimated probability that the lesion is a nevus. The neural network was trained on approximately 57,000 lesions that were classified and labeled by a dermatologist.+,++\n",
        "    'tbp_lv_norm_border',                # Border irregularity (0-10 scale); the normalized average of border jaggedness and asymmetry.+\n",
        "    'tbp_lv_norm_color',                 # Color variation (0-10 scale); the normalized average of color asymmetry and color irregularity.+\n",
        "    'tbp_lv_perimeterMM',                # Perimeter of lesion (mm).+\n",
        "    'tbp_lv_radial_color_std_max',       # Color asymmetry, a measure of asymmetry of the spatial distribution of color within the lesion. This score is calculated by looking at the average standard deviation in LAB* color space within concentric rings originating from the lesion center. Values range 0-10.+\n",
        "    'tbp_lv_stdL',                       # Standard deviation of L inside  lesion.+\n",
        "    'tbp_lv_stdLExt',                    # Standard deviation of L outside lesion.+\n",
        "    'tbp_lv_symm_2axis',                 # Border asymmetry; a measure of asymmetry of the lesion's contour about an axis perpendicular to the lesion's most symmetric axis. Lesions with two axes of symmetry will therefore have low scores (more symmetric), while lesions with only one or zero axes of symmetry will have higher scores (less symmetric). This score is calculated by comparing opposite halves of the lesion contour over many degrees of rotation. The angle where the halves are most similar identifies the principal axis of symmetry, while the second axis of symmetry is perpendicular to the principal axis. Border asymmetry is reported as the asymmetry value about this second axis. Values range 0-10.+\n",
        "    'tbp_lv_symm_2axis_angle',           # Lesion border asymmetry angle.+\n",
        "    'tbp_lv_x',                          # X-coordinate of the lesion on 3D TBP.+\n",
        "    'tbp_lv_y',                          # Y-coordinate of the lesion on 3D TBP.+\n",
        "    'tbp_lv_z',                          # Z-coordinate of the lesion on 3D TBP.+\n",
        "]\n",
        "\n",
        "new_num_cols = [\n",
        "    'lesion_size_ratio',             # tbp_lv_minorAxisMM      / clin_size_long_diam_mm\n",
        "    'lesion_shape_index',            # tbp_lv_areaMM2          / tbp_lv_perimeterMM **2\n",
        "    'hue_contrast',                  # tbp_lv_H                - tbp_lv_Hext              abs\n",
        "    'luminance_contrast',            # tbp_lv_L                - tbp_lv_Lext              abs\n",
        "    'lesion_color_difference',       # tbp_lv_deltaA **2       + tbp_lv_deltaB **2 + tbp_lv_deltaL **2  sqrt\n",
        "    'border_complexity',             # tbp_lv_norm_border      + tbp_lv_symm_2axis\n",
        "    'color_uniformity',              # tbp_lv_color_std_mean   / tbp_lv_radial_color_std_max\n",
        "\n",
        "    'position_distance_3d',          # tbp_lv_x **2 + tbp_lv_y **2 + tbp_lv_z **2  sqrt\n",
        "    'perimeter_to_area_ratio',       # tbp_lv_perimeterMM      / tbp_lv_areaMM2\n",
        "    'area_to_perimeter_ratio',       # tbp_lv_areaMM2          / tbp_lv_perimeterMM\n",
        "    'lesion_visibility_score',       # tbp_lv_deltaLBnorm      + tbp_lv_norm_color\n",
        "    'symmetry_border_consistency',   # tbp_lv_symm_2axis       * tbp_lv_norm_border\n",
        "    'consistency_symmetry_border',   # tbp_lv_symm_2axis       * tbp_lv_norm_border / (tbp_lv_symm_2axis + tbp_lv_norm_border)\n",
        "\n",
        "    'color_consistency',             # tbp_lv_stdL             / tbp_lv_Lext\n",
        "    'consistency_color',             # tbp_lv_stdL*tbp_lv_Lext / tbp_lv_stdL + tbp_lv_Lext\n",
        "    'size_age_interaction',          # clin_size_long_diam_mm  * age_approx\n",
        "    'hue_color_std_interaction',     # tbp_lv_H                * tbp_lv_color_std_mean\n",
        "    'lesion_severity_index',         # tbp_lv_norm_border      + tbp_lv_norm_color + tbp_lv_eccentricity / 3\n",
        "    'shape_complexity_index',        # border_complexity       + lesion_shape_index\n",
        "    'color_contrast_index',          # tbp_lv_deltaA + tbp_lv_deltaB + tbp_lv_deltaL + tbp_lv_deltaLBnorm\n",
        "\n",
        "    'log_lesion_area',               # tbp_lv_areaMM2          + 1  np.log\n",
        "    'normalized_lesion_size',        # clin_size_long_diam_mm  / age_approx\n",
        "    'mean_hue_difference',           # tbp_lv_H                + tbp_lv_Hext    / 2\n",
        "    'std_dev_contrast',              # tbp_lv_deltaA **2 + tbp_lv_deltaB **2 + tbp_lv_deltaL **2   / 3  np.sqrt\n",
        "    'color_shape_composite_index',   # tbp_lv_color_std_mean   + bp_lv_area_perim_ratio + tbp_lv_symm_2axis   / 3\n",
        "    'lesion_orientation_3d',         # tbp_lv_y                , tbp_lv_x  np.arctan2\n",
        "    'overall_color_difference',      # tbp_lv_deltaA           + tbp_lv_deltaB + tbp_lv_deltaL   / 3\n",
        "\n",
        "    'symmetry_perimeter_interaction',# tbp_lv_symm_2axis       * tbp_lv_perimeterMM\n",
        "    'comprehensive_lesion_index',    # tbp_lv_area_perim_ratio + tbp_lv_eccentricity + bp_lv_norm_color + tbp_lv_symm_2axis   / 4\n",
        "    'color_variance_ratio',          # tbp_lv_color_std_mean   / tbp_lv_stdLExt\n",
        "    'border_color_interaction',      # tbp_lv_norm_border      * tbp_lv_norm_color\n",
        "    'border_color_interaction_2',\n",
        "    'size_color_contrast_ratio',     # clin_size_long_diam_mm  / tbp_lv_deltaLBnorm\n",
        "    'age_normalized_nevi_confidence',# tbp_lv_nevi_confidence  / age_approx\n",
        "    'age_normalized_nevi_confidence_2',\n",
        "    'color_asymmetry_index',         # tbp_lv_symm_2axis       * tbp_lv_radial_color_std_max\n",
        "\n",
        "    'volume_approximation_3d',       # tbp_lv_areaMM2          * sqrt(tbp_lv_x**2 + tbp_lv_y**2 + tbp_lv_z**2)\n",
        "    'color_range',                   # abs(tbp_lv_L - tbp_lv_Lext) + abs(tbp_lv_A - tbp_lv_Aext) + abs(tbp_lv_B - tbp_lv_Bext)\n",
        "    'shape_color_consistency',       # tbp_lv_eccentricity     * tbp_lv_color_std_mean\n",
        "    'border_length_ratio',           # tbp_lv_perimeterMM      / pi * sqrt(tbp_lv_areaMM2 / pi)\n",
        "    'age_size_symmetry_index',       # age_approx              * clin_size_long_diam_mm * tbp_lv_symm_2axis\n",
        "    'index_age_size_symmetry',       # age_approx              * tbp_lv_areaMM2 * tbp_lv_symm_2axis\n",
        "]\n",
        "\n",
        "cat_cols = ['sex', 'anatom_site_general', 'tbp_tile_type', 'tbp_lv_location', 'tbp_lv_location_simple', 'attribution']\n",
        "norm_cols = [f'{col}_patient_norm' for col in num_cols + new_num_cols]\n",
        "\n",
        "special_cols = ['count_per_patient']\n",
        "feature_cols = num_cols + new_num_cols + cat_cols + norm_cols + special_cols"
      ],
      "metadata": {
        "execution": {
          "iopub.status.busy": "2024-08-11T06:30:13.276024Z",
          "iopub.execute_input": "2024-08-11T06:30:13.276359Z",
          "iopub.status.idle": "2024-08-11T06:30:13.295064Z",
          "shell.execute_reply.started": "2024-08-11T06:30:13.276334Z",
          "shell.execute_reply": "2024-08-11T06:30:13.294037Z"
        },
        "trusted": true,
        "id": "3lh-t4PdMMsM"
      },
      "execution_count": 23,
      "outputs": []
    },
    {
      "cell_type": "code",
      "source": [
        "def read_data(path):\n",
        "    return (\n",
        "        pl.read_csv(path)\n",
        "        .with_columns(\n",
        "            pl.col('age_approx').cast(pl.String).replace('NA', np.nan).cast(pl.Float64),\n",
        "        )\n",
        "        .with_columns(\n",
        "            pl.col(pl.Float64).fill_nan(pl.col(pl.Float64).median()), # You may want to impute test data with train\n",
        "        )\n",
        "        .with_columns(\n",
        "            lesion_size_ratio              = pl.col('tbp_lv_minorAxisMM') / pl.col('clin_size_long_diam_mm'),\n",
        "            lesion_shape_index             = pl.col('tbp_lv_areaMM2') / (pl.col('tbp_lv_perimeterMM') ** 2),\n",
        "            hue_contrast                   = (pl.col('tbp_lv_H') - pl.col('tbp_lv_Hext')).abs(),\n",
        "            luminance_contrast             = (pl.col('tbp_lv_L') - pl.col('tbp_lv_Lext')).abs(),\n",
        "            lesion_color_difference        = (pl.col('tbp_lv_deltaA') ** 2 + pl.col('tbp_lv_deltaB') ** 2 + pl.col('tbp_lv_deltaL') ** 2).sqrt(),\n",
        "            border_complexity              = pl.col('tbp_lv_norm_border') + pl.col('tbp_lv_symm_2axis'),\n",
        "            color_uniformity               = pl.col('tbp_lv_color_std_mean') / (pl.col('tbp_lv_radial_color_std_max') + err),\n",
        "        )\n",
        "        .with_columns(\n",
        "            position_distance_3d           = (pl.col('tbp_lv_x') ** 2 + pl.col('tbp_lv_y') ** 2 + pl.col('tbp_lv_z') ** 2).sqrt(),\n",
        "            perimeter_to_area_ratio        = pl.col('tbp_lv_perimeterMM') / pl.col('tbp_lv_areaMM2'),\n",
        "            area_to_perimeter_ratio        = pl.col('tbp_lv_areaMM2') / pl.col('tbp_lv_perimeterMM'),\n",
        "            lesion_visibility_score        = pl.col('tbp_lv_deltaLBnorm') + pl.col('tbp_lv_norm_color'),\n",
        "            combined_anatomical_site       = pl.col('anatom_site_general') + '_' + pl.col('tbp_lv_location'),\n",
        "            symmetry_border_consistency    = pl.col('tbp_lv_symm_2axis') * pl.col('tbp_lv_norm_border'),\n",
        "            consistency_symmetry_border    = pl.col('tbp_lv_symm_2axis') * pl.col('tbp_lv_norm_border') / (pl.col('tbp_lv_symm_2axis') + pl.col('tbp_lv_norm_border')),\n",
        "        )\n",
        "        .with_columns(\n",
        "            color_consistency              = pl.col('tbp_lv_stdL') / pl.col('tbp_lv_Lext'),\n",
        "            consistency_color              = pl.col('tbp_lv_stdL') * pl.col('tbp_lv_Lext') / (pl.col('tbp_lv_stdL') + pl.col('tbp_lv_Lext')),\n",
        "            size_age_interaction           = pl.col('clin_size_long_diam_mm') * pl.col('age_approx'),\n",
        "            hue_color_std_interaction      = pl.col('tbp_lv_H') * pl.col('tbp_lv_color_std_mean'),\n",
        "            lesion_severity_index          = (pl.col('tbp_lv_norm_border') + pl.col('tbp_lv_norm_color') + pl.col('tbp_lv_eccentricity')) / 3,\n",
        "            shape_complexity_index         = pl.col('border_complexity') + pl.col('lesion_shape_index'),\n",
        "            color_contrast_index           = pl.col('tbp_lv_deltaA') + pl.col('tbp_lv_deltaB') + pl.col('tbp_lv_deltaL') + pl.col('tbp_lv_deltaLBnorm'),\n",
        "        )\n",
        "        .with_columns(\n",
        "            log_lesion_area                = (pl.col('tbp_lv_areaMM2') + 1).log(),\n",
        "            normalized_lesion_size         = pl.col('clin_size_long_diam_mm') / pl.col('age_approx'),\n",
        "            mean_hue_difference            = (pl.col('tbp_lv_H') + pl.col('tbp_lv_Hext')) / 2,\n",
        "            std_dev_contrast               = ((pl.col('tbp_lv_deltaA') ** 2 + pl.col('tbp_lv_deltaB') ** 2 + pl.col('tbp_lv_deltaL') ** 2) / 3).sqrt(),\n",
        "            color_shape_composite_index    = (pl.col('tbp_lv_color_std_mean') + pl.col('tbp_lv_area_perim_ratio') + pl.col('tbp_lv_symm_2axis')) / 3,\n",
        "            lesion_orientation_3d          = pl.arctan2(pl.col('tbp_lv_y'), pl.col('tbp_lv_x')),\n",
        "            overall_color_difference       = (pl.col('tbp_lv_deltaA') + pl.col('tbp_lv_deltaB') + pl.col('tbp_lv_deltaL')) / 3,\n",
        "        )\n",
        "        .with_columns(\n",
        "            symmetry_perimeter_interaction = pl.col('tbp_lv_symm_2axis') * pl.col('tbp_lv_perimeterMM'),\n",
        "            comprehensive_lesion_index     = (pl.col('tbp_lv_area_perim_ratio') + pl.col('tbp_lv_eccentricity') + pl.col('tbp_lv_norm_color') + pl.col('tbp_lv_symm_2axis')) / 4,\n",
        "            color_variance_ratio           = pl.col('tbp_lv_color_std_mean') / pl.col('tbp_lv_stdLExt'),\n",
        "            border_color_interaction       = pl.col('tbp_lv_norm_border') * pl.col('tbp_lv_norm_color'),\n",
        "            border_color_interaction_2     = pl.col('tbp_lv_norm_border') * pl.col('tbp_lv_norm_color') / (pl.col('tbp_lv_norm_border') + pl.col('tbp_lv_norm_color')),\n",
        "            size_color_contrast_ratio      = pl.col('clin_size_long_diam_mm') / pl.col('tbp_lv_deltaLBnorm'),\n",
        "            age_normalized_nevi_confidence = pl.col('tbp_lv_nevi_confidence') / pl.col('age_approx'),\n",
        "            age_normalized_nevi_confidence_2 = (pl.col('clin_size_long_diam_mm')**2 + pl.col('age_approx')**2).sqrt(),\n",
        "            color_asymmetry_index          = pl.col('tbp_lv_radial_color_std_max') * pl.col('tbp_lv_symm_2axis'),\n",
        "        )\n",
        "        .with_columns(\n",
        "            volume_approximation_3d        = pl.col('tbp_lv_areaMM2') * (pl.col('tbp_lv_x')**2 + pl.col('tbp_lv_y')**2 + pl.col('tbp_lv_z')**2).sqrt(),\n",
        "            color_range                    = (pl.col('tbp_lv_L') - pl.col('tbp_lv_Lext')).abs() + (pl.col('tbp_lv_A') - pl.col('tbp_lv_Aext')).abs() + (pl.col('tbp_lv_B') - pl.col('tbp_lv_Bext')).abs(),\n",
        "            shape_color_consistency        = pl.col('tbp_lv_eccentricity') * pl.col('tbp_lv_color_std_mean'),\n",
        "            border_length_ratio            = pl.col('tbp_lv_perimeterMM') / (2 * np.pi * (pl.col('tbp_lv_areaMM2') / np.pi).sqrt()),\n",
        "            age_size_symmetry_index        = pl.col('age_approx') * pl.col('clin_size_long_diam_mm') * pl.col('tbp_lv_symm_2axis'),\n",
        "            index_age_size_symmetry        = pl.col('age_approx') * pl.col('tbp_lv_areaMM2') * pl.col('tbp_lv_symm_2axis'),\n",
        "        )\n",
        "        .with_columns(\n",
        "            ((pl.col(col) - pl.col(col).mean().over('patient_id')) / (pl.col(col).std().over('patient_id') + err)).alias(f'{col}_patient_norm') for col in (num_cols + new_num_cols)\n",
        "        )\n",
        "        .with_columns(\n",
        "            count_per_patient = pl.col('isic_id').count().over('patient_id'),\n",
        "        )\n",
        "        .with_columns(\n",
        "            pl.col(cat_cols).cast(pl.Categorical),\n",
        "        )\n",
        "        .to_pandas()\n",
        "        .set_index(id_col)\n",
        "    )"
      ],
      "metadata": {
        "execution": {
          "iopub.status.busy": "2024-08-11T06:30:13.392187Z",
          "iopub.execute_input": "2024-08-11T06:30:13.39295Z",
          "iopub.status.idle": "2024-08-11T06:30:13.421371Z",
          "shell.execute_reply.started": "2024-08-11T06:30:13.39291Z",
          "shell.execute_reply": "2024-08-11T06:30:13.420486Z"
        },
        "trusted": true,
        "id": "e3n9DisHMMsN"
      },
      "execution_count": 24,
      "outputs": []
    },
    {
      "cell_type": "code",
      "source": [
        "def preprocess(df_train, df_test):\n",
        "    global cat_cols\n",
        "\n",
        "    encoder = OneHotEncoder(sparse_output=False, dtype=np.int32, handle_unknown='ignore')\n",
        "    encoder.fit(df_train[cat_cols])\n",
        "\n",
        "    new_cat_cols = [f'onehot_{i}' for i in range(len(encoder.get_feature_names_out()))]\n",
        "\n",
        "    df_train[new_cat_cols] = encoder.transform(df_train[cat_cols])\n",
        "    df_train[new_cat_cols] = df_train[new_cat_cols].astype('category')\n",
        "\n",
        "    df_test[new_cat_cols] = encoder.transform(df_test[cat_cols])\n",
        "    df_test[new_cat_cols] = df_test[new_cat_cols].astype('category')\n",
        "\n",
        "    for col in cat_cols:\n",
        "        feature_cols.remove(col)\n",
        "\n",
        "    feature_cols.extend(new_cat_cols)\n",
        "    cat_cols = new_cat_cols\n",
        "\n",
        "    return df_train, df_test"
      ],
      "metadata": {
        "execution": {
          "iopub.status.busy": "2024-08-11T06:30:13.423389Z",
          "iopub.execute_input": "2024-08-11T06:30:13.423946Z",
          "iopub.status.idle": "2024-08-11T06:30:13.434808Z",
          "shell.execute_reply.started": "2024-08-11T06:30:13.423914Z",
          "shell.execute_reply": "2024-08-11T06:30:13.433949Z"
        },
        "trusted": true,
        "id": "z_m3dZAAMMsO"
      },
      "execution_count": 25,
      "outputs": []
    },
    {
      "cell_type": "code",
      "source": [
        "def custom_metric(estimator, X, y_true):\n",
        "    y_hat = estimator.predict_proba(X)[:, 1]\n",
        "    min_tpr = 0.80\n",
        "    max_fpr = abs(1 - min_tpr)\n",
        "\n",
        "    v_gt = abs(y_true - 1)\n",
        "    v_pred = np.array([1.0 - x for x in y_hat])\n",
        "\n",
        "    partial_auc_scaled = roc_auc_score(v_gt, v_pred, max_fpr=max_fpr)\n",
        "    partial_auc = 0.5 * max_fpr**2 + (max_fpr - 0.5 * max_fpr**2) / (1.0 - 0.5) * (partial_auc_scaled - 0.5)\n",
        "\n",
        "    return partial_auc"
      ],
      "metadata": {
        "execution": {
          "iopub.status.busy": "2024-08-11T06:30:13.435828Z",
          "iopub.execute_input": "2024-08-11T06:30:13.436112Z",
          "iopub.status.idle": "2024-08-11T06:30:13.446335Z",
          "shell.execute_reply.started": "2024-08-11T06:30:13.436088Z",
          "shell.execute_reply": "2024-08-11T06:30:13.445593Z"
        },
        "trusted": true,
        "id": "VwKJ86_nMMsP"
      },
      "execution_count": 26,
      "outputs": []
    },
    {
      "cell_type": "markdown",
      "source": [
        "### Data Read & Feature Engineering"
      ],
      "metadata": {
        "id": "VD_YiNVtMMsP"
      }
    },
    {
      "cell_type": "code",
      "source": [
        "import gc\n",
        "gc.collect()\n",
        "df_train = read_data(train_path)\n",
        "df_test = read_data(test_path)\n",
        "df_subm = pd.read_csv(subm_path, index_col=id_col)\n",
        "\n",
        "df_train, df_test = preprocess(df_train, df_test)\n",
        "df_train.describe()"
      ],
      "metadata": {
        "execution": {
          "iopub.status.busy": "2024-08-11T06:30:13.447673Z",
          "iopub.execute_input": "2024-08-11T06:30:13.448279Z",
          "iopub.status.idle": "2024-08-11T06:30:19.494244Z",
          "shell.execute_reply.started": "2024-08-11T06:30:13.448249Z",
          "shell.execute_reply": "2024-08-11T06:30:19.492982Z"
        },
        "trusted": true,
        "id": "y3BrG4BMMMsQ",
        "colab": {
          "base_uri": "https://localhost:8080/",
          "height": 349
        },
        "outputId": "bc1f09b8-37eb-4c8a-cd62-d56a39fc7971"
      },
      "execution_count": 27,
      "outputs": [
        {
          "output_type": "execute_result",
          "data": {
            "text/plain": [
              "              target     age_approx  clin_size_long_diam_mm       tbp_lv_A  \\\n",
              "count  401059.000000  401059.000000           401059.000000  401059.000000   \n",
              "mean        0.000980      58.026849                3.930827      19.974007   \n",
              "std         0.031288      13.549664                1.743068       3.999489   \n",
              "min         0.000000       5.000000                1.000000      -2.487115   \n",
              "25%         0.000000      50.000000                2.840000      17.330821   \n",
              "50%         0.000000      60.000000                3.370000      19.801910   \n",
              "75%         0.000000      70.000000                4.380000      22.304628   \n",
              "max         1.000000      85.000000               28.400000      48.189610   \n",
              "\n",
              "         tbp_lv_Aext       tbp_lv_B    tbp_lv_Bext       tbp_lv_C  \\\n",
              "count  401059.000000  401059.000000  401059.000000  401059.000000   \n",
              "mean       14.919247      28.281706      26.913015      34.786341   \n",
              "std         3.529384       5.278676       4.482994       5.708469   \n",
              "min        -9.080269      -0.730989       9.237066       3.054228   \n",
              "25%        12.469740      24.704372      23.848125      31.003148   \n",
              "50%        14.713930      28.171570      26.701704      34.822580   \n",
              "75%        17.137175      31.637429      29.679913      38.430298   \n",
              "max        37.021680      54.306900      48.372700      58.765170   \n",
              "\n",
              "         tbp_lv_Cext       tbp_lv_H  ...  \\\n",
              "count  401059.000000  401059.000000  ...   \n",
              "mean       30.921279      54.653689  ...   \n",
              "std         4.829345       5.520849  ...   \n",
              "min        11.846520      -1.574164  ...   \n",
              "25%        27.658285      51.566273  ...   \n",
              "50%        30.804893      55.035632  ...   \n",
              "75%        33.963868      58.298184  ...   \n",
              "max        54.305290     105.875784  ...   \n",
              "\n",
              "       age_normalized_nevi_confidence_patient_norm  \\\n",
              "count                                 4.010540e+05   \n",
              "mean                                 -6.297467e-17   \n",
              "std                                   9.986874e-01   \n",
              "min                                  -5.802969e+00   \n",
              "25%                                  -6.720920e-01   \n",
              "50%                                  -2.960885e-01   \n",
              "75%                                   7.314047e-01   \n",
              "max                                   1.302002e+01   \n",
              "\n",
              "       age_normalized_nevi_confidence_2_patient_norm  \\\n",
              "count                                   4.010540e+05   \n",
              "mean                                   -5.569862e-14   \n",
              "std                                     9.986488e-01   \n",
              "min                                    -3.344933e+01   \n",
              "25%                                    -4.617431e-01   \n",
              "50%                                    -2.745153e-01   \n",
              "75%                                     7.117264e-02   \n",
              "max                                     2.310924e+01   \n",
              "\n",
              "       color_asymmetry_index_patient_norm  \\\n",
              "count                        4.010540e+05   \n",
              "mean                         6.895411e-17   \n",
              "std                          9.986615e-01   \n",
              "min                         -2.628086e+00   \n",
              "25%                         -5.788070e-01   \n",
              "50%                         -2.087698e-01   \n",
              "75%                          3.276235e-01   \n",
              "max                          1.508117e+01   \n",
              "\n",
              "       volume_approximation_3d_patient_norm  color_range_patient_norm  \\\n",
              "count                          4.010540e+05              4.010540e+05   \n",
              "mean                          -6.066261e-17             -6.134737e-16   \n",
              "std                            9.987076e-01              9.987054e-01   \n",
              "min                           -2.006196e+00             -3.661765e+00   \n",
              "25%                           -5.088167e-01             -6.979457e-01   \n",
              "50%                           -2.738855e-01             -1.366203e-01   \n",
              "75%                            1.360080e-01              5.593789e-01   \n",
              "max                            1.993806e+01              1.096295e+01   \n",
              "\n",
              "       shape_color_consistency_patient_norm  border_length_ratio_patient_norm  \\\n",
              "count                          4.010540e+05                      4.010540e+05   \n",
              "mean                          -1.260025e-16                      2.985649e-16   \n",
              "std                            9.986881e-01                      9.986338e-01   \n",
              "min                           -2.431412e+00                     -2.853321e+00   \n",
              "25%                           -6.514565e-01                     -6.960858e-01   \n",
              "50%                           -1.880408e-01                     -2.560886e-01   \n",
              "75%                            4.447693e-01                      4.316315e-01   \n",
              "max                            1.208560e+01                      8.741093e+00   \n",
              "\n",
              "       age_size_symmetry_index_patient_norm  \\\n",
              "count                          4.010540e+05   \n",
              "mean                          -1.261442e-17   \n",
              "std                            9.987073e-01   \n",
              "min                           -1.924727e+00   \n",
              "25%                           -6.100199e-01   \n",
              "50%                           -2.775833e-01   \n",
              "75%                            2.761594e-01   \n",
              "max                            1.623901e+01   \n",
              "\n",
              "       index_age_size_symmetry_patient_norm  count_per_patient  \n",
              "count                          4.010540e+05      401059.000000  \n",
              "mean                          -2.933916e-17        1142.532647  \n",
              "std                            9.987075e-01        1666.379678  \n",
              "min                           -1.971400e+00           1.000000  \n",
              "25%                           -4.784476e-01         352.000000  \n",
              "50%                           -2.902077e-01         630.000000  \n",
              "75%                            7.893950e-02        1132.000000  \n",
              "max                            2.205425e+01        9184.000000  \n",
              "\n",
              "[8 rows x 155 columns]"
            ],
            "text/html": [
              "\n",
              "  <div id=\"df-48e63d69-6a6f-4b6c-a315-025c32ef5645\" class=\"colab-df-container\">\n",
              "    <div>\n",
              "<style scoped>\n",
              "    .dataframe tbody tr th:only-of-type {\n",
              "        vertical-align: middle;\n",
              "    }\n",
              "\n",
              "    .dataframe tbody tr th {\n",
              "        vertical-align: top;\n",
              "    }\n",
              "\n",
              "    .dataframe thead th {\n",
              "        text-align: right;\n",
              "    }\n",
              "</style>\n",
              "<table border=\"1\" class=\"dataframe\">\n",
              "  <thead>\n",
              "    <tr style=\"text-align: right;\">\n",
              "      <th></th>\n",
              "      <th>target</th>\n",
              "      <th>age_approx</th>\n",
              "      <th>clin_size_long_diam_mm</th>\n",
              "      <th>tbp_lv_A</th>\n",
              "      <th>tbp_lv_Aext</th>\n",
              "      <th>tbp_lv_B</th>\n",
              "      <th>tbp_lv_Bext</th>\n",
              "      <th>tbp_lv_C</th>\n",
              "      <th>tbp_lv_Cext</th>\n",
              "      <th>tbp_lv_H</th>\n",
              "      <th>...</th>\n",
              "      <th>age_normalized_nevi_confidence_patient_norm</th>\n",
              "      <th>age_normalized_nevi_confidence_2_patient_norm</th>\n",
              "      <th>color_asymmetry_index_patient_norm</th>\n",
              "      <th>volume_approximation_3d_patient_norm</th>\n",
              "      <th>color_range_patient_norm</th>\n",
              "      <th>shape_color_consistency_patient_norm</th>\n",
              "      <th>border_length_ratio_patient_norm</th>\n",
              "      <th>age_size_symmetry_index_patient_norm</th>\n",
              "      <th>index_age_size_symmetry_patient_norm</th>\n",
              "      <th>count_per_patient</th>\n",
              "    </tr>\n",
              "  </thead>\n",
              "  <tbody>\n",
              "    <tr>\n",
              "      <th>count</th>\n",
              "      <td>401059.000000</td>\n",
              "      <td>401059.000000</td>\n",
              "      <td>401059.000000</td>\n",
              "      <td>401059.000000</td>\n",
              "      <td>401059.000000</td>\n",
              "      <td>401059.000000</td>\n",
              "      <td>401059.000000</td>\n",
              "      <td>401059.000000</td>\n",
              "      <td>401059.000000</td>\n",
              "      <td>401059.000000</td>\n",
              "      <td>...</td>\n",
              "      <td>4.010540e+05</td>\n",
              "      <td>4.010540e+05</td>\n",
              "      <td>4.010540e+05</td>\n",
              "      <td>4.010540e+05</td>\n",
              "      <td>4.010540e+05</td>\n",
              "      <td>4.010540e+05</td>\n",
              "      <td>4.010540e+05</td>\n",
              "      <td>4.010540e+05</td>\n",
              "      <td>4.010540e+05</td>\n",
              "      <td>401059.000000</td>\n",
              "    </tr>\n",
              "    <tr>\n",
              "      <th>mean</th>\n",
              "      <td>0.000980</td>\n",
              "      <td>58.026849</td>\n",
              "      <td>3.930827</td>\n",
              "      <td>19.974007</td>\n",
              "      <td>14.919247</td>\n",
              "      <td>28.281706</td>\n",
              "      <td>26.913015</td>\n",
              "      <td>34.786341</td>\n",
              "      <td>30.921279</td>\n",
              "      <td>54.653689</td>\n",
              "      <td>...</td>\n",
              "      <td>-6.297467e-17</td>\n",
              "      <td>-5.569862e-14</td>\n",
              "      <td>6.895411e-17</td>\n",
              "      <td>-6.066261e-17</td>\n",
              "      <td>-6.134737e-16</td>\n",
              "      <td>-1.260025e-16</td>\n",
              "      <td>2.985649e-16</td>\n",
              "      <td>-1.261442e-17</td>\n",
              "      <td>-2.933916e-17</td>\n",
              "      <td>1142.532647</td>\n",
              "    </tr>\n",
              "    <tr>\n",
              "      <th>std</th>\n",
              "      <td>0.031288</td>\n",
              "      <td>13.549664</td>\n",
              "      <td>1.743068</td>\n",
              "      <td>3.999489</td>\n",
              "      <td>3.529384</td>\n",
              "      <td>5.278676</td>\n",
              "      <td>4.482994</td>\n",
              "      <td>5.708469</td>\n",
              "      <td>4.829345</td>\n",
              "      <td>5.520849</td>\n",
              "      <td>...</td>\n",
              "      <td>9.986874e-01</td>\n",
              "      <td>9.986488e-01</td>\n",
              "      <td>9.986615e-01</td>\n",
              "      <td>9.987076e-01</td>\n",
              "      <td>9.987054e-01</td>\n",
              "      <td>9.986881e-01</td>\n",
              "      <td>9.986338e-01</td>\n",
              "      <td>9.987073e-01</td>\n",
              "      <td>9.987075e-01</td>\n",
              "      <td>1666.379678</td>\n",
              "    </tr>\n",
              "    <tr>\n",
              "      <th>min</th>\n",
              "      <td>0.000000</td>\n",
              "      <td>5.000000</td>\n",
              "      <td>1.000000</td>\n",
              "      <td>-2.487115</td>\n",
              "      <td>-9.080269</td>\n",
              "      <td>-0.730989</td>\n",
              "      <td>9.237066</td>\n",
              "      <td>3.054228</td>\n",
              "      <td>11.846520</td>\n",
              "      <td>-1.574164</td>\n",
              "      <td>...</td>\n",
              "      <td>-5.802969e+00</td>\n",
              "      <td>-3.344933e+01</td>\n",
              "      <td>-2.628086e+00</td>\n",
              "      <td>-2.006196e+00</td>\n",
              "      <td>-3.661765e+00</td>\n",
              "      <td>-2.431412e+00</td>\n",
              "      <td>-2.853321e+00</td>\n",
              "      <td>-1.924727e+00</td>\n",
              "      <td>-1.971400e+00</td>\n",
              "      <td>1.000000</td>\n",
              "    </tr>\n",
              "    <tr>\n",
              "      <th>25%</th>\n",
              "      <td>0.000000</td>\n",
              "      <td>50.000000</td>\n",
              "      <td>2.840000</td>\n",
              "      <td>17.330821</td>\n",
              "      <td>12.469740</td>\n",
              "      <td>24.704372</td>\n",
              "      <td>23.848125</td>\n",
              "      <td>31.003148</td>\n",
              "      <td>27.658285</td>\n",
              "      <td>51.566273</td>\n",
              "      <td>...</td>\n",
              "      <td>-6.720920e-01</td>\n",
              "      <td>-4.617431e-01</td>\n",
              "      <td>-5.788070e-01</td>\n",
              "      <td>-5.088167e-01</td>\n",
              "      <td>-6.979457e-01</td>\n",
              "      <td>-6.514565e-01</td>\n",
              "      <td>-6.960858e-01</td>\n",
              "      <td>-6.100199e-01</td>\n",
              "      <td>-4.784476e-01</td>\n",
              "      <td>352.000000</td>\n",
              "    </tr>\n",
              "    <tr>\n",
              "      <th>50%</th>\n",
              "      <td>0.000000</td>\n",
              "      <td>60.000000</td>\n",
              "      <td>3.370000</td>\n",
              "      <td>19.801910</td>\n",
              "      <td>14.713930</td>\n",
              "      <td>28.171570</td>\n",
              "      <td>26.701704</td>\n",
              "      <td>34.822580</td>\n",
              "      <td>30.804893</td>\n",
              "      <td>55.035632</td>\n",
              "      <td>...</td>\n",
              "      <td>-2.960885e-01</td>\n",
              "      <td>-2.745153e-01</td>\n",
              "      <td>-2.087698e-01</td>\n",
              "      <td>-2.738855e-01</td>\n",
              "      <td>-1.366203e-01</td>\n",
              "      <td>-1.880408e-01</td>\n",
              "      <td>-2.560886e-01</td>\n",
              "      <td>-2.775833e-01</td>\n",
              "      <td>-2.902077e-01</td>\n",
              "      <td>630.000000</td>\n",
              "    </tr>\n",
              "    <tr>\n",
              "      <th>75%</th>\n",
              "      <td>0.000000</td>\n",
              "      <td>70.000000</td>\n",
              "      <td>4.380000</td>\n",
              "      <td>22.304628</td>\n",
              "      <td>17.137175</td>\n",
              "      <td>31.637429</td>\n",
              "      <td>29.679913</td>\n",
              "      <td>38.430298</td>\n",
              "      <td>33.963868</td>\n",
              "      <td>58.298184</td>\n",
              "      <td>...</td>\n",
              "      <td>7.314047e-01</td>\n",
              "      <td>7.117264e-02</td>\n",
              "      <td>3.276235e-01</td>\n",
              "      <td>1.360080e-01</td>\n",
              "      <td>5.593789e-01</td>\n",
              "      <td>4.447693e-01</td>\n",
              "      <td>4.316315e-01</td>\n",
              "      <td>2.761594e-01</td>\n",
              "      <td>7.893950e-02</td>\n",
              "      <td>1132.000000</td>\n",
              "    </tr>\n",
              "    <tr>\n",
              "      <th>max</th>\n",
              "      <td>1.000000</td>\n",
              "      <td>85.000000</td>\n",
              "      <td>28.400000</td>\n",
              "      <td>48.189610</td>\n",
              "      <td>37.021680</td>\n",
              "      <td>54.306900</td>\n",
              "      <td>48.372700</td>\n",
              "      <td>58.765170</td>\n",
              "      <td>54.305290</td>\n",
              "      <td>105.875784</td>\n",
              "      <td>...</td>\n",
              "      <td>1.302002e+01</td>\n",
              "      <td>2.310924e+01</td>\n",
              "      <td>1.508117e+01</td>\n",
              "      <td>1.993806e+01</td>\n",
              "      <td>1.096295e+01</td>\n",
              "      <td>1.208560e+01</td>\n",
              "      <td>8.741093e+00</td>\n",
              "      <td>1.623901e+01</td>\n",
              "      <td>2.205425e+01</td>\n",
              "      <td>9184.000000</td>\n",
              "    </tr>\n",
              "  </tbody>\n",
              "</table>\n",
              "<p>8 rows × 155 columns</p>\n",
              "</div>\n",
              "    <div class=\"colab-df-buttons\">\n",
              "\n",
              "  <div class=\"colab-df-container\">\n",
              "    <button class=\"colab-df-convert\" onclick=\"convertToInteractive('df-48e63d69-6a6f-4b6c-a315-025c32ef5645')\"\n",
              "            title=\"Convert this dataframe to an interactive table.\"\n",
              "            style=\"display:none;\">\n",
              "\n",
              "  <svg xmlns=\"http://www.w3.org/2000/svg\" height=\"24px\" viewBox=\"0 -960 960 960\">\n",
              "    <path d=\"M120-120v-720h720v720H120Zm60-500h600v-160H180v160Zm220 220h160v-160H400v160Zm0 220h160v-160H400v160ZM180-400h160v-160H180v160Zm440 0h160v-160H620v160ZM180-180h160v-160H180v160Zm440 0h160v-160H620v160Z\"/>\n",
              "  </svg>\n",
              "    </button>\n",
              "\n",
              "  <style>\n",
              "    .colab-df-container {\n",
              "      display:flex;\n",
              "      gap: 12px;\n",
              "    }\n",
              "\n",
              "    .colab-df-convert {\n",
              "      background-color: #E8F0FE;\n",
              "      border: none;\n",
              "      border-radius: 50%;\n",
              "      cursor: pointer;\n",
              "      display: none;\n",
              "      fill: #1967D2;\n",
              "      height: 32px;\n",
              "      padding: 0 0 0 0;\n",
              "      width: 32px;\n",
              "    }\n",
              "\n",
              "    .colab-df-convert:hover {\n",
              "      background-color: #E2EBFA;\n",
              "      box-shadow: 0px 1px 2px rgba(60, 64, 67, 0.3), 0px 1px 3px 1px rgba(60, 64, 67, 0.15);\n",
              "      fill: #174EA6;\n",
              "    }\n",
              "\n",
              "    .colab-df-buttons div {\n",
              "      margin-bottom: 4px;\n",
              "    }\n",
              "\n",
              "    [theme=dark] .colab-df-convert {\n",
              "      background-color: #3B4455;\n",
              "      fill: #D2E3FC;\n",
              "    }\n",
              "\n",
              "    [theme=dark] .colab-df-convert:hover {\n",
              "      background-color: #434B5C;\n",
              "      box-shadow: 0px 1px 3px 1px rgba(0, 0, 0, 0.15);\n",
              "      filter: drop-shadow(0px 1px 2px rgba(0, 0, 0, 0.3));\n",
              "      fill: #FFFFFF;\n",
              "    }\n",
              "  </style>\n",
              "\n",
              "    <script>\n",
              "      const buttonEl =\n",
              "        document.querySelector('#df-48e63d69-6a6f-4b6c-a315-025c32ef5645 button.colab-df-convert');\n",
              "      buttonEl.style.display =\n",
              "        google.colab.kernel.accessAllowed ? 'block' : 'none';\n",
              "\n",
              "      async function convertToInteractive(key) {\n",
              "        const element = document.querySelector('#df-48e63d69-6a6f-4b6c-a315-025c32ef5645');\n",
              "        const dataTable =\n",
              "          await google.colab.kernel.invokeFunction('convertToInteractive',\n",
              "                                                    [key], {});\n",
              "        if (!dataTable) return;\n",
              "\n",
              "        const docLinkHtml = 'Like what you see? Visit the ' +\n",
              "          '<a target=\"_blank\" href=https://colab.research.google.com/notebooks/data_table.ipynb>data table notebook</a>'\n",
              "          + ' to learn more about interactive tables.';\n",
              "        element.innerHTML = '';\n",
              "        dataTable['output_type'] = 'display_data';\n",
              "        await google.colab.output.renderOutput(dataTable, element);\n",
              "        const docLink = document.createElement('div');\n",
              "        docLink.innerHTML = docLinkHtml;\n",
              "        element.appendChild(docLink);\n",
              "      }\n",
              "    </script>\n",
              "  </div>\n",
              "\n",
              "\n",
              "<div id=\"df-0f25076e-409f-42a9-985c-20ff522c676e\">\n",
              "  <button class=\"colab-df-quickchart\" onclick=\"quickchart('df-0f25076e-409f-42a9-985c-20ff522c676e')\"\n",
              "            title=\"Suggest charts\"\n",
              "            style=\"display:none;\">\n",
              "\n",
              "<svg xmlns=\"http://www.w3.org/2000/svg\" height=\"24px\"viewBox=\"0 0 24 24\"\n",
              "     width=\"24px\">\n",
              "    <g>\n",
              "        <path d=\"M19 3H5c-1.1 0-2 .9-2 2v14c0 1.1.9 2 2 2h14c1.1 0 2-.9 2-2V5c0-1.1-.9-2-2-2zM9 17H7v-7h2v7zm4 0h-2V7h2v10zm4 0h-2v-4h2v4z\"/>\n",
              "    </g>\n",
              "</svg>\n",
              "  </button>\n",
              "\n",
              "<style>\n",
              "  .colab-df-quickchart {\n",
              "      --bg-color: #E8F0FE;\n",
              "      --fill-color: #1967D2;\n",
              "      --hover-bg-color: #E2EBFA;\n",
              "      --hover-fill-color: #174EA6;\n",
              "      --disabled-fill-color: #AAA;\n",
              "      --disabled-bg-color: #DDD;\n",
              "  }\n",
              "\n",
              "  [theme=dark] .colab-df-quickchart {\n",
              "      --bg-color: #3B4455;\n",
              "      --fill-color: #D2E3FC;\n",
              "      --hover-bg-color: #434B5C;\n",
              "      --hover-fill-color: #FFFFFF;\n",
              "      --disabled-bg-color: #3B4455;\n",
              "      --disabled-fill-color: #666;\n",
              "  }\n",
              "\n",
              "  .colab-df-quickchart {\n",
              "    background-color: var(--bg-color);\n",
              "    border: none;\n",
              "    border-radius: 50%;\n",
              "    cursor: pointer;\n",
              "    display: none;\n",
              "    fill: var(--fill-color);\n",
              "    height: 32px;\n",
              "    padding: 0;\n",
              "    width: 32px;\n",
              "  }\n",
              "\n",
              "  .colab-df-quickchart:hover {\n",
              "    background-color: var(--hover-bg-color);\n",
              "    box-shadow: 0 1px 2px rgba(60, 64, 67, 0.3), 0 1px 3px 1px rgba(60, 64, 67, 0.15);\n",
              "    fill: var(--button-hover-fill-color);\n",
              "  }\n",
              "\n",
              "  .colab-df-quickchart-complete:disabled,\n",
              "  .colab-df-quickchart-complete:disabled:hover {\n",
              "    background-color: var(--disabled-bg-color);\n",
              "    fill: var(--disabled-fill-color);\n",
              "    box-shadow: none;\n",
              "  }\n",
              "\n",
              "  .colab-df-spinner {\n",
              "    border: 2px solid var(--fill-color);\n",
              "    border-color: transparent;\n",
              "    border-bottom-color: var(--fill-color);\n",
              "    animation:\n",
              "      spin 1s steps(1) infinite;\n",
              "  }\n",
              "\n",
              "  @keyframes spin {\n",
              "    0% {\n",
              "      border-color: transparent;\n",
              "      border-bottom-color: var(--fill-color);\n",
              "      border-left-color: var(--fill-color);\n",
              "    }\n",
              "    20% {\n",
              "      border-color: transparent;\n",
              "      border-left-color: var(--fill-color);\n",
              "      border-top-color: var(--fill-color);\n",
              "    }\n",
              "    30% {\n",
              "      border-color: transparent;\n",
              "      border-left-color: var(--fill-color);\n",
              "      border-top-color: var(--fill-color);\n",
              "      border-right-color: var(--fill-color);\n",
              "    }\n",
              "    40% {\n",
              "      border-color: transparent;\n",
              "      border-right-color: var(--fill-color);\n",
              "      border-top-color: var(--fill-color);\n",
              "    }\n",
              "    60% {\n",
              "      border-color: transparent;\n",
              "      border-right-color: var(--fill-color);\n",
              "    }\n",
              "    80% {\n",
              "      border-color: transparent;\n",
              "      border-right-color: var(--fill-color);\n",
              "      border-bottom-color: var(--fill-color);\n",
              "    }\n",
              "    90% {\n",
              "      border-color: transparent;\n",
              "      border-bottom-color: var(--fill-color);\n",
              "    }\n",
              "  }\n",
              "</style>\n",
              "\n",
              "  <script>\n",
              "    async function quickchart(key) {\n",
              "      const quickchartButtonEl =\n",
              "        document.querySelector('#' + key + ' button');\n",
              "      quickchartButtonEl.disabled = true;  // To prevent multiple clicks.\n",
              "      quickchartButtonEl.classList.add('colab-df-spinner');\n",
              "      try {\n",
              "        const charts = await google.colab.kernel.invokeFunction(\n",
              "            'suggestCharts', [key], {});\n",
              "      } catch (error) {\n",
              "        console.error('Error during call to suggestCharts:', error);\n",
              "      }\n",
              "      quickchartButtonEl.classList.remove('colab-df-spinner');\n",
              "      quickchartButtonEl.classList.add('colab-df-quickchart-complete');\n",
              "    }\n",
              "    (() => {\n",
              "      let quickchartButtonEl =\n",
              "        document.querySelector('#df-0f25076e-409f-42a9-985c-20ff522c676e button');\n",
              "      quickchartButtonEl.style.display =\n",
              "        google.colab.kernel.accessAllowed ? 'block' : 'none';\n",
              "    })();\n",
              "  </script>\n",
              "</div>\n",
              "\n",
              "    </div>\n",
              "  </div>\n"
            ],
            "application/vnd.google.colaboratory.intrinsic+json": {
              "type": "dataframe"
            }
          },
          "metadata": {},
          "execution_count": 27
        }
      ]
    },
    {
      "cell_type": "code",
      "source": [
        "nan_counts = df_train.isna().sum()\n",
        "nan_cols = nan_counts[nan_counts > 0]\n",
        "nan_ranking = nan_cols.rank(ascending=False)\n",
        "nan_table = pd.DataFrame({\n",
        "    \"col name\": nan_cols.index,\n",
        "    \"count of nan\": nan_cols.values,\n",
        "    \"col ranking\": nan_ranking.values\n",
        "})\n",
        "print(nan_table)\n",
        "\n",
        "test = df_train\n",
        "test = test.dropna(axis=0)\n",
        "print(test.size)\n",
        "print(df_train.size)"
      ],
      "metadata": {
        "colab": {
          "base_uri": "https://localhost:8080/"
        },
        "id": "SOrpLMhSPSAn",
        "outputId": "5ea0bc35-4f33-4d48-8ef5-31e8488d356b"
      },
      "execution_count": 34,
      "outputs": [
        {
          "output_type": "stream",
          "name": "stdout",
          "text": [
            "                                col name  count of nan  col ranking\n",
            "0                age_approx_patient_norm             5         38.5\n",
            "1    clin_size_long_diam_mm_patient_norm             5         38.5\n",
            "2                  tbp_lv_A_patient_norm             5         38.5\n",
            "3               tbp_lv_Aext_patient_norm             5         38.5\n",
            "4                  tbp_lv_B_patient_norm             5         38.5\n",
            "..                                   ...           ...          ...\n",
            "71              color_range_patient_norm             5         38.5\n",
            "72  shape_color_consistency_patient_norm             5         38.5\n",
            "73      border_length_ratio_patient_norm             5         38.5\n",
            "74  age_size_symmetry_index_patient_norm             5         38.5\n",
            "75  index_age_size_symmetry_patient_norm             5         38.5\n",
            "\n",
            "[76 rows x 3 columns]\n",
            "88632934\n",
            "88634039\n"
          ]
        }
      ]
    },
    {
      "cell_type": "code",
      "source": [
        "# prompt: find most usable feature from df_train\n",
        "\n",
        "from sklearn.feature_selection import SelectKBest, chi2\n",
        "\n",
        "# Assuming 'target' is the name of your target variable column\n",
        "X = test.drop('target', axis=1)\n",
        "y = test['target']\n",
        "\n",
        "# Initialize SelectKBest with chi-squared test\n",
        "selector = SelectKBest(chi2, k=1)  # Select the top 1 feature\n",
        "\n",
        "# Fit the selector to the data\n",
        "selector.fit(X, y)\n",
        "\n",
        "# Get the indices of the selected features\n",
        "selected_feature_indices = selector.get_support(indices=True)\n",
        "\n",
        "# Get the names of the selected features\n",
        "selected_feature_names = X.columns[selected_feature_indices]\n",
        "\n",
        "print(\"Most usable feature:\", selected_feature_names[0])\n"
      ],
      "metadata": {
        "colab": {
          "base_uri": "https://localhost:8080/",
          "height": 356
        },
        "id": "p8M86wvAOHgV",
        "outputId": "473d7a00-34ab-4f60-8535-c1b0ca796e5d"
      },
      "execution_count": 35,
      "outputs": [
        {
          "output_type": "error",
          "ename": "ValueError",
          "evalue": "could not convert string to float: 'IP_1235828'",
          "traceback": [
            "\u001b[0;31m---------------------------------------------------------------------------\u001b[0m",
            "\u001b[0;31mValueError\u001b[0m                                Traceback (most recent call last)",
            "\u001b[0;32m<ipython-input-35-42a91dad79db>\u001b[0m in \u001b[0;36m<cell line: 13>\u001b[0;34m()\u001b[0m\n\u001b[1;32m     11\u001b[0m \u001b[0;34m\u001b[0m\u001b[0m\n\u001b[1;32m     12\u001b[0m \u001b[0;31m# Fit the selector to the data\u001b[0m\u001b[0;34m\u001b[0m\u001b[0;34m\u001b[0m\u001b[0m\n\u001b[0;32m---> 13\u001b[0;31m \u001b[0mselector\u001b[0m\u001b[0;34m.\u001b[0m\u001b[0mfit\u001b[0m\u001b[0;34m(\u001b[0m\u001b[0mX\u001b[0m\u001b[0;34m,\u001b[0m \u001b[0my\u001b[0m\u001b[0;34m)\u001b[0m\u001b[0;34m\u001b[0m\u001b[0;34m\u001b[0m\u001b[0m\n\u001b[0m\u001b[1;32m     14\u001b[0m \u001b[0;34m\u001b[0m\u001b[0m\n\u001b[1;32m     15\u001b[0m \u001b[0;31m# Get the indices of the selected features\u001b[0m\u001b[0;34m\u001b[0m\u001b[0;34m\u001b[0m\u001b[0m\n",
            "\u001b[0;32m/usr/local/lib/python3.10/dist-packages/sklearn/base.py\u001b[0m in \u001b[0;36mwrapper\u001b[0;34m(estimator, *args, **kwargs)\u001b[0m\n\u001b[1;32m   1150\u001b[0m                 )\n\u001b[1;32m   1151\u001b[0m             ):\n\u001b[0;32m-> 1152\u001b[0;31m                 \u001b[0;32mreturn\u001b[0m \u001b[0mfit_method\u001b[0m\u001b[0;34m(\u001b[0m\u001b[0mestimator\u001b[0m\u001b[0;34m,\u001b[0m \u001b[0;34m*\u001b[0m\u001b[0margs\u001b[0m\u001b[0;34m,\u001b[0m \u001b[0;34m**\u001b[0m\u001b[0mkwargs\u001b[0m\u001b[0;34m)\u001b[0m\u001b[0;34m\u001b[0m\u001b[0;34m\u001b[0m\u001b[0m\n\u001b[0m\u001b[1;32m   1153\u001b[0m \u001b[0;34m\u001b[0m\u001b[0m\n\u001b[1;32m   1154\u001b[0m         \u001b[0;32mreturn\u001b[0m \u001b[0mwrapper\u001b[0m\u001b[0;34m\u001b[0m\u001b[0;34m\u001b[0m\u001b[0m\n",
            "\u001b[0;32m/usr/local/lib/python3.10/dist-packages/sklearn/feature_selection/_univariate_selection.py\u001b[0m in \u001b[0;36mfit\u001b[0;34m(self, X, y)\u001b[0m\n\u001b[1;32m    501\u001b[0m \u001b[0;34m\u001b[0m\u001b[0m\n\u001b[1;32m    502\u001b[0m         \u001b[0mself\u001b[0m\u001b[0;34m.\u001b[0m\u001b[0m_check_params\u001b[0m\u001b[0;34m(\u001b[0m\u001b[0mX\u001b[0m\u001b[0;34m,\u001b[0m \u001b[0my\u001b[0m\u001b[0;34m)\u001b[0m\u001b[0;34m\u001b[0m\u001b[0;34m\u001b[0m\u001b[0m\n\u001b[0;32m--> 503\u001b[0;31m         \u001b[0mscore_func_ret\u001b[0m \u001b[0;34m=\u001b[0m \u001b[0mself\u001b[0m\u001b[0;34m.\u001b[0m\u001b[0mscore_func\u001b[0m\u001b[0;34m(\u001b[0m\u001b[0mX\u001b[0m\u001b[0;34m,\u001b[0m \u001b[0my\u001b[0m\u001b[0;34m)\u001b[0m\u001b[0;34m\u001b[0m\u001b[0;34m\u001b[0m\u001b[0m\n\u001b[0m\u001b[1;32m    504\u001b[0m         \u001b[0;32mif\u001b[0m \u001b[0misinstance\u001b[0m\u001b[0;34m(\u001b[0m\u001b[0mscore_func_ret\u001b[0m\u001b[0;34m,\u001b[0m \u001b[0;34m(\u001b[0m\u001b[0mlist\u001b[0m\u001b[0;34m,\u001b[0m \u001b[0mtuple\u001b[0m\u001b[0;34m)\u001b[0m\u001b[0;34m)\u001b[0m\u001b[0;34m:\u001b[0m\u001b[0;34m\u001b[0m\u001b[0;34m\u001b[0m\u001b[0m\n\u001b[1;32m    505\u001b[0m             \u001b[0mself\u001b[0m\u001b[0;34m.\u001b[0m\u001b[0mscores_\u001b[0m\u001b[0;34m,\u001b[0m \u001b[0mself\u001b[0m\u001b[0;34m.\u001b[0m\u001b[0mpvalues_\u001b[0m \u001b[0;34m=\u001b[0m \u001b[0mscore_func_ret\u001b[0m\u001b[0;34m\u001b[0m\u001b[0;34m\u001b[0m\u001b[0m\n",
            "\u001b[0;32m/usr/local/lib/python3.10/dist-packages/sklearn/utils/_param_validation.py\u001b[0m in \u001b[0;36mwrapper\u001b[0;34m(*args, **kwargs)\u001b[0m\n\u001b[1;32m    185\u001b[0m             \u001b[0mglobal_skip_validation\u001b[0m \u001b[0;34m=\u001b[0m \u001b[0mget_config\u001b[0m\u001b[0;34m(\u001b[0m\u001b[0;34m)\u001b[0m\u001b[0;34m[\u001b[0m\u001b[0;34m\"skip_parameter_validation\"\u001b[0m\u001b[0;34m]\u001b[0m\u001b[0;34m\u001b[0m\u001b[0;34m\u001b[0m\u001b[0m\n\u001b[1;32m    186\u001b[0m             \u001b[0;32mif\u001b[0m \u001b[0mglobal_skip_validation\u001b[0m\u001b[0;34m:\u001b[0m\u001b[0;34m\u001b[0m\u001b[0;34m\u001b[0m\u001b[0m\n\u001b[0;32m--> 187\u001b[0;31m                 \u001b[0;32mreturn\u001b[0m \u001b[0mfunc\u001b[0m\u001b[0;34m(\u001b[0m\u001b[0;34m*\u001b[0m\u001b[0margs\u001b[0m\u001b[0;34m,\u001b[0m \u001b[0;34m**\u001b[0m\u001b[0mkwargs\u001b[0m\u001b[0;34m)\u001b[0m\u001b[0;34m\u001b[0m\u001b[0;34m\u001b[0m\u001b[0m\n\u001b[0m\u001b[1;32m    188\u001b[0m \u001b[0;34m\u001b[0m\u001b[0m\n\u001b[1;32m    189\u001b[0m             \u001b[0mfunc_sig\u001b[0m \u001b[0;34m=\u001b[0m \u001b[0msignature\u001b[0m\u001b[0;34m(\u001b[0m\u001b[0mfunc\u001b[0m\u001b[0;34m)\u001b[0m\u001b[0;34m\u001b[0m\u001b[0;34m\u001b[0m\u001b[0m\n",
            "\u001b[0;32m/usr/local/lib/python3.10/dist-packages/sklearn/feature_selection/_univariate_selection.py\u001b[0m in \u001b[0;36mchi2\u001b[0;34m(X, y)\u001b[0m\n\u001b[1;32m    227\u001b[0m     \u001b[0;31m# Converting X to float allows getting better performance for the\u001b[0m\u001b[0;34m\u001b[0m\u001b[0;34m\u001b[0m\u001b[0m\n\u001b[1;32m    228\u001b[0m     \u001b[0;31m# safe_sparse_dot call made below.\u001b[0m\u001b[0;34m\u001b[0m\u001b[0;34m\u001b[0m\u001b[0m\n\u001b[0;32m--> 229\u001b[0;31m     \u001b[0mX\u001b[0m \u001b[0;34m=\u001b[0m \u001b[0mcheck_array\u001b[0m\u001b[0;34m(\u001b[0m\u001b[0mX\u001b[0m\u001b[0;34m,\u001b[0m \u001b[0maccept_sparse\u001b[0m\u001b[0;34m=\u001b[0m\u001b[0;34m\"csr\"\u001b[0m\u001b[0;34m,\u001b[0m \u001b[0mdtype\u001b[0m\u001b[0;34m=\u001b[0m\u001b[0;34m(\u001b[0m\u001b[0mnp\u001b[0m\u001b[0;34m.\u001b[0m\u001b[0mfloat64\u001b[0m\u001b[0;34m,\u001b[0m \u001b[0mnp\u001b[0m\u001b[0;34m.\u001b[0m\u001b[0mfloat32\u001b[0m\u001b[0;34m)\u001b[0m\u001b[0;34m)\u001b[0m\u001b[0;34m\u001b[0m\u001b[0;34m\u001b[0m\u001b[0m\n\u001b[0m\u001b[1;32m    230\u001b[0m     \u001b[0;32mif\u001b[0m \u001b[0mnp\u001b[0m\u001b[0;34m.\u001b[0m\u001b[0many\u001b[0m\u001b[0;34m(\u001b[0m\u001b[0;34m(\u001b[0m\u001b[0mX\u001b[0m\u001b[0;34m.\u001b[0m\u001b[0mdata\u001b[0m \u001b[0;32mif\u001b[0m \u001b[0missparse\u001b[0m\u001b[0;34m(\u001b[0m\u001b[0mX\u001b[0m\u001b[0;34m)\u001b[0m \u001b[0;32melse\u001b[0m \u001b[0mX\u001b[0m\u001b[0;34m)\u001b[0m \u001b[0;34m<\u001b[0m \u001b[0;36m0\u001b[0m\u001b[0;34m)\u001b[0m\u001b[0;34m:\u001b[0m\u001b[0;34m\u001b[0m\u001b[0;34m\u001b[0m\u001b[0m\n\u001b[1;32m    231\u001b[0m         \u001b[0;32mraise\u001b[0m \u001b[0mValueError\u001b[0m\u001b[0;34m(\u001b[0m\u001b[0;34m\"Input X must be non-negative.\"\u001b[0m\u001b[0;34m)\u001b[0m\u001b[0;34m\u001b[0m\u001b[0;34m\u001b[0m\u001b[0m\n",
            "\u001b[0;32m/usr/local/lib/python3.10/dist-packages/sklearn/utils/validation.py\u001b[0m in \u001b[0;36mcheck_array\u001b[0;34m(array, accept_sparse, accept_large_sparse, dtype, order, copy, force_all_finite, ensure_2d, allow_nd, ensure_min_samples, ensure_min_features, estimator, input_name)\u001b[0m\n\u001b[1;32m    913\u001b[0m                     \u001b[0marray\u001b[0m \u001b[0;34m=\u001b[0m \u001b[0mxp\u001b[0m\u001b[0;34m.\u001b[0m\u001b[0mastype\u001b[0m\u001b[0;34m(\u001b[0m\u001b[0marray\u001b[0m\u001b[0;34m,\u001b[0m \u001b[0mdtype\u001b[0m\u001b[0;34m,\u001b[0m \u001b[0mcopy\u001b[0m\u001b[0;34m=\u001b[0m\u001b[0;32mFalse\u001b[0m\u001b[0;34m)\u001b[0m\u001b[0;34m\u001b[0m\u001b[0;34m\u001b[0m\u001b[0m\n\u001b[1;32m    914\u001b[0m                 \u001b[0;32melse\u001b[0m\u001b[0;34m:\u001b[0m\u001b[0;34m\u001b[0m\u001b[0;34m\u001b[0m\u001b[0m\n\u001b[0;32m--> 915\u001b[0;31m                     \u001b[0marray\u001b[0m \u001b[0;34m=\u001b[0m \u001b[0m_asarray_with_order\u001b[0m\u001b[0;34m(\u001b[0m\u001b[0marray\u001b[0m\u001b[0;34m,\u001b[0m \u001b[0morder\u001b[0m\u001b[0;34m=\u001b[0m\u001b[0morder\u001b[0m\u001b[0;34m,\u001b[0m \u001b[0mdtype\u001b[0m\u001b[0;34m=\u001b[0m\u001b[0mdtype\u001b[0m\u001b[0;34m,\u001b[0m \u001b[0mxp\u001b[0m\u001b[0;34m=\u001b[0m\u001b[0mxp\u001b[0m\u001b[0;34m)\u001b[0m\u001b[0;34m\u001b[0m\u001b[0;34m\u001b[0m\u001b[0m\n\u001b[0m\u001b[1;32m    916\u001b[0m             \u001b[0;32mexcept\u001b[0m \u001b[0mComplexWarning\u001b[0m \u001b[0;32mas\u001b[0m \u001b[0mcomplex_warning\u001b[0m\u001b[0;34m:\u001b[0m\u001b[0;34m\u001b[0m\u001b[0;34m\u001b[0m\u001b[0m\n\u001b[1;32m    917\u001b[0m                 raise ValueError(\n",
            "\u001b[0;32m/usr/local/lib/python3.10/dist-packages/sklearn/utils/_array_api.py\u001b[0m in \u001b[0;36m_asarray_with_order\u001b[0;34m(array, dtype, order, copy, xp)\u001b[0m\n\u001b[1;32m    378\u001b[0m             \u001b[0marray\u001b[0m \u001b[0;34m=\u001b[0m \u001b[0mnumpy\u001b[0m\u001b[0;34m.\u001b[0m\u001b[0marray\u001b[0m\u001b[0;34m(\u001b[0m\u001b[0marray\u001b[0m\u001b[0;34m,\u001b[0m \u001b[0morder\u001b[0m\u001b[0;34m=\u001b[0m\u001b[0morder\u001b[0m\u001b[0;34m,\u001b[0m \u001b[0mdtype\u001b[0m\u001b[0;34m=\u001b[0m\u001b[0mdtype\u001b[0m\u001b[0;34m)\u001b[0m\u001b[0;34m\u001b[0m\u001b[0;34m\u001b[0m\u001b[0m\n\u001b[1;32m    379\u001b[0m         \u001b[0;32melse\u001b[0m\u001b[0;34m:\u001b[0m\u001b[0;34m\u001b[0m\u001b[0;34m\u001b[0m\u001b[0m\n\u001b[0;32m--> 380\u001b[0;31m             \u001b[0marray\u001b[0m \u001b[0;34m=\u001b[0m \u001b[0mnumpy\u001b[0m\u001b[0;34m.\u001b[0m\u001b[0masarray\u001b[0m\u001b[0;34m(\u001b[0m\u001b[0marray\u001b[0m\u001b[0;34m,\u001b[0m \u001b[0morder\u001b[0m\u001b[0;34m=\u001b[0m\u001b[0morder\u001b[0m\u001b[0;34m,\u001b[0m \u001b[0mdtype\u001b[0m\u001b[0;34m=\u001b[0m\u001b[0mdtype\u001b[0m\u001b[0;34m)\u001b[0m\u001b[0;34m\u001b[0m\u001b[0;34m\u001b[0m\u001b[0m\n\u001b[0m\u001b[1;32m    381\u001b[0m \u001b[0;34m\u001b[0m\u001b[0m\n\u001b[1;32m    382\u001b[0m         \u001b[0;31m# At this point array is a NumPy ndarray. We convert it to an array\u001b[0m\u001b[0;34m\u001b[0m\u001b[0;34m\u001b[0m\u001b[0m\n",
            "\u001b[0;31mValueError\u001b[0m: could not convert string to float: 'IP_1235828'"
          ]
        }
      ]
    },
    {
      "cell_type": "markdown",
      "source": [
        "# Add in OOF imagenet preds"
      ],
      "metadata": {
        "id": "b1V2YWV6MMsR"
      }
    },
    {
      "cell_type": "code",
      "source": [
        "import os\n",
        "import random\n",
        "from IPython.display import Image, display\n",
        "\n",
        "# **Verify the path to your image folder**\n",
        "image_folder = '/kaggle/input/isic-2024-challenge/train-image/image'\n",
        "\n",
        "# **List all files in the directory, not just .jpg files**\n",
        "image_files = [f for f in os.listdir(image_folder)]\n",
        "\n",
        "# **Check if the directory is empty**\n",
        "if not image_files:\n",
        "    print(\"No files found in the directory. Please check the path.\")\n",
        "else:\n",
        "    # Select 5 random images (or fewer if there are less than 5 images)\n",
        "    num_images_to_select = min(5, len(image_files))\n",
        "    selected_images = random.sample(image_files, num_images_to_select)\n",
        "\n",
        "    # Display the images\n",
        "    for image_file in selected_images:\n",
        "        image_path = os.path.join(image_folder, image_file)\n",
        "        # **Check if the file is a jpg image before displaying**\n",
        "        if image_file.lower().endswith('.jpg'):\n",
        "            display(Image(filename=image_path))"
      ],
      "metadata": {
        "id": "JoDFJa9FS9uo",
        "outputId": "ad00d372-9064-44c4-bd5a-0fbee2fbf5b8",
        "colab": {
          "base_uri": "https://localhost:8080/",
          "height": 698
        }
      },
      "execution_count": 40,
      "outputs": [
        {
          "output_type": "display_data",
          "data": {
            "image/jpeg": "[encoded data removed]",
            "text/plain": [
              "<IPython.core.display.Image object>"
            ]
          },
          "metadata": {}
        },
        {
          "output_type": "display_data",
          "data": {
            "image/jpeg": "[encoded data removed]",
            "text/plain": [
              "<IPython.core.display.Image object>"
            ]
          },
          "metadata": {}
        },
        {
          "output_type": "display_data",
          "data": {
            "image/jpeg": "[encoded data removed]",
            "text/plain": [
              "<IPython.core.display.Image object>"
            ]
          },
          "metadata": {}
        },
        {
          "output_type": "display_data",
          "data": {
            "image/jpeg": "[encoded data removed]",
            "text/plain": [
              "<IPython.core.display.Image object>"
            ]
          },
          "metadata": {}
        },
        {
          "output_type": "display_data",
          "data": {
            "image/jpeg": "[encoded data removed]",
            "text/plain": [
              "<IPython.core.display.Image object>"
            ]
          },
          "metadata": {}
        }
      ]
    },
    {
      "cell_type": "markdown",
      "source": [
        "## implementing image analysis model\n",
        "form this section, based on [ISIC] Pytorch Training Baseline (Image only)"
      ],
      "metadata": {
        "id": "8-lUCxBiZWaN"
      }
    },
    {
      "cell_type": "code",
      "source": [
        "!pip install torcheval\n",
        "!pip install colorama\n",
        "!pip install timm\n",
        "!pip install albumentations"
      ],
      "metadata": {
        "id": "jLr18oWiZBBc",
        "outputId": "77793871-9917-4163-d478-187c404e4ae0",
        "colab": {
          "base_uri": "https://localhost:8080/",
          "height": 1000
        }
      },
      "execution_count": 44,
      "outputs": [
        {
          "output_type": "stream",
          "name": "stdout",
          "text": [
            "Requirement already satisfied: torcheval in /usr/local/lib/python3.10/dist-packages (0.0.7)\n",
            "Requirement already satisfied: typing-extensions in /usr/local/lib/python3.10/dist-packages (from torcheval) (4.12.2)\n",
            "Requirement already satisfied: colorama in /usr/local/lib/python3.10/dist-packages (0.4.6)\n",
            "Collecting timm\n",
            "  Downloading timm-1.0.8-py3-none-any.whl.metadata (53 kB)\n",
            "\u001b[2K     \u001b[90m━━━━━━━━━━━━━━━━━━━━━━━━━━━━━━━━━━━━━━━━\u001b[0m \u001b[32m53.8/53.8 kB\u001b[0m \u001b[31m878.3 kB/s\u001b[0m eta \u001b[36m0:00:00\u001b[0m\n",
            "\u001b[?25hRequirement already satisfied: torch in /usr/local/lib/python3.10/dist-packages (from timm) (2.3.0+cpu)\n",
            "Requirement already satisfied: torchvision in /usr/local/lib/python3.10/dist-packages (from timm) (0.18.0+cpu)\n",
            "Requirement already satisfied: pyyaml in /usr/local/lib/python3.10/dist-packages (from timm) (6.0.2)\n",
            "Requirement already satisfied: huggingface_hub in /usr/local/lib/python3.10/dist-packages (from timm) (0.23.5)\n",
            "Requirement already satisfied: safetensors in /usr/local/lib/python3.10/dist-packages (from timm) (0.4.4)\n",
            "Requirement already satisfied: filelock in /usr/local/lib/python3.10/dist-packages (from huggingface_hub->timm) (3.15.4)\n",
            "Requirement already satisfied: fsspec>=2023.5.0 in /usr/local/lib/python3.10/dist-packages (from huggingface_hub->timm) (2024.6.1)\n",
            "Requirement already satisfied: packaging>=20.9 in /usr/local/lib/python3.10/dist-packages (from huggingface_hub->timm) (24.1)\n",
            "Requirement already satisfied: requests in /usr/local/lib/python3.10/dist-packages (from huggingface_hub->timm) (2.32.3)\n",
            "Requirement already satisfied: tqdm>=4.42.1 in /usr/local/lib/python3.10/dist-packages (from huggingface_hub->timm) (4.66.5)\n",
            "Requirement already satisfied: typing-extensions>=3.7.4.3 in /usr/local/lib/python3.10/dist-packages (from huggingface_hub->timm) (4.12.2)\n",
            "Requirement already satisfied: sympy in /usr/local/lib/python3.10/dist-packages (from torch->timm) (1.13.1)\n",
            "Requirement already satisfied: networkx in /usr/local/lib/python3.10/dist-packages (from torch->timm) (3.3)\n",
            "Requirement already satisfied: jinja2 in /usr/local/lib/python3.10/dist-packages (from torch->timm) (3.1.4)\n",
            "Requirement already satisfied: numpy in /usr/local/lib/python3.10/dist-packages (from torchvision->timm) (1.26.4)\n",
            "Requirement already satisfied: pillow!=8.3.*,>=5.3.0 in /usr/local/lib/python3.10/dist-packages (from torchvision->timm) (10.4.0)\n",
            "Requirement already satisfied: MarkupSafe>=2.0 in /usr/local/lib/python3.10/dist-packages (from jinja2->torch->timm) (2.1.5)\n",
            "Requirement already satisfied: charset-normalizer<4,>=2 in /usr/local/lib/python3.10/dist-packages (from requests->huggingface_hub->timm) (3.3.2)\n",
            "Requirement already satisfied: idna<4,>=2.5 in /usr/local/lib/python3.10/dist-packages (from requests->huggingface_hub->timm) (3.7)\n",
            "Requirement already satisfied: urllib3<3,>=1.21.1 in /usr/local/lib/python3.10/dist-packages (from requests->huggingface_hub->timm) (2.0.7)\n",
            "Requirement already satisfied: certifi>=2017.4.17 in /usr/local/lib/python3.10/dist-packages (from requests->huggingface_hub->timm) (2024.7.4)\n",
            "Requirement already satisfied: mpmath<1.4,>=1.1.0 in /usr/local/lib/python3.10/dist-packages (from sympy->torch->timm) (1.3.0)\n",
            "Downloading timm-1.0.8-py3-none-any.whl (2.3 MB)\n",
            "\u001b[2K   \u001b[90m━━━━━━━━━━━━━━━━━━━━━━━━━━━━━━━━━━━━━━━━\u001b[0m \u001b[32m2.3/2.3 MB\u001b[0m \u001b[31m10.9 MB/s\u001b[0m eta \u001b[36m0:00:00\u001b[0m\n",
            "\u001b[?25hInstalling collected packages: timm\n",
            "Successfully installed timm-1.0.8\n",
            "Collecting albumentations\n",
            "  Downloading albumentations-1.4.13-py3-none-any.whl.metadata (38 kB)\n",
            "Requirement already satisfied: numpy>=1.24.4 in /usr/local/lib/python3.10/dist-packages (from albumentations) (1.26.4)\n",
            "Requirement already satisfied: scipy>=1.10.0 in /usr/local/lib/python3.10/dist-packages (from albumentations) (1.13.1)\n",
            "Requirement already satisfied: scikit-image>=0.21.0 in /usr/local/lib/python3.10/dist-packages (from albumentations) (0.23.2)\n",
            "Requirement already satisfied: PyYAML in /usr/local/lib/python3.10/dist-packages (from albumentations) (6.0.2)\n",
            "Requirement already satisfied: typing-extensions>=4.9.0 in /usr/local/lib/python3.10/dist-packages (from albumentations) (4.12.2)\n",
            "Requirement already satisfied: pydantic>=2.7.0 in /usr/local/lib/python3.10/dist-packages (from albumentations) (2.8.2)\n",
            "Collecting albucore>=0.0.13 (from albumentations)\n",
            "  Downloading albucore-0.0.13-py3-none-any.whl.metadata (3.1 kB)\n",
            "Collecting eval-type-backport (from albumentations)\n",
            "  Downloading eval_type_backport-0.2.0-py3-none-any.whl.metadata (2.2 kB)\n",
            "Collecting opencv-python-headless>=4.9.0.80 (from albumentations)\n",
            "  Downloading opencv_python_headless-4.10.0.84-cp37-abi3-manylinux_2_17_x86_64.manylinux2014_x86_64.whl.metadata (20 kB)\n",
            "Requirement already satisfied: tomli>=2.0.1 in /usr/local/lib/python3.10/dist-packages (from albucore>=0.0.13->albumentations) (2.0.1)\n",
            "Requirement already satisfied: annotated-types>=0.4.0 in /usr/local/lib/python3.10/dist-packages (from pydantic>=2.7.0->albumentations) (0.7.0)\n",
            "Requirement already satisfied: pydantic-core==2.20.1 in /usr/local/lib/python3.10/dist-packages (from pydantic>=2.7.0->albumentations) (2.20.1)\n",
            "Requirement already satisfied: networkx>=2.8 in /usr/local/lib/python3.10/dist-packages (from scikit-image>=0.21.0->albumentations) (3.3)\n",
            "Requirement already satisfied: pillow>=9.1 in /usr/local/lib/python3.10/dist-packages (from scikit-image>=0.21.0->albumentations) (10.4.0)\n",
            "Requirement already satisfied: imageio>=2.33 in /usr/local/lib/python3.10/dist-packages (from scikit-image>=0.21.0->albumentations) (2.34.2)\n",
            "Requirement already satisfied: tifffile>=2022.8.12 in /usr/local/lib/python3.10/dist-packages (from scikit-image>=0.21.0->albumentations) (2024.7.24)\n",
            "Requirement already satisfied: packaging>=21 in /usr/local/lib/python3.10/dist-packages (from scikit-image>=0.21.0->albumentations) (24.1)\n",
            "Requirement already satisfied: lazy-loader>=0.4 in /usr/local/lib/python3.10/dist-packages (from scikit-image>=0.21.0->albumentations) (0.4)\n",
            "Downloading albumentations-1.4.13-py3-none-any.whl (171 kB)\n",
            "\u001b[2K   \u001b[90m━━━━━━━━━━━━━━━━━━━━━━━━━━━━━━━━━━━━━━━━\u001b[0m \u001b[32m171.7/171.7 kB\u001b[0m \u001b[31m2.4 MB/s\u001b[0m eta \u001b[36m0:00:00\u001b[0m\n",
            "\u001b[?25hDownloading albucore-0.0.13-py3-none-any.whl (8.5 kB)\n",
            "Downloading opencv_python_headless-4.10.0.84-cp37-abi3-manylinux_2_17_x86_64.manylinux2014_x86_64.whl (49.9 MB)\n",
            "\u001b[2K   \u001b[90m━━━━━━━━━━━━━━━━━━━━━━━━━━━━━━━━━━━━━━━━\u001b[0m \u001b[32m49.9/49.9 MB\u001b[0m \u001b[31m22.7 MB/s\u001b[0m eta \u001b[36m0:00:00\u001b[0m\n",
            "\u001b[?25hDownloading eval_type_backport-0.2.0-py3-none-any.whl (5.9 kB)\n",
            "Installing collected packages: opencv-python-headless, eval-type-backport, albucore, albumentations\n",
            "Successfully installed albucore-0.0.13 albumentations-1.4.13 eval-type-backport-0.2.0 opencv-python-headless-4.10.0.84\n"
          ]
        },
        {
          "output_type": "display_data",
          "data": {
            "application/vnd.colab-display-data+json": {
              "pip_warning": {
                "packages": [
                  "cv2"
                ]
              },
              "id": "1d0c299aa67940ed92c7d1ee73dfc227"
            }
          },
          "metadata": {}
        }
      ]
    },
    {
      "cell_type": "code",
      "source": [
        "\n",
        "import os\n",
        "import gc\n",
        "import cv2\n",
        "import math\n",
        "import copy\n",
        "import time\n",
        "import random\n",
        "import glob\n",
        "from matplotlib import pyplot as plt\n",
        "\n",
        "# For data manipulation\n",
        "import numpy as np\n",
        "import pandas as pd\n",
        "\n",
        "# Pytorch Imports\n",
        "import torch\n",
        "import torch.nn as nn\n",
        "import torch.optim as optim\n",
        "import torch.nn.functional as F\n",
        "from torch.optim import lr_scheduler\n",
        "from torch.utils.data import Dataset, DataLoader\n",
        "from torch.cuda import amp\n",
        "import torchvision\n",
        "from torcheval.metrics.functional import binary_auroc\n",
        "\n",
        "# Utils\n",
        "import joblib\n",
        "from tqdm import tqdm\n",
        "from collections import defaultdict\n",
        "\n",
        "# Sklearn Imports\n",
        "from sklearn.preprocessing import LabelEncoder\n",
        "from sklearn.model_selection import StratifiedKFold, StratifiedGroupKFold\n",
        "\n",
        "# For Image Models\n",
        "import timm\n",
        "\n",
        "# Albumentations for augmentations\n",
        "import albumentations as A\n",
        "from albumentations.pytorch import ToTensorV2\n",
        "\n",
        "# For colored terminal text\n",
        "from colorama import Fore, Back, Style\n",
        "b_ = Fore.BLUE\n",
        "sr_ = Style.RESET_ALL\n",
        "\n",
        "import warnings\n",
        "warnings.filterwarnings(\"ignore\")\n",
        "\n",
        "# For descriptive error messages\n",
        "os.environ['CUDA_LAUNCH_BLOCKING'] = \"1\""
      ],
      "metadata": {
        "id": "TN0t1VjRZn8o"
      },
      "execution_count": 45,
      "outputs": []
    },
    {
      "cell_type": "markdown",
      "source": [
        "### Training Config"
      ],
      "metadata": {
        "id": "3m29p1o0Z0EY"
      }
    },
    {
      "cell_type": "code",
      "source": [
        "CONFIG = {\n",
        "    \"seed\": 42,\n",
        "    \"epochs\": 50,\n",
        "    \"img_size\": 384,\n",
        "    \"model_name\": \"tf_efficientnet_b0_ns\",\n",
        "    \"checkpoint_path\" : \"/kaggle/input/tf-efficientnet/pytorch/tf-efficientnet-b0/1/tf_efficientnet_b0_aa-827b6e33.pth\",\n",
        "    \"train_batch_size\": 32,\n",
        "    \"valid_batch_size\": 64,\n",
        "    \"learning_rate\": 1e-4,\n",
        "    \"scheduler\": 'CosineAnnealingLR',\n",
        "    \"min_lr\": 1e-6,\n",
        "    \"T_max\": 500,\n",
        "    \"weight_decay\": 1e-6,\n",
        "    \"fold\" : 0,\n",
        "    \"n_fold\": 5,\n",
        "    \"n_accumulate\": 1,\n",
        "    \"device\": torch.device(\"cuda:0\" if torch.cuda.is_available() else \"cpu\"),\n",
        "}"
      ],
      "metadata": {
        "id": "1gocOaiTZzrl"
      },
      "execution_count": 46,
      "outputs": []
    },
    {
      "cell_type": "code",
      "source": [
        "def set_seed(seed=42):\n",
        "    '''Sets the seed of the entire notebook so results are the same every time we run.\n",
        "    This is for REPRODUCIBILITY.'''\n",
        "    np.random.seed(seed)\n",
        "    torch.manual_seed(seed)\n",
        "    torch.cuda.manual_seed(seed)\n",
        "    # When running on the CuDNN backend, two further options must be set\n",
        "    torch.backends.cudnn.deterministic = True\n",
        "    torch.backends.cudnn.benchmark = False\n",
        "    # Set a fixed value for the hash seed\n",
        "    os.environ['PYTHONHASHSEED'] = str(seed)\n",
        "\n",
        "set_seed(CONFIG['seed'])\n"
      ],
      "metadata": {
        "id": "bcVAMdqfZ38L"
      },
      "execution_count": null,
      "outputs": []
    },
    {
      "cell_type": "code",
      "source": [
        "ROOT_DIR = \"/kaggle/input/isic-2024-challenge\"\n",
        "TRAIN_DIR = f'{ROOT_DIR}/train-image/image'\n",
        "def get_train_file_path(image_id):\n",
        "    return f\"{TRAIN_DIR}/{image_id}.jpg\""
      ],
      "metadata": {
        "id": "bKuJH8dsZ77K"
      },
      "execution_count": 89,
      "outputs": []
    },
    {
      "cell_type": "code",
      "source": [
        "train_images = sorted(glob.glob(f\"{TRAIN_DIR}/*.jpg\"))\n",
        "df = pd.read_csv(f\"{ROOT_DIR}/train-metadata.csv\")\n",
        "\n",
        "print(\"        df.shape, # of positive cases, # of patients\")\n",
        "print(\"original>\", df.shape, df.target.sum(), df[\"patient_id\"].unique().shape)\n",
        "\n",
        "df_positive = df[df[\"target\"] == 1].reset_index(drop=True)\n",
        "df_negative = df[df[\"target\"] == 0].reset_index(drop=True)\n",
        "\n",
        "df = pd.concat([df_positive, df_negative.iloc[:df_positive.shape[0]*20, :]])  # positive:negative = 1:20\n",
        "print(\"filtered>\", df.shape, df.target.sum(), df[\"patient_id\"].unique().shape)\n",
        "\n",
        "df['file_path'] = df['isic_id'].apply(get_train_file_path)\n",
        "df = df[ df[\"file_path\"].isin(train_images) ].reset_index(drop=True)\n",
        "df"
      ],
      "metadata": {
        "id": "CRe969A-Z-l1",
        "outputId": "675a1127-faa9-4d24-d077-3c0db04c2f8d",
        "colab": {
          "base_uri": "https://localhost:8080/",
          "height": 1000
        }
      },
      "execution_count": 90,
      "outputs": [
        {
          "output_type": "stream",
          "name": "stdout",
          "text": [
            "        df.shape, # of positive cases, # of patients\n",
            "original> (401059, 55) 393 (1042,)\n",
            "filtered> (8253, 55) 393 (950,)\n"
          ]
        },
        {
          "output_type": "execute_result",
          "data": {
            "text/plain": [
              "           isic_id  target  patient_id  age_approx     sex  \\\n",
              "0     ISIC_0082829       1  IP_3249371        80.0  female   \n",
              "1     ISIC_0096034       1  IP_6723298        75.0    male   \n",
              "2     ISIC_0104229       1  IP_9057861        80.0    male   \n",
              "3     ISIC_0119495       1  IP_6856511        60.0    male   \n",
              "4     ISIC_0157834       1  IP_3927284        55.0    male   \n",
              "...            ...     ...         ...         ...     ...   \n",
              "8248  ISIC_0267522       0  IP_9577633        50.0    male   \n",
              "8249  ISIC_0267560       0  IP_7746572        80.0    male   \n",
              "8250  ISIC_0267568       0  IP_0379091        60.0    male   \n",
              "8251  ISIC_0267594       0  IP_1433033        70.0     NaN   \n",
              "8252  ISIC_0267606       0  IP_8565023        30.0    male   \n",
              "\n",
              "     anatom_site_general  clin_size_long_diam_mm          image_type  \\\n",
              "0         anterior torso                    9.27  TBP tile: close-up   \n",
              "1              head/neck                    3.88  TBP tile: close-up   \n",
              "2         anterior torso                    6.55  TBP tile: close-up   \n",
              "3        upper extremity                    5.27  TBP tile: close-up   \n",
              "4        posterior torso                    5.29  TBP tile: close-up   \n",
              "...                  ...                     ...                 ...   \n",
              "8248     lower extremity                    4.94  TBP tile: close-up   \n",
              "8249      anterior torso                    9.32  TBP tile: close-up   \n",
              "8250      anterior torso                    3.45  TBP tile: close-up   \n",
              "8251     lower extremity                    3.00  TBP tile: close-up   \n",
              "8252           head/neck                    3.10  TBP tile: close-up   \n",
              "\n",
              "     tbp_tile_type   tbp_lv_A  ...  \\\n",
              "0           3D: XP  18.093368  ...   \n",
              "1        3D: white  26.187010  ...   \n",
              "2        3D: white  33.480140  ...   \n",
              "3        3D: white  25.872050  ...   \n",
              "4        3D: white  30.966662  ...   \n",
              "...            ...        ...  ...   \n",
              "8248        3D: XP  21.738880  ...   \n",
              "8249     3D: white  18.481750  ...   \n",
              "8250     3D: white  13.901465  ...   \n",
              "8251        3D: XP  17.986882  ...   \n",
              "8252        3D: XP  13.420060  ...   \n",
              "\n",
              "                                              iddx_full     iddx_1  \\\n",
              "0     Malignant::Malignant epidermal proliferations:...  Malignant   \n",
              "1     Malignant::Malignant adnexal epithelial prolif...  Malignant   \n",
              "2     Malignant::Malignant adnexal epithelial prolif...  Malignant   \n",
              "3     Malignant::Malignant epidermal proliferations:...  Malignant   \n",
              "4     Malignant::Malignant adnexal epithelial prolif...  Malignant   \n",
              "...                                                 ...        ...   \n",
              "8248                                             Benign     Benign   \n",
              "8249                                             Benign     Benign   \n",
              "8250                                             Benign     Benign   \n",
              "8251                                             Benign     Benign   \n",
              "8252                                             Benign     Benign   \n",
              "\n",
              "                                                 iddx_2  \\\n",
              "0                    Malignant epidermal proliferations   \n",
              "1     Malignant adnexal epithelial proliferations - ...   \n",
              "2     Malignant adnexal epithelial proliferations - ...   \n",
              "3                    Malignant epidermal proliferations   \n",
              "4     Malignant adnexal epithelial proliferations - ...   \n",
              "...                                                 ...   \n",
              "8248                                                NaN   \n",
              "8249                                                NaN   \n",
              "8250                                                NaN   \n",
              "8251                                                NaN   \n",
              "8252                                                NaN   \n",
              "\n",
              "                                 iddx_3                             iddx_4  \\\n",
              "0       Squamous cell carcinoma in situ                                NaN   \n",
              "1                  Basal cell carcinoma      Basal cell carcinoma, Nodular   \n",
              "2                  Basal cell carcinoma      Basal cell carcinoma, Nodular   \n",
              "3     Squamous cell carcinoma, Invasive                                NaN   \n",
              "4                  Basal cell carcinoma  Basal cell carcinoma, Superficial   \n",
              "...                                 ...                                ...   \n",
              "8248                                NaN                                NaN   \n",
              "8249                                NaN                                NaN   \n",
              "8250                                NaN                                NaN   \n",
              "8251                                NaN                                NaN   \n",
              "8252                                NaN                                NaN   \n",
              "\n",
              "      iddx_5  mel_mitotic_index  mel_thick_mm  tbp_lv_dnn_lesion_confidence  \\\n",
              "0        NaN                NaN           NaN                     72.211683   \n",
              "1        NaN                NaN           NaN                     94.559590   \n",
              "2        NaN                NaN           NaN                     66.196170   \n",
              "3        NaN                NaN           NaN                     99.991270   \n",
              "4        NaN                NaN           NaN                     99.960846   \n",
              "...      ...                ...           ...                           ...   \n",
              "8248     NaN                NaN           NaN                     96.325510   \n",
              "8249     NaN                NaN           NaN                     97.022320   \n",
              "8250     NaN                NaN           NaN                     72.961688   \n",
              "8251     NaN                NaN           NaN                     99.899274   \n",
              "8252     NaN                NaN           NaN                     99.449560   \n",
              "\n",
              "                                              file_path  \n",
              "0     /kaggle/input/isic-2024-challenge/train-image/...  \n",
              "1     /kaggle/input/isic-2024-challenge/train-image/...  \n",
              "2     /kaggle/input/isic-2024-challenge/train-image/...  \n",
              "3     /kaggle/input/isic-2024-challenge/train-image/...  \n",
              "4     /kaggle/input/isic-2024-challenge/train-image/...  \n",
              "...                                                 ...  \n",
              "8248  /kaggle/input/isic-2024-challenge/train-image/...  \n",
              "8249  /kaggle/input/isic-2024-challenge/train-image/...  \n",
              "8250  /kaggle/input/isic-2024-challenge/train-image/...  \n",
              "8251  /kaggle/input/isic-2024-challenge/train-image/...  \n",
              "8252  /kaggle/input/isic-2024-challenge/train-image/...  \n",
              "\n",
              "[8253 rows x 56 columns]"
            ],
            "text/html": [
              "\n",
              "  <div id=\"df-781ad9da-d338-4d42-965b-b20127f018e8\" class=\"colab-df-container\">\n",
              "    <div>\n",
              "<style scoped>\n",
              "    .dataframe tbody tr th:only-of-type {\n",
              "        vertical-align: middle;\n",
              "    }\n",
              "\n",
              "    .dataframe tbody tr th {\n",
              "        vertical-align: top;\n",
              "    }\n",
              "\n",
              "    .dataframe thead th {\n",
              "        text-align: right;\n",
              "    }\n",
              "</style>\n",
              "<table border=\"1\" class=\"dataframe\">\n",
              "  <thead>\n",
              "    <tr style=\"text-align: right;\">\n",
              "      <th></th>\n",
              "      <th>isic_id</th>\n",
              "      <th>target</th>\n",
              "      <th>patient_id</th>\n",
              "      <th>age_approx</th>\n",
              "      <th>sex</th>\n",
              "      <th>anatom_site_general</th>\n",
              "      <th>clin_size_long_diam_mm</th>\n",
              "      <th>image_type</th>\n",
              "      <th>tbp_tile_type</th>\n",
              "      <th>tbp_lv_A</th>\n",
              "      <th>...</th>\n",
              "      <th>iddx_full</th>\n",
              "      <th>iddx_1</th>\n",
              "      <th>iddx_2</th>\n",
              "      <th>iddx_3</th>\n",
              "      <th>iddx_4</th>\n",
              "      <th>iddx_5</th>\n",
              "      <th>mel_mitotic_index</th>\n",
              "      <th>mel_thick_mm</th>\n",
              "      <th>tbp_lv_dnn_lesion_confidence</th>\n",
              "      <th>file_path</th>\n",
              "    </tr>\n",
              "  </thead>\n",
              "  <tbody>\n",
              "    <tr>\n",
              "      <th>0</th>\n",
              "      <td>ISIC_0082829</td>\n",
              "      <td>1</td>\n",
              "      <td>IP_3249371</td>\n",
              "      <td>80.0</td>\n",
              "      <td>female</td>\n",
              "      <td>anterior torso</td>\n",
              "      <td>9.27</td>\n",
              "      <td>TBP tile: close-up</td>\n",
              "      <td>3D: XP</td>\n",
              "      <td>18.093368</td>\n",
              "      <td>...</td>\n",
              "      <td>Malignant::Malignant epidermal proliferations:...</td>\n",
              "      <td>Malignant</td>\n",
              "      <td>Malignant epidermal proliferations</td>\n",
              "      <td>Squamous cell carcinoma in situ</td>\n",
              "      <td>NaN</td>\n",
              "      <td>NaN</td>\n",
              "      <td>NaN</td>\n",
              "      <td>NaN</td>\n",
              "      <td>72.211683</td>\n",
              "      <td>/kaggle/input/isic-2024-challenge/train-image/...</td>\n",
              "    </tr>\n",
              "    <tr>\n",
              "      <th>1</th>\n",
              "      <td>ISIC_0096034</td>\n",
              "      <td>1</td>\n",
              "      <td>IP_6723298</td>\n",
              "      <td>75.0</td>\n",
              "      <td>male</td>\n",
              "      <td>head/neck</td>\n",
              "      <td>3.88</td>\n",
              "      <td>TBP tile: close-up</td>\n",
              "      <td>3D: white</td>\n",
              "      <td>26.187010</td>\n",
              "      <td>...</td>\n",
              "      <td>Malignant::Malignant adnexal epithelial prolif...</td>\n",
              "      <td>Malignant</td>\n",
              "      <td>Malignant adnexal epithelial proliferations - ...</td>\n",
              "      <td>Basal cell carcinoma</td>\n",
              "      <td>Basal cell carcinoma, Nodular</td>\n",
              "      <td>NaN</td>\n",
              "      <td>NaN</td>\n",
              "      <td>NaN</td>\n",
              "      <td>94.559590</td>\n",
              "      <td>/kaggle/input/isic-2024-challenge/train-image/...</td>\n",
              "    </tr>\n",
              "    <tr>\n",
              "      <th>2</th>\n",
              "      <td>ISIC_0104229</td>\n",
              "      <td>1</td>\n",
              "      <td>IP_9057861</td>\n",
              "      <td>80.0</td>\n",
              "      <td>male</td>\n",
              "      <td>anterior torso</td>\n",
              "      <td>6.55</td>\n",
              "      <td>TBP tile: close-up</td>\n",
              "      <td>3D: white</td>\n",
              "      <td>33.480140</td>\n",
              "      <td>...</td>\n",
              "      <td>Malignant::Malignant adnexal epithelial prolif...</td>\n",
              "      <td>Malignant</td>\n",
              "      <td>Malignant adnexal epithelial proliferations - ...</td>\n",
              "      <td>Basal cell carcinoma</td>\n",
              "      <td>Basal cell carcinoma, Nodular</td>\n",
              "      <td>NaN</td>\n",
              "      <td>NaN</td>\n",
              "      <td>NaN</td>\n",
              "      <td>66.196170</td>\n",
              "      <td>/kaggle/input/isic-2024-challenge/train-image/...</td>\n",
              "    </tr>\n",
              "    <tr>\n",
              "      <th>3</th>\n",
              "      <td>ISIC_0119495</td>\n",
              "      <td>1</td>\n",
              "      <td>IP_6856511</td>\n",
              "      <td>60.0</td>\n",
              "      <td>male</td>\n",
              "      <td>upper extremity</td>\n",
              "      <td>5.27</td>\n",
              "      <td>TBP tile: close-up</td>\n",
              "      <td>3D: white</td>\n",
              "      <td>25.872050</td>\n",
              "      <td>...</td>\n",
              "      <td>Malignant::Malignant epidermal proliferations:...</td>\n",
              "      <td>Malignant</td>\n",
              "      <td>Malignant epidermal proliferations</td>\n",
              "      <td>Squamous cell carcinoma, Invasive</td>\n",
              "      <td>NaN</td>\n",
              "      <td>NaN</td>\n",
              "      <td>NaN</td>\n",
              "      <td>NaN</td>\n",
              "      <td>99.991270</td>\n",
              "      <td>/kaggle/input/isic-2024-challenge/train-image/...</td>\n",
              "    </tr>\n",
              "    <tr>\n",
              "      <th>4</th>\n",
              "      <td>ISIC_0157834</td>\n",
              "      <td>1</td>\n",
              "      <td>IP_3927284</td>\n",
              "      <td>55.0</td>\n",
              "      <td>male</td>\n",
              "      <td>posterior torso</td>\n",
              "      <td>5.29</td>\n",
              "      <td>TBP tile: close-up</td>\n",
              "      <td>3D: white</td>\n",
              "      <td>30.966662</td>\n",
              "      <td>...</td>\n",
              "      <td>Malignant::Malignant adnexal epithelial prolif...</td>\n",
              "      <td>Malignant</td>\n",
              "      <td>Malignant adnexal epithelial proliferations - ...</td>\n",
              "      <td>Basal cell carcinoma</td>\n",
              "      <td>Basal cell carcinoma, Superficial</td>\n",
              "      <td>NaN</td>\n",
              "      <td>NaN</td>\n",
              "      <td>NaN</td>\n",
              "      <td>99.960846</td>\n",
              "      <td>/kaggle/input/isic-2024-challenge/train-image/...</td>\n",
              "    </tr>\n",
              "    <tr>\n",
              "      <th>...</th>\n",
              "      <td>...</td>\n",
              "      <td>...</td>\n",
              "      <td>...</td>\n",
              "      <td>...</td>\n",
              "      <td>...</td>\n",
              "      <td>...</td>\n",
              "      <td>...</td>\n",
              "      <td>...</td>\n",
              "      <td>...</td>\n",
              "      <td>...</td>\n",
              "      <td>...</td>\n",
              "      <td>...</td>\n",
              "      <td>...</td>\n",
              "      <td>...</td>\n",
              "      <td>...</td>\n",
              "      <td>...</td>\n",
              "      <td>...</td>\n",
              "      <td>...</td>\n",
              "      <td>...</td>\n",
              "      <td>...</td>\n",
              "      <td>...</td>\n",
              "    </tr>\n",
              "    <tr>\n",
              "      <th>8248</th>\n",
              "      <td>ISIC_0267522</td>\n",
              "      <td>0</td>\n",
              "      <td>IP_9577633</td>\n",
              "      <td>50.0</td>\n",
              "      <td>male</td>\n",
              "      <td>lower extremity</td>\n",
              "      <td>4.94</td>\n",
              "      <td>TBP tile: close-up</td>\n",
              "      <td>3D: XP</td>\n",
              "      <td>21.738880</td>\n",
              "      <td>...</td>\n",
              "      <td>Benign</td>\n",
              "      <td>Benign</td>\n",
              "      <td>NaN</td>\n",
              "      <td>NaN</td>\n",
              "      <td>NaN</td>\n",
              "      <td>NaN</td>\n",
              "      <td>NaN</td>\n",
              "      <td>NaN</td>\n",
              "      <td>96.325510</td>\n",
              "      <td>/kaggle/input/isic-2024-challenge/train-image/...</td>\n",
              "    </tr>\n",
              "    <tr>\n",
              "      <th>8249</th>\n",
              "      <td>ISIC_0267560</td>\n",
              "      <td>0</td>\n",
              "      <td>IP_7746572</td>\n",
              "      <td>80.0</td>\n",
              "      <td>male</td>\n",
              "      <td>anterior torso</td>\n",
              "      <td>9.32</td>\n",
              "      <td>TBP tile: close-up</td>\n",
              "      <td>3D: white</td>\n",
              "      <td>18.481750</td>\n",
              "      <td>...</td>\n",
              "      <td>Benign</td>\n",
              "      <td>Benign</td>\n",
              "      <td>NaN</td>\n",
              "      <td>NaN</td>\n",
              "      <td>NaN</td>\n",
              "      <td>NaN</td>\n",
              "      <td>NaN</td>\n",
              "      <td>NaN</td>\n",
              "      <td>97.022320</td>\n",
              "      <td>/kaggle/input/isic-2024-challenge/train-image/...</td>\n",
              "    </tr>\n",
              "    <tr>\n",
              "      <th>8250</th>\n",
              "      <td>ISIC_0267568</td>\n",
              "      <td>0</td>\n",
              "      <td>IP_0379091</td>\n",
              "      <td>60.0</td>\n",
              "      <td>male</td>\n",
              "      <td>anterior torso</td>\n",
              "      <td>3.45</td>\n",
              "      <td>TBP tile: close-up</td>\n",
              "      <td>3D: white</td>\n",
              "      <td>13.901465</td>\n",
              "      <td>...</td>\n",
              "      <td>Benign</td>\n",
              "      <td>Benign</td>\n",
              "      <td>NaN</td>\n",
              "      <td>NaN</td>\n",
              "      <td>NaN</td>\n",
              "      <td>NaN</td>\n",
              "      <td>NaN</td>\n",
              "      <td>NaN</td>\n",
              "      <td>72.961688</td>\n",
              "      <td>/kaggle/input/isic-2024-challenge/train-image/...</td>\n",
              "    </tr>\n",
              "    <tr>\n",
              "      <th>8251</th>\n",
              "      <td>ISIC_0267594</td>\n",
              "      <td>0</td>\n",
              "      <td>IP_1433033</td>\n",
              "      <td>70.0</td>\n",
              "      <td>NaN</td>\n",
              "      <td>lower extremity</td>\n",
              "      <td>3.00</td>\n",
              "      <td>TBP tile: close-up</td>\n",
              "      <td>3D: XP</td>\n",
              "      <td>17.986882</td>\n",
              "      <td>...</td>\n",
              "      <td>Benign</td>\n",
              "      <td>Benign</td>\n",
              "      <td>NaN</td>\n",
              "      <td>NaN</td>\n",
              "      <td>NaN</td>\n",
              "      <td>NaN</td>\n",
              "      <td>NaN</td>\n",
              "      <td>NaN</td>\n",
              "      <td>99.899274</td>\n",
              "      <td>/kaggle/input/isic-2024-challenge/train-image/...</td>\n",
              "    </tr>\n",
              "    <tr>\n",
              "      <th>8252</th>\n",
              "      <td>ISIC_0267606</td>\n",
              "      <td>0</td>\n",
              "      <td>IP_8565023</td>\n",
              "      <td>30.0</td>\n",
              "      <td>male</td>\n",
              "      <td>head/neck</td>\n",
              "      <td>3.10</td>\n",
              "      <td>TBP tile: close-up</td>\n",
              "      <td>3D: XP</td>\n",
              "      <td>13.420060</td>\n",
              "      <td>...</td>\n",
              "      <td>Benign</td>\n",
              "      <td>Benign</td>\n",
              "      <td>NaN</td>\n",
              "      <td>NaN</td>\n",
              "      <td>NaN</td>\n",
              "      <td>NaN</td>\n",
              "      <td>NaN</td>\n",
              "      <td>NaN</td>\n",
              "      <td>99.449560</td>\n",
              "      <td>/kaggle/input/isic-2024-challenge/train-image/...</td>\n",
              "    </tr>\n",
              "  </tbody>\n",
              "</table>\n",
              "<p>8253 rows × 56 columns</p>\n",
              "</div>\n",
              "    <div class=\"colab-df-buttons\">\n",
              "\n",
              "  <div class=\"colab-df-container\">\n",
              "    <button class=\"colab-df-convert\" onclick=\"convertToInteractive('df-781ad9da-d338-4d42-965b-b20127f018e8')\"\n",
              "            title=\"Convert this dataframe to an interactive table.\"\n",
              "            style=\"display:none;\">\n",
              "\n",
              "  <svg xmlns=\"http://www.w3.org/2000/svg\" height=\"24px\" viewBox=\"0 -960 960 960\">\n",
              "    <path d=\"M120-120v-720h720v720H120Zm60-500h600v-160H180v160Zm220 220h160v-160H400v160Zm0 220h160v-160H400v160ZM180-400h160v-160H180v160Zm440 0h160v-160H620v160ZM180-180h160v-160H180v160Zm440 0h160v-160H620v160Z\"/>\n",
              "  </svg>\n",
              "    </button>\n",
              "\n",
              "  <style>\n",
              "    .colab-df-container {\n",
              "      display:flex;\n",
              "      gap: 12px;\n",
              "    }\n",
              "\n",
              "    .colab-df-convert {\n",
              "      background-color: #E8F0FE;\n",
              "      border: none;\n",
              "      border-radius: 50%;\n",
              "      cursor: pointer;\n",
              "      display: none;\n",
              "      fill: #1967D2;\n",
              "      height: 32px;\n",
              "      padding: 0 0 0 0;\n",
              "      width: 32px;\n",
              "    }\n",
              "\n",
              "    .colab-df-convert:hover {\n",
              "      background-color: #E2EBFA;\n",
              "      box-shadow: 0px 1px 2px rgba(60, 64, 67, 0.3), 0px 1px 3px 1px rgba(60, 64, 67, 0.15);\n",
              "      fill: #174EA6;\n",
              "    }\n",
              "\n",
              "    .colab-df-buttons div {\n",
              "      margin-bottom: 4px;\n",
              "    }\n",
              "\n",
              "    [theme=dark] .colab-df-convert {\n",
              "      background-color: #3B4455;\n",
              "      fill: #D2E3FC;\n",
              "    }\n",
              "\n",
              "    [theme=dark] .colab-df-convert:hover {\n",
              "      background-color: #434B5C;\n",
              "      box-shadow: 0px 1px 3px 1px rgba(0, 0, 0, 0.15);\n",
              "      filter: drop-shadow(0px 1px 2px rgba(0, 0, 0, 0.3));\n",
              "      fill: #FFFFFF;\n",
              "    }\n",
              "  </style>\n",
              "\n",
              "    <script>\n",
              "      const buttonEl =\n",
              "        document.querySelector('#df-781ad9da-d338-4d42-965b-b20127f018e8 button.colab-df-convert');\n",
              "      buttonEl.style.display =\n",
              "        google.colab.kernel.accessAllowed ? 'block' : 'none';\n",
              "\n",
              "      async function convertToInteractive(key) {\n",
              "        const element = document.querySelector('#df-781ad9da-d338-4d42-965b-b20127f018e8');\n",
              "        const dataTable =\n",
              "          await google.colab.kernel.invokeFunction('convertToInteractive',\n",
              "                                                    [key], {});\n",
              "        if (!dataTable) return;\n",
              "\n",
              "        const docLinkHtml = 'Like what you see? Visit the ' +\n",
              "          '<a target=\"_blank\" href=https://colab.research.google.com/notebooks/data_table.ipynb>data table notebook</a>'\n",
              "          + ' to learn more about interactive tables.';\n",
              "        element.innerHTML = '';\n",
              "        dataTable['output_type'] = 'display_data';\n",
              "        await google.colab.output.renderOutput(dataTable, element);\n",
              "        const docLink = document.createElement('div');\n",
              "        docLink.innerHTML = docLinkHtml;\n",
              "        element.appendChild(docLink);\n",
              "      }\n",
              "    </script>\n",
              "  </div>\n",
              "\n",
              "\n",
              "<div id=\"df-45ea66f4-215b-453b-8aba-0a6eb3a19f9e\">\n",
              "  <button class=\"colab-df-quickchart\" onclick=\"quickchart('df-45ea66f4-215b-453b-8aba-0a6eb3a19f9e')\"\n",
              "            title=\"Suggest charts\"\n",
              "            style=\"display:none;\">\n",
              "\n",
              "<svg xmlns=\"http://www.w3.org/2000/svg\" height=\"24px\"viewBox=\"0 0 24 24\"\n",
              "     width=\"24px\">\n",
              "    <g>\n",
              "        <path d=\"M19 3H5c-1.1 0-2 .9-2 2v14c0 1.1.9 2 2 2h14c1.1 0 2-.9 2-2V5c0-1.1-.9-2-2-2zM9 17H7v-7h2v7zm4 0h-2V7h2v10zm4 0h-2v-4h2v4z\"/>\n",
              "    </g>\n",
              "</svg>\n",
              "  </button>\n",
              "\n",
              "<style>\n",
              "  .colab-df-quickchart {\n",
              "      --bg-color: #E8F0FE;\n",
              "      --fill-color: #1967D2;\n",
              "      --hover-bg-color: #E2EBFA;\n",
              "      --hover-fill-color: #174EA6;\n",
              "      --disabled-fill-color: #AAA;\n",
              "      --disabled-bg-color: #DDD;\n",
              "  }\n",
              "\n",
              "  [theme=dark] .colab-df-quickchart {\n",
              "      --bg-color: #3B4455;\n",
              "      --fill-color: #D2E3FC;\n",
              "      --hover-bg-color: #434B5C;\n",
              "      --hover-fill-color: #FFFFFF;\n",
              "      --disabled-bg-color: #3B4455;\n",
              "      --disabled-fill-color: #666;\n",
              "  }\n",
              "\n",
              "  .colab-df-quickchart {\n",
              "    background-color: var(--bg-color);\n",
              "    border: none;\n",
              "    border-radius: 50%;\n",
              "    cursor: pointer;\n",
              "    display: none;\n",
              "    fill: var(--fill-color);\n",
              "    height: 32px;\n",
              "    padding: 0;\n",
              "    width: 32px;\n",
              "  }\n",
              "\n",
              "  .colab-df-quickchart:hover {\n",
              "    background-color: var(--hover-bg-color);\n",
              "    box-shadow: 0 1px 2px rgba(60, 64, 67, 0.3), 0 1px 3px 1px rgba(60, 64, 67, 0.15);\n",
              "    fill: var(--button-hover-fill-color);\n",
              "  }\n",
              "\n",
              "  .colab-df-quickchart-complete:disabled,\n",
              "  .colab-df-quickchart-complete:disabled:hover {\n",
              "    background-color: var(--disabled-bg-color);\n",
              "    fill: var(--disabled-fill-color);\n",
              "    box-shadow: none;\n",
              "  }\n",
              "\n",
              "  .colab-df-spinner {\n",
              "    border: 2px solid var(--fill-color);\n",
              "    border-color: transparent;\n",
              "    border-bottom-color: var(--fill-color);\n",
              "    animation:\n",
              "      spin 1s steps(1) infinite;\n",
              "  }\n",
              "\n",
              "  @keyframes spin {\n",
              "    0% {\n",
              "      border-color: transparent;\n",
              "      border-bottom-color: var(--fill-color);\n",
              "      border-left-color: var(--fill-color);\n",
              "    }\n",
              "    20% {\n",
              "      border-color: transparent;\n",
              "      border-left-color: var(--fill-color);\n",
              "      border-top-color: var(--fill-color);\n",
              "    }\n",
              "    30% {\n",
              "      border-color: transparent;\n",
              "      border-left-color: var(--fill-color);\n",
              "      border-top-color: var(--fill-color);\n",
              "      border-right-color: var(--fill-color);\n",
              "    }\n",
              "    40% {\n",
              "      border-color: transparent;\n",
              "      border-right-color: var(--fill-color);\n",
              "      border-top-color: var(--fill-color);\n",
              "    }\n",
              "    60% {\n",
              "      border-color: transparent;\n",
              "      border-right-color: var(--fill-color);\n",
              "    }\n",
              "    80% {\n",
              "      border-color: transparent;\n",
              "      border-right-color: var(--fill-color);\n",
              "      border-bottom-color: var(--fill-color);\n",
              "    }\n",
              "    90% {\n",
              "      border-color: transparent;\n",
              "      border-bottom-color: var(--fill-color);\n",
              "    }\n",
              "  }\n",
              "</style>\n",
              "\n",
              "  <script>\n",
              "    async function quickchart(key) {\n",
              "      const quickchartButtonEl =\n",
              "        document.querySelector('#' + key + ' button');\n",
              "      quickchartButtonEl.disabled = true;  // To prevent multiple clicks.\n",
              "      quickchartButtonEl.classList.add('colab-df-spinner');\n",
              "      try {\n",
              "        const charts = await google.colab.kernel.invokeFunction(\n",
              "            'suggestCharts', [key], {});\n",
              "      } catch (error) {\n",
              "        console.error('Error during call to suggestCharts:', error);\n",
              "      }\n",
              "      quickchartButtonEl.classList.remove('colab-df-spinner');\n",
              "      quickchartButtonEl.classList.add('colab-df-quickchart-complete');\n",
              "    }\n",
              "    (() => {\n",
              "      let quickchartButtonEl =\n",
              "        document.querySelector('#df-45ea66f4-215b-453b-8aba-0a6eb3a19f9e button');\n",
              "      quickchartButtonEl.style.display =\n",
              "        google.colab.kernel.accessAllowed ? 'block' : 'none';\n",
              "    })();\n",
              "  </script>\n",
              "</div>\n",
              "\n",
              "  <div id=\"id_c19d699d-3e3c-47e6-8520-3c77f3587bc5\">\n",
              "    <style>\n",
              "      .colab-df-generate {\n",
              "        background-color: #E8F0FE;\n",
              "        border: none;\n",
              "        border-radius: 50%;\n",
              "        cursor: pointer;\n",
              "        display: none;\n",
              "        fill: #1967D2;\n",
              "        height: 32px;\n",
              "        padding: 0 0 0 0;\n",
              "        width: 32px;\n",
              "      }\n",
              "\n",
              "      .colab-df-generate:hover {\n",
              "        background-color: #E2EBFA;\n",
              "        box-shadow: 0px 1px 2px rgba(60, 64, 67, 0.3), 0px 1px 3px 1px rgba(60, 64, 67, 0.15);\n",
              "        fill: #174EA6;\n",
              "      }\n",
              "\n",
              "      [theme=dark] .colab-df-generate {\n",
              "        background-color: #3B4455;\n",
              "        fill: #D2E3FC;\n",
              "      }\n",
              "\n",
              "      [theme=dark] .colab-df-generate:hover {\n",
              "        background-color: #434B5C;\n",
              "        box-shadow: 0px 1px 3px 1px rgba(0, 0, 0, 0.15);\n",
              "        filter: drop-shadow(0px 1px 2px rgba(0, 0, 0, 0.3));\n",
              "        fill: #FFFFFF;\n",
              "      }\n",
              "    </style>\n",
              "    <button class=\"colab-df-generate\" onclick=\"generateWithVariable('df')\"\n",
              "            title=\"Generate code using this dataframe.\"\n",
              "            style=\"display:none;\">\n",
              "\n",
              "  <svg xmlns=\"http://www.w3.org/2000/svg\" height=\"24px\"viewBox=\"0 0 24 24\"\n",
              "       width=\"24px\">\n",
              "    <path d=\"M7,19H8.4L18.45,9,17,7.55,7,17.6ZM5,21V16.75L18.45,3.32a2,2,0,0,1,2.83,0l1.4,1.43a1.91,1.91,0,0,1,.58,1.4,1.91,1.91,0,0,1-.58,1.4L9.25,21ZM18.45,9,17,7.55Zm-12,3A5.31,5.31,0,0,0,4.9,8.1,5.31,5.31,0,0,0,1,6.5,5.31,5.31,0,0,0,4.9,4.9,5.31,5.31,0,0,0,6.5,1,5.31,5.31,0,0,0,8.1,4.9,5.31,5.31,0,0,0,12,6.5,5.46,5.46,0,0,0,6.5,12Z\"/>\n",
              "  </svg>\n",
              "    </button>\n",
              "    <script>\n",
              "      (() => {\n",
              "      const buttonEl =\n",
              "        document.querySelector('#id_c19d699d-3e3c-47e6-8520-3c77f3587bc5 button.colab-df-generate');\n",
              "      buttonEl.style.display =\n",
              "        google.colab.kernel.accessAllowed ? 'block' : 'none';\n",
              "\n",
              "      buttonEl.onclick = () => {\n",
              "        google.colab.notebook.generateWithVariable('df');\n",
              "      }\n",
              "      })();\n",
              "    </script>\n",
              "  </div>\n",
              "\n",
              "    </div>\n",
              "  </div>\n"
            ],
            "application/vnd.google.colaboratory.intrinsic+json": {
              "type": "dataframe",
              "variable_name": "df"
            }
          },
          "metadata": {},
          "execution_count": 90
        }
      ]
    },
    {
      "cell_type": "code",
      "source": [
        "df.shape[0], df.target.sum()"
      ],
      "metadata": {
        "id": "zcK4rnb0aFr3",
        "outputId": "6bbaa485-16e3-47ad-b1c1-ce2baa22953d",
        "colab": {
          "base_uri": "https://localhost:8080/"
        }
      },
      "execution_count": 91,
      "outputs": [
        {
          "output_type": "execute_result",
          "data": {
            "text/plain": [
              "(8253, 393)"
            ]
          },
          "metadata": {},
          "execution_count": 91
        }
      ]
    },
    {
      "cell_type": "code",
      "source": [
        "CONFIG['T_max'] = df.shape[0] * (CONFIG[\"n_fold\"]-1) * CONFIG['epochs'] // CONFIG['train_batch_size'] // CONFIG[\"n_fold\"]\n",
        "CONFIG['T_max']"
      ],
      "metadata": {
        "id": "90MTIrOvaGlP",
        "outputId": "2d4bf63b-5702-4bc8-d62f-e04b21b09ce6",
        "colab": {
          "base_uri": "https://localhost:8080/"
        }
      },
      "execution_count": 92,
      "outputs": [
        {
          "output_type": "execute_result",
          "data": {
            "text/plain": [
              "10316"
            ]
          },
          "metadata": {},
          "execution_count": 92
        }
      ]
    },
    {
      "cell_type": "markdown",
      "source": [
        "### Create Folds"
      ],
      "metadata": {
        "id": "JlehAoxPaJre"
      }
    },
    {
      "cell_type": "code",
      "source": [
        "sgkf = StratifiedGroupKFold(n_splits=CONFIG['n_fold'])\n",
        "\n",
        "for fold, ( _, val_) in enumerate(sgkf.split(df, df.target,df.patient_id)):\n",
        "      df.loc[val_ , \"kfold\"] = int(fold)"
      ],
      "metadata": {
        "id": "hRWSf_6JaJax"
      },
      "execution_count": 93,
      "outputs": []
    },
    {
      "cell_type": "code",
      "source": [
        "class ISICDataset_for_Train(Dataset):\n",
        "    def __init__(self, df, transforms=None):\n",
        "        self.df_positive = df[df[\"target\"] == 1].reset_index()\n",
        "        self.df_negative = df[df[\"target\"] == 0].reset_index()\n",
        "        self.file_names_positive = self.df_positive['file_path'].values\n",
        "        self.file_names_negative = self.df_negative['file_path'].values\n",
        "        self.targets_positive = self.df_positive['target'].values\n",
        "        self.targets_negative = self.df_negative['target'].values\n",
        "        self.transforms = transforms\n",
        "\n",
        "    def __len__(self):\n",
        "        return len(self.df_positive) * 2\n",
        "\n",
        "    def __getitem__(self, index):\n",
        "        if random.random() >= 0.5:\n",
        "            df = self.df_positive\n",
        "            file_names = self.file_names_positive\n",
        "            targets = self.targets_positive\n",
        "        else:\n",
        "            df = self.df_negative\n",
        "            file_names = self.file_names_negative\n",
        "            targets = self.targets_negative\n",
        "        index = index % df.shape[0]\n",
        "\n",
        "        img_path = file_names[index]\n",
        "        img = cv2.imread(img_path)\n",
        "        img = cv2.cvtColor(img, cv2.COLOR_BGR2RGB)\n",
        "        target = targets[index]\n",
        "\n",
        "        if self.transforms:\n",
        "            img = self.transforms(image=img)[\"image\"]\n",
        "\n",
        "        return {\n",
        "            'image': img,\n",
        "            'target': target\n",
        "        }\n",
        "\n",
        "class ISICDataset(Dataset):\n",
        "    def __init__(self, df, transforms=None):\n",
        "        self.df = df\n",
        "        self.file_names = df['file_path'].values\n",
        "        self.targets = df['target'].values\n",
        "        self.transforms = transforms\n",
        "\n",
        "    def __len__(self):\n",
        "        return len(self.df)\n",
        "\n",
        "    def __getitem__(self, index):\n",
        "        img_path = self.file_names[index]\n",
        "        img = cv2.imread(img_path)\n",
        "        img = cv2.cvtColor(img, cv2.COLOR_BGR2RGB)\n",
        "        target = self.targets[index]\n",
        "\n",
        "        if self.transforms:\n",
        "            img = self.transforms(image=img)[\"image\"]\n",
        "\n",
        "        return {\n",
        "            'image': img,\n",
        "            'target': target\n",
        "        }"
      ],
      "metadata": {
        "id": "hcZcZREEaO9T"
      },
      "execution_count": 94,
      "outputs": []
    },
    {
      "cell_type": "code",
      "source": [
        "data_transforms = {\n",
        "    \"train\": A.Compose([\n",
        "        A.Resize(CONFIG['img_size'], CONFIG['img_size']),\n",
        "        A.RandomRotate90(p=0.5),\n",
        "        A.Flip(p=0.5),\n",
        "        A.Downscale(p=0.25),\n",
        "        A.ShiftScaleRotate(shift_limit=0.1,\n",
        "                           scale_limit=0.15,\n",
        "                           rotate_limit=60,\n",
        "                           p=0.5),\n",
        "        A.HueSaturationValue(\n",
        "                hue_shift_limit=0.2,\n",
        "                sat_shift_limit=0.2,\n",
        "                val_shift_limit=0.2,\n",
        "                p=0.5\n",
        "            ),\n",
        "        A.RandomBrightnessContrast(\n",
        "                brightness_limit=(-0.1,0.1),\n",
        "                contrast_limit=(-0.1, 0.1),\n",
        "                p=0.5\n",
        "            ),\n",
        "        A.Normalize(\n",
        "                mean=[0.485, 0.456, 0.406],\n",
        "                std=[0.229, 0.224, 0.225],\n",
        "                max_pixel_value=255.0,\n",
        "                p=1.0\n",
        "            ),\n",
        "        ToTensorV2()], p=1.),\n",
        "\n",
        "    \"valid\": A.Compose([\n",
        "        A.Resize(CONFIG['img_size'], CONFIG['img_size']),\n",
        "        A.Normalize(\n",
        "                mean=[0.485, 0.456, 0.406],\n",
        "                std=[0.229, 0.224, 0.225],\n",
        "                max_pixel_value=255.0,\n",
        "                p=1.0\n",
        "            ),\n",
        "        ToTensorV2()], p=1.)\n",
        "}"
      ],
      "metadata": {
        "id": "vkr793g8aRgo"
      },
      "execution_count": 95,
      "outputs": []
    },
    {
      "cell_type": "markdown",
      "source": [
        "### GeM Pooling"
      ],
      "metadata": {
        "id": "oHT4JKdmaYQc"
      }
    },
    {
      "cell_type": "code",
      "source": [
        "class GeM(nn.Module):\n",
        "    def __init__(self, p=3, eps=1e-6):\n",
        "        super(GeM, self).__init__()\n",
        "        self.p = nn.Parameter(torch.ones(1)*p)\n",
        "        self.eps = eps\n",
        "\n",
        "    def forward(self, x):\n",
        "        return self.gem(x, p=self.p, eps=self.eps)\n",
        "\n",
        "    def gem(self, x, p=3, eps=1e-6):\n",
        "        return F.avg_pool2d(x.clamp(min=eps).pow(p), (x.size(-2), x.size(-1))).pow(1./p)\n",
        "\n",
        "    def __repr__(self):\n",
        "        return self.__class__.__name__ + \\\n",
        "                '(' + 'p=' + '{:.4f}'.format(self.p.data.tolist()[0]) + \\\n",
        "                ', ' + 'eps=' + str(self.eps) + ')'"
      ],
      "metadata": {
        "id": "W12Ykp1TaX1z"
      },
      "execution_count": 52,
      "outputs": []
    },
    {
      "cell_type": "code",
      "source": [
        "# Verify if the checkpoint file exists at the specified path.\n",
        "# If it doesn't, either correct the path or remove the checkpoint_path argument.\n",
        "!ls {CONFIG['checkpoint_path']}\n",
        "\n",
        "class ISICModel(nn.Module):\n",
        "    def __init__(self, model_name, num_classes=1, pretrained=True, checkpoint_path=None):\n",
        "        super(ISICModel, self).__init__()\n",
        "        # If the checkpoint file does not exist, remove the checkpoint_path argument.\n",
        "        if checkpoint_path and not os.path.exists(checkpoint_path):\n",
        "            print(f\"Warning: Checkpoint file not found at {checkpoint_path}. Proceeding without loading checkpoint.\")\n",
        "            checkpoint_path = None\n",
        "        self.model = timm.create_model(model_name, pretrained=pretrained, checkpoint_path=checkpoint_path)\n",
        "\n",
        "        in_features = self.model.classifier.in_features\n",
        "        self.model.classifier = nn.Identity()\n",
        "        self.model.global_pool = nn.Identity()\n",
        "        self.pooling = GeM()\n",
        "        self.linear = nn.Linear(in_features, num_classes)\n",
        "        self.sigmoid = nn.Sigmoid()\n",
        "\n",
        "    def forward(self, images):\n",
        "        features = self.model(images)\n",
        "        pooled_features = self.pooling(features).flatten(1)\n",
        "        output = self.sigmoid(self.linear(pooled_features))\n",
        "        return output\n",
        "\n",
        "\n",
        "model = ISICModel(CONFIG['model_name'], checkpoint_path=CONFIG['checkpoint_path'])\n",
        "model.to(CONFIG['device']);"
      ],
      "metadata": {
        "id": "OMpdK0Y0adEK",
        "outputId": "8e7b57e0-9d93-431c-9788-17bd5acb2492",
        "colab": {
          "base_uri": "https://localhost:8080/"
        }
      },
      "execution_count": 53,
      "outputs": [
        {
          "output_type": "stream",
          "name": "stdout",
          "text": [
            "ls: cannot access '/kaggle/input/tf-efficientnet/pytorch/tf-efficientnet-b0/1/tf_efficientnet_b0_aa-827b6e33.pth': No such file or directory\n",
            "Warning: Checkpoint file not found at /kaggle/input/tf-efficientnet/pytorch/tf-efficientnet-b0/1/tf_efficientnet_b0_aa-827b6e33.pth. Proceeding without loading checkpoint.\n"
          ]
        }
      ]
    },
    {
      "cell_type": "markdown",
      "source": [
        "### Define **Loss**"
      ],
      "metadata": {
        "id": "6c2jl-cFa22V"
      }
    },
    {
      "cell_type": "code",
      "source": [
        "def criterion(outputs, targets):\n",
        "    return nn.BCELoss()(outputs, targets)"
      ],
      "metadata": {
        "id": "78TfmMDFa0f7"
      },
      "execution_count": 96,
      "outputs": []
    },
    {
      "cell_type": "markdown",
      "source": [
        "### Training Function"
      ],
      "metadata": {
        "id": "HbI_RN1va9BI"
      }
    },
    {
      "cell_type": "code",
      "source": [
        "def train_one_epoch(model, optimizer, scheduler, dataloader, device, epoch):\n",
        "    model.train()\n",
        "\n",
        "    dataset_size = 0\n",
        "    running_loss = 0.0\n",
        "    running_auroc  = 0.0\n",
        "\n",
        "    bar = tqdm(enumerate(dataloader), total=len(dataloader))\n",
        "    for step, data in bar:\n",
        "        images = data['image'].to(device, dtype=torch.float)\n",
        "        targets = data['target'].to(device, dtype=torch.float)\n",
        "\n",
        "        batch_size = images.size(0)\n",
        "\n",
        "        outputs = model(images).squeeze()\n",
        "        loss = criterion(outputs, targets)\n",
        "        loss = loss / CONFIG['n_accumulate']\n",
        "\n",
        "        loss.backward()\n",
        "\n",
        "        if (step + 1) % CONFIG['n_accumulate'] == 0:\n",
        "            optimizer.step()\n",
        "\n",
        "            # zero the parameter gradients\n",
        "            optimizer.zero_grad()\n",
        "\n",
        "            if scheduler is not None:\n",
        "                scheduler.step()\n",
        "\n",
        "        auroc = binary_auroc(input=outputs.squeeze(), target=targets).item()\n",
        "\n",
        "        running_loss += (loss.item() * batch_size)\n",
        "        running_auroc  += (auroc * batch_size)\n",
        "        dataset_size += batch_size\n",
        "\n",
        "        epoch_loss = running_loss / dataset_size\n",
        "        epoch_auroc = running_auroc / dataset_size\n",
        "\n",
        "        bar.set_postfix(Epoch=epoch, Train_Loss=epoch_loss, Train_Auroc=epoch_auroc,\n",
        "                        LR=optimizer.param_groups[0]['lr'])\n",
        "    gc.collect()\n",
        "\n",
        "    return epoch_loss, epoch_auroc"
      ],
      "metadata": {
        "id": "0JDAw0Mta_eS"
      },
      "execution_count": 97,
      "outputs": []
    },
    {
      "cell_type": "markdown",
      "source": [
        "### Validation"
      ],
      "metadata": {
        "id": "wP7r5H9AbC0N"
      }
    },
    {
      "cell_type": "code",
      "source": [
        "@torch.inference_mode()\n",
        "def valid_one_epoch(model, dataloader, device, epoch):\n",
        "    model.eval()\n",
        "\n",
        "    dataset_size = 0\n",
        "    running_loss = 0.0\n",
        "    running_auroc = 0.0\n",
        "\n",
        "    bar = tqdm(enumerate(dataloader), total=len(dataloader))\n",
        "    for step, data in bar:\n",
        "        images = data['image'].to(device, dtype=torch.float)\n",
        "        targets = data['target'].to(device, dtype=torch.float)\n",
        "\n",
        "        batch_size = images.size(0)\n",
        "\n",
        "        outputs = model(images).squeeze()\n",
        "        loss = criterion(outputs, targets)\n",
        "\n",
        "        auroc = binary_auroc(input=outputs.squeeze(), target=targets).item()\n",
        "        running_loss += (loss.item() * batch_size)\n",
        "        running_auroc  += (auroc * batch_size)\n",
        "        dataset_size += batch_size\n",
        "\n",
        "        epoch_loss = running_loss / dataset_size\n",
        "        epoch_auroc = running_auroc / dataset_size\n",
        "\n",
        "        bar.set_postfix(Epoch=epoch, Valid_Loss=epoch_loss, Valid_Auroc=epoch_auroc,\n",
        "                        LR=optimizer.param_groups[0]['lr'])\n",
        "\n",
        "    gc.collect()\n",
        "\n",
        "    return epoch_loss, epoch_auroc"
      ],
      "metadata": {
        "id": "D1C_lt06a_Wf"
      },
      "execution_count": 84,
      "outputs": []
    },
    {
      "cell_type": "markdown",
      "source": [
        "### Run"
      ],
      "metadata": {
        "id": "kR3l5g-1bF_E"
      }
    },
    {
      "cell_type": "code",
      "source": [
        "def run_training(model, optimizer, scheduler, device, num_epochs):\n",
        "    if torch.cuda.is_available():\n",
        "        print(\"[INFO] Using GPU: {}\\n\".format(torch.cuda.get_device_name()))\n",
        "\n",
        "    start = time.time()\n",
        "    best_model_wts = copy.deepcopy(model.state_dict())\n",
        "    best_epoch_auroc = -np.inf\n",
        "    history = defaultdict(list)\n",
        "\n",
        "    for epoch in range(1, num_epochs + 1):\n",
        "        gc.collect()\n",
        "        train_epoch_loss, train_epoch_auroc = train_one_epoch(model, optimizer, scheduler,\n",
        "                                           dataloader=train_loader,\n",
        "                                           device=CONFIG['device'], epoch=epoch)\n",
        "\n",
        "        val_epoch_loss, val_epoch_auroc = valid_one_epoch(model, valid_loader, device=CONFIG['device'],\n",
        "                                         epoch=epoch)\n",
        "\n",
        "        history['Train Loss'].append(train_epoch_loss)\n",
        "        history['Valid Loss'].append(val_epoch_loss)\n",
        "        history['Train AUROC'].append(train_epoch_auroc)\n",
        "        history['Valid AUROC'].append(val_epoch_auroc)\n",
        "        history['lr'].append( scheduler.get_lr()[0] )\n",
        "\n",
        "        # deep copy the model\n",
        "        if best_epoch_auroc <= val_epoch_auroc:\n",
        "            print(f\"{b_}Validation AUROC Improved ({best_epoch_auroc} ---> {val_epoch_auroc})\")\n",
        "            best_epoch_auroc = val_epoch_auroc\n",
        "            best_model_wts = copy.deepcopy(model.state_dict())\n",
        "            PATH = \"AUROC{:.4f}_Loss{:.4f}_epoch{:.0f}.bin\".format(val_epoch_auroc, val_epoch_loss, epoch)\n",
        "            torch.save(model.state_dict(), PATH)\n",
        "            # Save a model file from the current directory\n",
        "            print(f\"Model Saved{sr_}\")\n",
        "\n",
        "        print()\n",
        "\n",
        "    end = time.time()\n",
        "    time_elapsed = end - start\n",
        "    print('Training complete in {:.0f}h {:.0f}m {:.0f}s'.format(\n",
        "        time_elapsed // 3600, (time_elapsed % 3600) // 60, (time_elapsed % 3600) % 60))\n",
        "    print(\"Best AUROC: {:.4f}\".format(best_epoch_auroc))\n",
        "\n",
        "    # load best model weights\n",
        "    model.load_state_dict(best_model_wts)\n",
        "\n",
        "    return model, history"
      ],
      "metadata": {
        "id": "J8ATYSy2bIfs"
      },
      "execution_count": 82,
      "outputs": []
    },
    {
      "cell_type": "code",
      "source": [
        "def fetch_scheduler(optimizer):\n",
        "    if CONFIG['scheduler'] == 'CosineAnnealingLR':\n",
        "        scheduler = lr_scheduler.CosineAnnealingLR(optimizer,T_max=CONFIG['T_max'],\n",
        "                                                   eta_min=CONFIG['min_lr'])\n",
        "    elif CONFIG['scheduler'] == 'CosineAnnealingWarmRestarts':\n",
        "        scheduler = lr_scheduler.CosineAnnealingWarmRestarts(optimizer,T_0=CONFIG['T_0'],\n",
        "                                                             eta_min=CONFIG['min_lr'])\n",
        "    elif CONFIG['scheduler'] == None:\n",
        "        return None\n",
        "\n",
        "    return scheduler"
      ],
      "metadata": {
        "id": "4WahspL5bJQW"
      },
      "execution_count": 83,
      "outputs": []
    },
    {
      "cell_type": "code",
      "source": [
        "def prepare_loaders(df, fold):\n",
        "    df_train = df[df.kfold != fold].reset_index(drop=True)\n",
        "    df_valid = df[df.kfold == fold].reset_index(drop=True)\n",
        "\n",
        "    train_dataset = ISICDataset_for_Train(df_train, transforms=data_transforms[\"train\"])\n",
        "    valid_dataset = ISICDataset(df_valid, transforms=data_transforms[\"valid\"])\n",
        "\n",
        "    train_loader = DataLoader(train_dataset, batch_size=CONFIG['train_batch_size'],\n",
        "                              num_workers=2, shuffle=True, pin_memory=True, drop_last=True)\n",
        "    valid_loader = DataLoader(valid_dataset, batch_size=CONFIG['valid_batch_size'],\n",
        "                              num_workers=2, shuffle=False, pin_memory=True)\n",
        "\n",
        "    return train_loader, valid_loader"
      ],
      "metadata": {
        "id": "T4i8FyCmbJH3"
      },
      "execution_count": 81,
      "outputs": []
    },
    {
      "cell_type": "code",
      "source": [
        "# train_loader, valid_loader = prepare_loaders(df, fold=CONFIG[\"fold\"])\n"
      ],
      "metadata": {
        "id": "bKyGk8swbJFM"
      },
      "execution_count": null,
      "outputs": []
    },
    {
      "cell_type": "code",
      "source": [
        "# optimizer = optim.Adam(model.parameters(), lr=CONFIG['learning_rate'],\n",
        "#                        weight_decay=CONFIG['weight_decay'])\n",
        "# scheduler = fetch_scheduler(optimizer)"
      ],
      "metadata": {
        "id": "GLmm92W6bP-9"
      },
      "execution_count": null,
      "outputs": []
    },
    {
      "cell_type": "code",
      "source": [
        "# model, history = run_training(model, optimizer, scheduler,\n",
        "#                               device=CONFIG['device'],\n",
        "#                               num_epochs=CONFIG['epochs'])"
      ],
      "metadata": {
        "id": "YmFRVbdAbRYa",
        "outputId": "4e7f9690-327c-419d-a497-cbfa17fa2385",
        "colab": {
          "base_uri": "https://localhost:8080/"
        }
      },
      "execution_count": null,
      "outputs": [
        {
          "metadata": {
            "tags": null
          },
          "name": "stderr",
          "output_type": "stream",
          "text": [
            "100%|██████████| 19/19 [01:18<00:00,  4.13s/it, Epoch=1, LR=0.0001, Train_Auroc=0.636, Train_Loss=0.68]\n",
            "100%|██████████| 26/26 [00:40<00:00,  1.56s/it, Epoch=1, LR=0.0001, Valid_Auroc=0.505, Valid_Loss=0.889]\n"
          ]
        },
        {
          "metadata": {
            "tags": null
          },
          "name": "stdout",
          "output_type": "stream",
          "text": [
            "\u001b[34mValidation AUROC Improved (-inf ---> 0.5047730297449082)\n",
            "Model Saved\u001b[0m\n",
            "\n"
          ]
        },
        {
          "metadata": {
            "tags": null
          },
          "name": "stderr",
          "output_type": "stream",
          "text": [
            "100%|██████████| 19/19 [01:18<00:00,  4.12s/it, Epoch=2, LR=0.0001, Train_Auroc=0.753, Train_Loss=0.601]\n",
            "100%|██████████| 26/26 [00:48<00:00,  1.88s/it, Epoch=2, LR=0.0001, Valid_Auroc=0.506, Valid_Loss=0.548]\n"
          ]
        },
        {
          "metadata": {
            "tags": null
          },
          "name": "stdout",
          "output_type": "stream",
          "text": [
            "\u001b[34mValidation AUROC Improved (0.5047730297449082 ---> 0.5063025088896855)\n",
            "Model Saved\u001b[0m\n",
            "\n"
          ]
        },
        {
          "metadata": {
            "tags": null
          },
          "name": "stderr",
          "output_type": "stream",
          "text": [
            "100%|██████████| 19/19 [01:18<00:00,  4.15s/it, Epoch=3, LR=0.0001, Train_Auroc=0.837, Train_Loss=0.519]\n",
            "100%|██████████| 26/26 [00:50<00:00,  1.95s/it, Epoch=3, LR=0.0001, Valid_Auroc=0.511, Valid_Loss=0.446]\n"
          ]
        },
        {
          "metadata": {
            "tags": null
          },
          "name": "stdout",
          "output_type": "stream",
          "text": [
            "\u001b[34mValidation AUROC Improved (0.5063025088896855 ---> 0.5109436869841819)\n",
            "Model Saved\u001b[0m\n",
            "\n"
          ]
        },
        {
          "metadata": {
            "tags": null
          },
          "name": "stderr",
          "output_type": "stream",
          "text": [
            "100%|██████████| 19/19 [01:21<00:00,  4.31s/it, Epoch=4, LR=0.0001, Train_Auroc=0.851, Train_Loss=0.496]\n",
            "100%|██████████| 26/26 [00:52<00:00,  2.01s/it, Epoch=4, LR=0.0001, Valid_Auroc=0.514, Valid_Loss=0.402]\n"
          ]
        },
        {
          "metadata": {
            "tags": null
          },
          "name": "stdout",
          "output_type": "stream",
          "text": [
            "\u001b[34mValidation AUROC Improved (0.5109436869841819 ---> 0.5135279793322538)\n",
            "Model Saved\u001b[0m\n",
            "\n"
          ]
        },
        {
          "metadata": {
            "tags": null
          },
          "name": "stderr",
          "output_type": "stream",
          "text": [
            "100%|██████████| 19/19 [01:19<00:00,  4.16s/it, Epoch=5, LR=0.0001, Train_Auroc=0.907, Train_Loss=0.425]\n",
            "100%|██████████| 26/26 [00:50<00:00,  1.94s/it, Epoch=5, LR=0.0001, Valid_Auroc=0.515, Valid_Loss=0.421]\n"
          ]
        },
        {
          "metadata": {
            "tags": null
          },
          "name": "stdout",
          "output_type": "stream",
          "text": [
            "\u001b[34mValidation AUROC Improved (0.5135279793322538 ---> 0.5146355331957132)\n",
            "Model Saved\u001b[0m\n",
            "\n"
          ]
        },
        {
          "metadata": {
            "tags": null
          },
          "name": "stderr",
          "output_type": "stream",
          "text": [
            "100%|██████████| 19/19 [01:22<00:00,  4.34s/it, Epoch=6, LR=0.0001, Train_Auroc=0.894, Train_Loss=0.433]\n",
            "100%|██████████| 26/26 [00:51<00:00,  1.97s/it, Epoch=6, LR=0.0001, Valid_Auroc=0.515, Valid_Loss=0.541]\n"
          ]
        },
        {
          "metadata": {
            "tags": null
          },
          "name": "stdout",
          "output_type": "stream",
          "text": [
            "\u001b[34mValidation AUROC Improved (0.5146355331957132 ---> 0.5154793837583489)\n",
            "Model Saved\u001b[0m\n",
            "\n"
          ]
        },
        {
          "metadata": {
            "tags": null
          },
          "name": "stderr",
          "output_type": "stream",
          "text": [
            "100%|██████████| 19/19 [01:20<00:00,  4.24s/it, Epoch=7, LR=0.0001, Train_Auroc=0.909, Train_Loss=0.394]\n",
            "100%|██████████| 26/26 [00:50<00:00,  1.96s/it, Epoch=7, LR=0.0001, Valid_Auroc=0.515, Valid_Loss=0.297]\n"
          ]
        },
        {
          "metadata": {
            "tags": null
          },
          "name": "stdout",
          "output_type": "stream",
          "text": [
            "\n"
          ]
        },
        {
          "metadata": {
            "tags": null
          },
          "name": "stderr",
          "output_type": "stream",
          "text": [
            "100%|██████████| 19/19 [01:22<00:00,  4.32s/it, Epoch=8, LR=9.99e-5, Train_Auroc=0.926, Train_Loss=0.393]\n",
            "100%|██████████| 26/26 [00:31<00:00,  1.21s/it, Epoch=8, LR=9.99e-5, Valid_Auroc=0.515, Valid_Loss=0.292]\n"
          ]
        },
        {
          "metadata": {
            "tags": null
          },
          "name": "stdout",
          "output_type": "stream",
          "text": [
            "\n"
          ]
        },
        {
          "metadata": {
            "tags": null
          },
          "name": "stderr",
          "output_type": "stream",
          "text": [
            "100%|██████████| 19/19 [01:13<00:00,  3.87s/it, Epoch=9, LR=9.99e-5, Train_Auroc=0.931, Train_Loss=0.357]\n",
            "100%|██████████| 26/26 [00:50<00:00,  1.95s/it, Epoch=9, LR=9.99e-5, Valid_Auroc=0.516, Valid_Loss=0.471]\n"
          ]
        },
        {
          "metadata": {
            "tags": null
          },
          "name": "stdout",
          "output_type": "stream",
          "text": [
            "\u001b[34mValidation AUROC Improved (0.5154793837583489 ---> 0.5155848650786784)\n",
            "Model Saved\u001b[0m\n",
            "\n"
          ]
        },
        {
          "metadata": {
            "tags": null
          },
          "name": "stderr",
          "output_type": "stream",
          "text": [
            "100%|██████████| 19/19 [01:20<00:00,  4.25s/it, Epoch=10, LR=9.99e-5, Train_Auroc=0.939, Train_Loss=0.328]\n",
            "100%|██████████| 26/26 [00:50<00:00,  1.96s/it, Epoch=10, LR=9.99e-5, Valid_Auroc=0.516, Valid_Loss=0.304]\n"
          ]
        },
        {
          "metadata": {
            "tags": null
          },
          "name": "stdout",
          "output_type": "stream",
          "text": [
            "\u001b[34mValidation AUROC Improved (0.5155848650786784 ---> 0.5161650123404904)\n",
            "Model Saved\u001b[0m\n",
            "\n"
          ]
        },
        {
          "metadata": {
            "tags": null
          },
          "name": "stderr",
          "output_type": "stream",
          "text": [
            "100%|██████████| 19/19 [01:20<00:00,  4.22s/it, Epoch=11, LR=9.99e-5, Train_Auroc=0.935, Train_Loss=0.338]\n",
            "100%|██████████| 26/26 [00:51<00:00,  1.98s/it, Epoch=11, LR=9.99e-5, Valid_Auroc=0.515, Valid_Loss=0.291]\n"
          ]
        },
        {
          "metadata": {
            "tags": null
          },
          "name": "stdout",
          "output_type": "stream",
          "text": [
            "\n"
          ]
        },
        {
          "metadata": {
            "tags": null
          },
          "name": "stderr",
          "output_type": "stream",
          "text": [
            "100%|██████████| 19/19 [01:20<00:00,  4.25s/it, Epoch=12, LR=9.99e-5, Train_Auroc=0.945, Train_Loss=0.309]\n",
            "100%|██████████| 26/26 [00:50<00:00,  1.95s/it, Epoch=12, LR=9.99e-5, Valid_Auroc=0.516, Valid_Loss=0.256]\n"
          ]
        },
        {
          "metadata": {
            "tags": null
          },
          "name": "stdout",
          "output_type": "stream",
          "text": [
            "\n"
          ]
        },
        {
          "metadata": {
            "tags": null
          },
          "name": "stderr",
          "output_type": "stream",
          "text": [
            "100%|██████████| 19/19 [01:21<00:00,  4.30s/it, Epoch=13, LR=9.99e-5, Train_Auroc=0.947, Train_Loss=0.301]\n",
            "100%|██████████| 26/26 [00:51<00:00,  1.97s/it, Epoch=13, LR=9.99e-5, Valid_Auroc=0.516, Valid_Loss=0.342]\n"
          ]
        },
        {
          "metadata": {
            "tags": null
          },
          "name": "stdout",
          "output_type": "stream",
          "text": [
            "\u001b[34mValidation AUROC Improved (0.5161650123404904 ---> 0.5162704936608199)\n",
            "Model Saved\u001b[0m\n",
            "\n"
          ]
        },
        {
          "metadata": {
            "tags": null
          },
          "name": "stderr",
          "output_type": "stream",
          "text": [
            "100%|██████████| 19/19 [01:23<00:00,  4.38s/it, Epoch=14, LR=9.98e-5, Train_Auroc=0.939, Train_Loss=0.329]\n",
            "100%|██████████| 26/26 [00:51<00:00,  1.98s/it, Epoch=14, LR=9.98e-5, Valid_Auroc=0.517, Valid_Loss=0.258]\n"
          ]
        },
        {
          "metadata": {
            "tags": null
          },
          "name": "stdout",
          "output_type": "stream",
          "text": [
            "\u001b[34mValidation AUROC Improved (0.5162704936608199 ---> 0.5168506409226319)\n",
            "Model Saved\u001b[0m\n",
            "\n"
          ]
        },
        {
          "metadata": {
            "tags": null
          },
          "name": "stderr",
          "output_type": "stream",
          "text": [
            "100%|██████████| 19/19 [01:20<00:00,  4.26s/it, Epoch=15, LR=9.98e-5, Train_Auroc=0.96, Train_Loss=0.277]\n",
            "100%|██████████| 26/26 [00:50<00:00,  1.94s/it, Epoch=15, LR=9.98e-5, Valid_Auroc=0.517, Valid_Loss=0.46]\n"
          ]
        },
        {
          "metadata": {
            "tags": null
          },
          "name": "stdout",
          "output_type": "stream",
          "text": [
            "\n"
          ]
        },
        {
          "metadata": {
            "tags": null
          },
          "name": "stderr",
          "output_type": "stream",
          "text": [
            "100%|██████████| 19/19 [01:22<00:00,  4.34s/it, Epoch=16, LR=9.98e-5, Train_Auroc=0.959, Train_Loss=0.28]\n",
            "100%|██████████| 26/26 [00:51<00:00,  1.96s/it, Epoch=16, LR=9.98e-5, Valid_Auroc=0.517, Valid_Loss=0.275]\n"
          ]
        },
        {
          "metadata": {
            "tags": null
          },
          "name": "stdout",
          "output_type": "stream",
          "text": [
            "\u001b[34mValidation AUROC Improved (0.5168506409226319 ---> 0.5169033815827967)\n",
            "Model Saved\u001b[0m\n",
            "\n"
          ]
        },
        {
          "metadata": {
            "tags": null
          },
          "name": "stderr",
          "output_type": "stream",
          "text": [
            "100%|██████████| 19/19 [01:24<00:00,  4.42s/it, Epoch=17, LR=9.98e-5, Train_Auroc=0.95, Train_Loss=0.323]\n",
            "100%|██████████| 26/26 [00:51<00:00,  2.00s/it, Epoch=17, LR=9.98e-5, Valid_Auroc=0.517, Valid_Loss=0.305]\n"
          ]
        },
        {
          "metadata": {
            "tags": null
          },
          "name": "stdout",
          "output_type": "stream",
          "text": [
            "\n"
          ]
        },
        {
          "metadata": {
            "tags": null
          },
          "name": "stderr",
          "output_type": "stream",
          "text": [
            "100%|██████████| 19/19 [01:21<00:00,  4.28s/it, Epoch=18, LR=9.97e-5, Train_Auroc=0.956, Train_Loss=0.287]\n",
            "100%|██████████| 26/26 [00:52<00:00,  2.02s/it, Epoch=18, LR=9.97e-5, Valid_Auroc=0.517, Valid_Loss=0.488]\n"
          ]
        },
        {
          "metadata": {
            "tags": null
          },
          "name": "stdout",
          "output_type": "stream",
          "text": [
            "\n"
          ]
        },
        {
          "metadata": {
            "tags": null
          },
          "name": "stderr",
          "output_type": "stream",
          "text": [
            "100%|██████████| 19/19 [01:22<00:00,  4.34s/it, Epoch=19, LR=9.97e-5, Train_Auroc=0.961, Train_Loss=0.275]\n",
            "100%|██████████| 26/26 [00:51<00:00,  1.96s/it, Epoch=19, LR=9.97e-5, Valid_Auroc=0.517, Valid_Loss=0.306]\n"
          ]
        },
        {
          "metadata": {
            "tags": null
          },
          "name": "stdout",
          "output_type": "stream",
          "text": [
            "\u001b[34mValidation AUROC Improved (0.5169033815827967 ---> 0.5173780475242792)\n",
            "Model Saved\u001b[0m\n",
            "\n"
          ]
        },
        {
          "metadata": {
            "tags": null
          },
          "name": "stderr",
          "output_type": "stream",
          "text": [
            "100%|██████████| 19/19 [01:22<00:00,  4.34s/it, Epoch=20, LR=9.97e-5, Train_Auroc=0.968, Train_Loss=0.226]\n",
            "100%|██████████| 26/26 [00:50<00:00,  1.96s/it, Epoch=20, LR=9.97e-5, Valid_Auroc=0.517, Valid_Loss=0.387]\n"
          ]
        },
        {
          "metadata": {
            "tags": null
          },
          "name": "stdout",
          "output_type": "stream",
          "text": [
            "\n"
          ]
        },
        {
          "metadata": {
            "tags": null
          },
          "name": "stderr",
          "output_type": "stream",
          "text": [
            "100%|██████████| 19/19 [01:21<00:00,  4.30s/it, Epoch=21, LR=9.96e-5, Train_Auroc=0.954, Train_Loss=0.258]\n",
            "100%|██████████| 26/26 [00:52<00:00,  2.00s/it, Epoch=21, LR=9.96e-5, Valid_Auroc=0.517, Valid_Loss=0.313]\n"
          ]
        },
        {
          "metadata": {
            "tags": null
          },
          "name": "stdout",
          "output_type": "stream",
          "text": [
            "\n"
          ]
        },
        {
          "metadata": {
            "tags": null
          },
          "name": "stderr",
          "output_type": "stream",
          "text": [
            "100%|██████████| 19/19 [01:20<00:00,  4.26s/it, Epoch=22, LR=9.96e-5, Train_Auroc=0.974, Train_Loss=0.231]\n",
            "100%|██████████| 26/26 [00:52<00:00,  2.00s/it, Epoch=22, LR=9.96e-5, Valid_Auroc=0.517, Valid_Loss=0.271]\n"
          ]
        },
        {
          "metadata": {
            "tags": null
          },
          "name": "stdout",
          "output_type": "stream",
          "text": [
            "\n"
          ]
        },
        {
          "metadata": {
            "tags": null
          },
          "name": "stderr",
          "output_type": "stream",
          "text": [
            "100%|██████████| 19/19 [01:20<00:00,  4.23s/it, Epoch=23, LR=9.96e-5, Train_Auroc=0.967, Train_Loss=0.26]\n",
            "100%|██████████| 26/26 [00:52<00:00,  2.02s/it, Epoch=23, LR=9.96e-5, Valid_Auroc=0.517, Valid_Loss=0.275]\n"
          ]
        },
        {
          "metadata": {
            "tags": null
          },
          "name": "stdout",
          "output_type": "stream",
          "text": [
            "\u001b[34mValidation AUROC Improved (0.5173780475242792 ---> 0.5174835288446087)\n",
            "Model Saved\u001b[0m\n",
            "\n"
          ]
        },
        {
          "metadata": {
            "tags": null
          },
          "name": "stderr",
          "output_type": "stream",
          "text": [
            "100%|██████████| 19/19 [01:21<00:00,  4.27s/it, Epoch=24, LR=9.95e-5, Train_Auroc=0.969, Train_Loss=0.246]\n",
            "100%|██████████| 26/26 [00:51<00:00,  1.97s/it, Epoch=24, LR=9.95e-5, Valid_Auroc=0.518, Valid_Loss=0.408]\n"
          ]
        },
        {
          "metadata": {
            "tags": null
          },
          "name": "stdout",
          "output_type": "stream",
          "text": [
            "\u001b[34mValidation AUROC Improved (0.5174835288446087 ---> 0.5175362695047735)\n",
            "Model Saved\u001b[0m\n",
            "\n"
          ]
        },
        {
          "metadata": {
            "tags": null
          },
          "name": "stderr",
          "output_type": "stream",
          "text": [
            "100%|██████████| 19/19 [01:21<00:00,  4.27s/it, Epoch=25, LR=9.95e-5, Train_Auroc=0.969, Train_Loss=0.264]\n",
            "100%|██████████| 26/26 [00:52<00:00,  2.01s/it, Epoch=25, LR=9.95e-5, Valid_Auroc=0.518, Valid_Loss=0.229]\n"
          ]
        },
        {
          "metadata": {
            "tags": null
          },
          "name": "stdout",
          "output_type": "stream",
          "text": [
            "\u001b[34mValidation AUROC Improved (0.5175362695047735 ---> 0.5176944914852677)\n",
            "Model Saved\u001b[0m\n",
            "\n"
          ]
        },
        {
          "metadata": {
            "tags": null
          },
          "name": "stderr",
          "output_type": "stream",
          "text": [
            "100%|██████████| 19/19 [01:23<00:00,  4.42s/it, Epoch=26, LR=9.94e-5, Train_Auroc=0.977, Train_Loss=0.229]\n",
            "100%|██████████| 26/26 [00:51<00:00,  1.97s/it, Epoch=26, LR=9.94e-5, Valid_Auroc=0.517, Valid_Loss=0.329]\n"
          ]
        },
        {
          "metadata": {
            "tags": null
          },
          "name": "stdout",
          "output_type": "stream",
          "text": [
            "\n"
          ]
        },
        {
          "metadata": {
            "tags": null
          },
          "name": "stderr",
          "output_type": "stream",
          "text": [
            "100%|██████████| 19/19 [01:22<00:00,  4.35s/it, Epoch=27, LR=9.94e-5, Train_Auroc=0.982, Train_Loss=0.2]\n",
            "100%|██████████| 26/26 [00:52<00:00,  2.00s/it, Epoch=27, LR=9.94e-5, Valid_Auroc=0.518, Valid_Loss=0.219]\n"
          ]
        },
        {
          "metadata": {
            "tags": null
          },
          "name": "stdout",
          "output_type": "stream",
          "text": [
            "\u001b[34mValidation AUROC Improved (0.5176944914852677 ---> 0.5176944914852677)\n",
            "Model Saved\u001b[0m\n",
            "\n"
          ]
        },
        {
          "metadata": {
            "tags": null
          },
          "name": "stderr",
          "output_type": "stream",
          "text": [
            "100%|██████████| 19/19 [01:22<00:00,  4.36s/it, Epoch=28, LR=9.94e-5, Train_Auroc=0.983, Train_Loss=0.217]\n",
            "100%|██████████| 26/26 [00:51<00:00,  1.98s/it, Epoch=28, LR=9.94e-5, Valid_Auroc=0.518, Valid_Loss=0.282]\n"
          ]
        },
        {
          "metadata": {
            "tags": null
          },
          "name": "stdout",
          "output_type": "stream",
          "text": [
            "\n"
          ]
        },
        {
          "metadata": {
            "tags": null
          },
          "name": "stderr",
          "output_type": "stream",
          "text": [
            "100%|██████████| 19/19 [01:21<00:00,  4.28s/it, Epoch=29, LR=9.93e-5, Train_Auroc=0.983, Train_Loss=0.198]\n",
            "100%|██████████| 26/26 [00:52<00:00,  2.00s/it, Epoch=29, LR=9.93e-5, Valid_Auroc=0.517, Valid_Loss=0.401]\n"
          ]
        },
        {
          "metadata": {
            "tags": null
          },
          "name": "stdout",
          "output_type": "stream",
          "text": [
            "\n"
          ]
        },
        {
          "metadata": {
            "tags": null
          },
          "name": "stderr",
          "output_type": "stream",
          "text": [
            "100%|██████████| 19/19 [01:22<00:00,  4.35s/it, Epoch=30, LR=9.93e-5, Train_Auroc=0.984, Train_Loss=0.208]\n",
            "100%|██████████| 26/26 [00:51<00:00,  1.96s/it, Epoch=30, LR=9.93e-5, Valid_Auroc=0.517, Valid_Loss=0.442]\n"
          ]
        },
        {
          "metadata": {
            "tags": null
          },
          "name": "stdout",
          "output_type": "stream",
          "text": [
            "\n"
          ]
        },
        {
          "metadata": {
            "tags": null
          },
          "name": "stderr",
          "output_type": "stream",
          "text": [
            "100%|██████████| 19/19 [01:22<00:00,  4.33s/it, Epoch=31, LR=9.92e-5, Train_Auroc=0.98, Train_Loss=0.179]\n",
            "100%|██████████| 26/26 [00:50<00:00,  1.96s/it, Epoch=31, LR=9.92e-5, Valid_Auroc=0.517, Valid_Loss=0.276]\n"
          ]
        },
        {
          "metadata": {
            "tags": null
          },
          "name": "stdout",
          "output_type": "stream",
          "text": [
            "\n"
          ]
        },
        {
          "metadata": {
            "tags": null
          },
          "name": "stderr",
          "output_type": "stream",
          "text": [
            "100%|██████████| 19/19 [01:22<00:00,  4.34s/it, Epoch=32, LR=9.92e-5, Train_Auroc=0.986, Train_Loss=0.163]\n",
            "100%|██████████| 26/26 [00:51<00:00,  1.99s/it, Epoch=32, LR=9.92e-5, Valid_Auroc=0.517, Valid_Loss=0.42]\n"
          ]
        },
        {
          "metadata": {
            "tags": null
          },
          "name": "stdout",
          "output_type": "stream",
          "text": [
            "\n"
          ]
        },
        {
          "metadata": {
            "tags": null
          },
          "name": "stderr",
          "output_type": "stream",
          "text": [
            "100%|██████████| 19/19 [01:23<00:00,  4.41s/it, Epoch=33, LR=9.91e-5, Train_Auroc=0.988, Train_Loss=0.165]\n",
            "100%|██████████| 26/26 [00:51<00:00,  2.00s/it, Epoch=33, LR=9.91e-5, Valid_Auroc=0.518, Valid_Loss=0.312]\n"
          ]
        },
        {
          "metadata": {
            "tags": null
          },
          "name": "stdout",
          "output_type": "stream",
          "text": [
            "\n"
          ]
        },
        {
          "metadata": {
            "tags": null
          },
          "name": "stderr",
          "output_type": "stream",
          "text": [
            "100%|██████████| 19/19 [01:20<00:00,  4.22s/it, Epoch=34, LR=9.9e-5, Train_Auroc=0.99, Train_Loss=0.137]\n",
            "100%|██████████| 26/26 [00:51<00:00,  1.97s/it, Epoch=34, LR=9.9e-5, Valid_Auroc=0.517, Valid_Loss=0.512]\n"
          ]
        },
        {
          "metadata": {
            "tags": null
          },
          "name": "stdout",
          "output_type": "stream",
          "text": [
            "\n"
          ]
        },
        {
          "metadata": {
            "tags": null
          },
          "name": "stderr",
          "output_type": "stream",
          "text": [
            "100%|██████████| 19/19 [01:24<00:00,  4.44s/it, Epoch=35, LR=9.9e-5, Train_Auroc=0.985, Train_Loss=0.159]\n",
            "100%|██████████| 26/26 [00:51<00:00,  1.99s/it, Epoch=35, LR=9.9e-5, Valid_Auroc=0.517, Valid_Loss=0.305]\n"
          ]
        },
        {
          "metadata": {
            "tags": null
          },
          "name": "stdout",
          "output_type": "stream",
          "text": [
            "\n"
          ]
        },
        {
          "metadata": {
            "tags": null
          },
          "name": "stderr",
          "output_type": "stream",
          "text": [
            "100%|██████████| 19/19 [01:23<00:00,  4.38s/it, Epoch=36, LR=9.89e-5, Train_Auroc=0.985, Train_Loss=0.19]\n",
            "100%|██████████| 26/26 [00:51<00:00,  1.97s/it, Epoch=36, LR=9.89e-5, Valid_Auroc=0.517, Valid_Loss=0.408]\n"
          ]
        },
        {
          "metadata": {
            "tags": null
          },
          "name": "stdout",
          "output_type": "stream",
          "text": [
            "\n"
          ]
        },
        {
          "metadata": {
            "tags": null
          },
          "name": "stderr",
          "output_type": "stream",
          "text": [
            "100%|██████████| 19/19 [01:20<00:00,  4.25s/it, Epoch=37, LR=9.89e-5, Train_Auroc=0.993, Train_Loss=0.133]\n",
            "100%|██████████| 26/26 [00:51<00:00,  1.99s/it, Epoch=37, LR=9.89e-5, Valid_Auroc=0.517, Valid_Loss=0.34]\n"
          ]
        },
        {
          "metadata": {
            "tags": null
          },
          "name": "stdout",
          "output_type": "stream",
          "text": [
            "\n"
          ]
        },
        {
          "metadata": {
            "tags": null
          },
          "name": "stderr",
          "output_type": "stream",
          "text": [
            "100%|██████████| 19/19 [01:22<00:00,  4.35s/it, Epoch=38, LR=9.88e-5, Train_Auroc=0.99, Train_Loss=0.151]\n",
            "100%|██████████| 26/26 [00:51<00:00,  1.98s/it, Epoch=38, LR=9.88e-5, Valid_Auroc=0.518, Valid_Loss=0.292]\n"
          ]
        },
        {
          "metadata": {
            "tags": null
          },
          "name": "stdout",
          "output_type": "stream",
          "text": [
            "\u001b[34mValidation AUROC Improved (0.5176944914852677 ---> 0.5177999728055971)\n",
            "Model Saved\u001b[0m\n",
            "\n"
          ]
        },
        {
          "metadata": {
            "tags": null
          },
          "name": "stderr",
          "output_type": "stream",
          "text": [
            "100%|██████████| 19/19 [01:22<00:00,  4.35s/it, Epoch=39, LR=9.87e-5, Train_Auroc=0.993, Train_Loss=0.148]\n",
            "100%|██████████| 26/26 [00:51<00:00,  1.98s/it, Epoch=39, LR=9.87e-5, Valid_Auroc=0.517, Valid_Loss=0.457]\n"
          ]
        },
        {
          "metadata": {
            "tags": null
          },
          "name": "stdout",
          "output_type": "stream",
          "text": [
            "\n"
          ]
        },
        {
          "metadata": {
            "tags": null
          },
          "name": "stderr",
          "output_type": "stream",
          "text": [
            "100%|██████████| 19/19 [01:21<00:00,  4.30s/it, Epoch=40, LR=9.87e-5, Train_Auroc=0.992, Train_Loss=0.133]\n",
            "100%|██████████| 26/26 [00:51<00:00,  1.97s/it, Epoch=40, LR=9.87e-5, Valid_Auroc=0.517, Valid_Loss=0.306]\n"
          ]
        },
        {
          "metadata": {
            "tags": null
          },
          "name": "stdout",
          "output_type": "stream",
          "text": [
            "\n"
          ]
        },
        {
          "metadata": {
            "tags": null
          },
          "name": "stderr",
          "output_type": "stream",
          "text": [
            "100%|██████████| 19/19 [01:23<00:00,  4.38s/it, Epoch=41, LR=9.86e-5, Train_Auroc=0.987, Train_Loss=0.156]\n",
            "100%|██████████| 26/26 [00:52<00:00,  2.02s/it, Epoch=41, LR=9.86e-5, Valid_Auroc=0.518, Valid_Loss=0.36]\n"
          ]
        },
        {
          "metadata": {
            "tags": null
          },
          "name": "stdout",
          "output_type": "stream",
          "text": [
            "\n"
          ]
        },
        {
          "metadata": {
            "tags": null
          },
          "name": "stderr",
          "output_type": "stream",
          "text": [
            "100%|██████████| 19/19 [01:22<00:00,  4.34s/it, Epoch=42, LR=9.85e-5, Train_Auroc=0.993, Train_Loss=0.12]\n",
            "100%|██████████| 26/26 [00:52<00:00,  2.02s/it, Epoch=42, LR=9.85e-5, Valid_Auroc=0.517, Valid_Loss=0.383]\n"
          ]
        },
        {
          "metadata": {
            "tags": null
          },
          "name": "stdout",
          "output_type": "stream",
          "text": [
            "\n"
          ]
        },
        {
          "metadata": {
            "tags": null
          },
          "name": "stderr",
          "output_type": "stream",
          "text": [
            "100%|██████████| 19/19 [01:23<00:00,  4.39s/it, Epoch=43, LR=9.85e-5, Train_Auroc=0.993, Train_Loss=0.123]\n",
            "100%|██████████| 26/26 [00:51<00:00,  1.99s/it, Epoch=43, LR=9.85e-5, Valid_Auroc=0.517, Valid_Loss=0.357]\n"
          ]
        },
        {
          "metadata": {
            "tags": null
          },
          "name": "stdout",
          "output_type": "stream",
          "text": [
            "\n"
          ]
        },
        {
          "metadata": {
            "tags": null
          },
          "name": "stderr",
          "output_type": "stream",
          "text": [
            "100%|██████████| 19/19 [01:23<00:00,  4.40s/it, Epoch=44, LR=9.84e-5, Train_Auroc=0.995, Train_Loss=0.114]\n",
            "100%|██████████| 26/26 [00:52<00:00,  2.02s/it, Epoch=44, LR=9.84e-5, Valid_Auroc=0.517, Valid_Loss=0.407]\n"
          ]
        },
        {
          "metadata": {
            "tags": null
          },
          "name": "stdout",
          "output_type": "stream",
          "text": [
            "\n"
          ]
        },
        {
          "metadata": {
            "tags": null
          },
          "name": "stderr",
          "output_type": "stream",
          "text": [
            "100%|██████████| 19/19 [01:20<00:00,  4.25s/it, Epoch=45, LR=9.83e-5, Train_Auroc=0.993, Train_Loss=0.123]\n",
            "100%|██████████| 26/26 [00:52<00:00,  2.01s/it, Epoch=45, LR=9.83e-5, Valid_Auroc=0.517, Valid_Loss=0.362]\n"
          ]
        },
        {
          "metadata": {
            "tags": null
          },
          "name": "stdout",
          "output_type": "stream",
          "text": [
            "\n"
          ]
        },
        {
          "output_type": "stream",
          "name": "stderr",
          "text": [
            "100%|██████████| 19/19 [01:20<00:00,  4.25s/it, Epoch=46, LR=9.83e-5, Train_Auroc=0.996, Train_Loss=0.126]\n",
            "100%|██████████| 26/26 [00:52<00:00,  2.00s/it, Epoch=46, LR=9.83e-5, Valid_Auroc=0.516, Valid_Loss=0.358]\n"
          ]
        },
        {
          "output_type": "stream",
          "name": "stdout",
          "text": [
            "\n"
          ]
        },
        {
          "output_type": "stream",
          "name": "stderr",
          "text": [
            "100%|██████████| 19/19 [01:24<00:00,  4.45s/it, Epoch=47, LR=9.82e-5, Train_Auroc=0.991, Train_Loss=0.119]\n",
            "100%|██████████| 26/26 [00:52<00:00,  2.01s/it, Epoch=47, LR=9.82e-5, Valid_Auroc=0.517, Valid_Loss=0.379]\n"
          ]
        },
        {
          "output_type": "stream",
          "name": "stdout",
          "text": [
            "\n"
          ]
        },
        {
          "output_type": "stream",
          "name": "stderr",
          "text": [
            "100%|██████████| 19/19 [01:21<00:00,  4.30s/it, Epoch=48, LR=9.81e-5, Train_Auroc=0.993, Train_Loss=0.127]\n",
            "100%|██████████| 26/26 [00:52<00:00,  2.02s/it, Epoch=48, LR=9.81e-5, Valid_Auroc=0.517, Valid_Loss=0.36]\n"
          ]
        },
        {
          "output_type": "stream",
          "name": "stdout",
          "text": [
            "\n"
          ]
        },
        {
          "output_type": "stream",
          "name": "stderr",
          "text": [
            "100%|██████████| 19/19 [01:23<00:00,  4.40s/it, Epoch=49, LR=9.8e-5, Train_Auroc=0.994, Train_Loss=0.121]\n",
            "100%|██████████| 26/26 [00:52<00:00,  2.00s/it, Epoch=49, LR=9.8e-5, Valid_Auroc=0.517, Valid_Loss=0.304]\n"
          ]
        },
        {
          "output_type": "stream",
          "name": "stdout",
          "text": [
            "\n"
          ]
        },
        {
          "output_type": "stream",
          "name": "stderr",
          "text": [
            "100%|██████████| 19/19 [01:21<00:00,  4.31s/it, Epoch=50, LR=9.79e-5, Train_Auroc=0.997, Train_Loss=0.0835]\n",
            "100%|██████████| 26/26 [00:52<00:00,  2.03s/it, Epoch=50, LR=9.79e-5, Valid_Auroc=0.517, Valid_Loss=0.382]\n"
          ]
        },
        {
          "output_type": "stream",
          "name": "stdout",
          "text": [
            "\n",
            "Training complete in 1h 52m 24s\n",
            "Best AUROC: 0.5178\n"
          ]
        }
      ]
    },
    {
      "cell_type": "code",
      "source": [
        "history = pd.DataFrame.from_dict(history)\n",
        "history.to_csv(\"history.csv\", index=False)\n",
        "plt.plot( range(history.shape[0]), history[\"Train Loss\"].values, label=\"Train Loss\")\n",
        "plt.plot( range(history.shape[0]), history[\"Valid Loss\"].values, label=\"Valid Loss\")\n",
        "plt.xlabel(\"epochs\")\n",
        "plt.ylabel(\"Loss\")\n",
        "plt.grid()\n",
        "plt.legend()\n",
        "plt.show()"
      ],
      "metadata": {
        "id": "ab0YwyMsbWrP",
        "outputId": "4b9b31ae-35f2-4949-960a-e58f6acf470e",
        "colab": {
          "base_uri": "https://localhost:8080/",
          "height": 449
        }
      },
      "execution_count": null,
      "outputs": [
        {
          "output_type": "display_data",
          "data": {
            "text/plain": [
              "<Figure size 640x480 with 1 Axes>"
            ],
            "image/png": "[encoded data removed]"
          },
          "metadata": {}
        }
      ]
    },
    {
      "cell_type": "code",
      "source": [
        "plt.plot( range(history.shape[0]), history[\"Train AUROC\"].values, label=\"Train AUROC\")\n",
        "plt.plot( range(history.shape[0]), history[\"Valid AUROC\"].values, label=\"Valid AUROC\")\n",
        "plt.xlabel(\"epochs\")\n",
        "plt.ylabel(\"AUROC\")\n",
        "plt.grid()\n",
        "plt.legend()\n",
        "plt.show()"
      ],
      "metadata": {
        "id": "lCcgX16SbelI",
        "outputId": "0f2524c7-2fb6-4484-d8ae-0c6540d47991",
        "colab": {
          "base_uri": "https://localhost:8080/",
          "height": 449
        }
      },
      "execution_count": null,
      "outputs": [
        {
          "output_type": "display_data",
          "data": {
            "text/plain": [
              "<Figure size 640x480 with 1 Axes>"
            ],
            "image/png": "[encoded data removed]"
          },
          "metadata": {}
        }
      ]
    },
    {
      "cell_type": "code",
      "source": [],
      "metadata": {
        "id": "Phcc1HGTRxog"
      },
      "execution_count": null,
      "outputs": []
    },
    {
      "cell_type": "markdown",
      "source": [
        "### Handmade Boosting\n"
      ],
      "metadata": {
        "id": "ogcLLjPlc8gl"
      }
    },
    {
      "cell_type": "code",
      "source": [
        "# PATH = \"/content/drive/My Drive/isic_model.pth\"  # Adjust the path as needed\n",
        "# torch.save(model.state_dict(), PATH)\n",
        "# print(f\"Model saved to Google Drive at {PATH}\")"
      ],
      "metadata": {
        "id": "m5rJjJYVz20j",
        "outputId": "e0a0f903-9b10-47be-9adc-178e04c38fa1",
        "colab": {
          "base_uri": "https://localhost:8080/"
        }
      },
      "execution_count": null,
      "outputs": [
        {
          "output_type": "stream",
          "name": "stdout",
          "text": [
            "Mounted at /content/drive\n",
            "Model saved to Google Drive at /content/drive/My Drive/isic_model.pth\n"
          ]
        }
      ]
    },
    {
      "cell_type": "code",
      "source": [
        "model = ISICModel(model_name=\"efficientnet_b0\", pretrained=True) # Instantiate the model with a valid model name\n",
        "PATH = \"/content/drive/My Drive/isic_model.pth\"\n",
        "model.load_state_dict(torch.load(PATH))  # Load the saved state dictionary\n",
        "model.to(CONFIG['device'])  # Move the model to the desired device\n",
        "model.eval()  # Set the model to evaluation mode\n",
        "print(\"Model loaded from Google Drive.\")\n"
      ],
      "metadata": {
        "id": "T7tw2iCK1VvM",
        "outputId": "0cf836b2-b8cb-44f1-8c53-d943d927836b",
        "colab": {
          "base_uri": "https://localhost:8080/"
        }
      },
      "execution_count": 60,
      "outputs": [
        {
          "output_type": "stream",
          "name": "stdout",
          "text": [
            "Model loaded from Google Drive.\n"
          ]
        }
      ]
    },
    {
      "cell_type": "code",
      "source": [
        "# For test, use sample ISIC_0157834 (not a lesion) and eval\n",
        "import cv2\n",
        "import torch\n",
        "from torchvision import transforms\n",
        "\n",
        "# 画像のパス\n",
        "img_path = \"/kaggle/input/isic-2024-challenge/train-image/image/ISIC_0157834.jpg\"\n",
        "\n",
        "# 画像の前処理を定義 (必要に応じて適宜調整)\n",
        "preprocess = transforms.Compose([\n",
        "    transforms.ToPILImage(),\n",
        "    transforms.Resize((224, 224)),  # モデルに合わせたサイズに変更\n",
        "    transforms.ToTensor(),\n",
        "    transforms.Normalize(mean=[0.485, 0.456, 0.406], std=[0.229, 0.224, 0.225]),\n",
        "])\n",
        "\n",
        "# 画像の読み込みと前処理\n",
        "img = cv2.imread(img_path)\n",
        "img = cv2.cvtColor(img, cv2.COLOR_BGR2RGB)\n",
        "img = preprocess(img).unsqueeze(0)  # バッチ次元を追加\n",
        "\n",
        "# モデルを使って予測\n",
        "with torch.no_grad():\n",
        "    img = img.to(CONFIG['device'])  # 画像をデバイスに移動\n",
        "    output = model(img)  # 予測\n",
        "\n",
        "# 出力結果を表示\n",
        "print(\"Model output:\", output)\n",
        "df_train.loc[\"ISIC_0157834\"][[\"target\",\"lesion_id\"]]\n"
      ],
      "metadata": {
        "colab": {
          "base_uri": "https://localhost:8080/",
          "height": 164
        },
        "id": "HHJ2hCrfZOze",
        "outputId": "1b9291ce-0181-4c9c-ce36-031300074b83"
      },
      "execution_count": 112,
      "outputs": [
        {
          "output_type": "stream",
          "name": "stdout",
          "text": [
            "Model output: tensor([[0.9297]])\n"
          ]
        },
        {
          "output_type": "execute_result",
          "data": {
            "text/plain": [
              "target                1\n",
              "lesion_id    IL_2429082\n",
              "Name: ISIC_0157834, dtype: object"
            ],
            "text/html": [
              "<div>\n",
              "<style scoped>\n",
              "    .dataframe tbody tr th:only-of-type {\n",
              "        vertical-align: middle;\n",
              "    }\n",
              "\n",
              "    .dataframe tbody tr th {\n",
              "        vertical-align: top;\n",
              "    }\n",
              "\n",
              "    .dataframe thead th {\n",
              "        text-align: right;\n",
              "    }\n",
              "</style>\n",
              "<table border=\"1\" class=\"dataframe\">\n",
              "  <thead>\n",
              "    <tr style=\"text-align: right;\">\n",
              "      <th></th>\n",
              "      <th>ISIC_0157834</th>\n",
              "    </tr>\n",
              "  </thead>\n",
              "  <tbody>\n",
              "    <tr>\n",
              "      <th>target</th>\n",
              "      <td>1</td>\n",
              "    </tr>\n",
              "    <tr>\n",
              "      <th>lesion_id</th>\n",
              "      <td>IL_2429082</td>\n",
              "    </tr>\n",
              "  </tbody>\n",
              "</table>\n",
              "</div><br><label><b>dtype:</b> object</label>"
            ]
          },
          "metadata": {},
          "execution_count": 112
        }
      ]
    },
    {
      "cell_type": "code",
      "source": [
        "import torch\n",
        "from torch.utils.data import DataLoader, Dataset\n",
        "import cv2\n",
        "import numpy as np\n",
        "import pandas as pd\n",
        "from tqdm import tqdm  # 進捗表示のために追加\n",
        "\n",
        "# ISICDatasetとISICDataset_for_Trainは以前の実装コードを使用\n",
        "\n",
        "class ISICDataset(Dataset):\n",
        "    def __init__(self, df, transforms=None):\n",
        "        self.df = df\n",
        "        self.file_names = df['file_path'].values\n",
        "        self.targets = df['target'].values\n",
        "        self.transforms = transforms\n",
        "\n",
        "    def __len__(self):\n",
        "        return len(self.df)\n",
        "\n",
        "    def __getitem__(self, index):\n",
        "        img_path = self.file_names[index]\n",
        "        img = cv2.imread(img_path)\n",
        "        img = cv2.cvtColor(img, cv2.COLOR_BGR2RGB)\n",
        "        target = self.targets[index]\n",
        "\n",
        "        if self.transforms:\n",
        "            img = self.transforms(image=img)[\"image\"]\n",
        "\n",
        "        return {\n",
        "            'image': img,\n",
        "            'target': target\n",
        "        }\n",
        "\n",
        "\n",
        "# バッチ処理で予測結果を取得する関数\n",
        "def predict_all_batches(model, df_train, batch_size=32):\n",
        "    model.eval()\n",
        "    predictions = []\n",
        "    img_paths = [f\"/kaggle/input/isic-2024-challenge/train-image/image/{isic_id}.jpg\" for isic_id in df_train.index]\n",
        "\n",
        "    # tqdm を使用して進捗バーを表示\n",
        "    for i in tqdm(range(0, len(img_paths), batch_size), desc=\"Processing Batches\"):\n",
        "        batch_paths = img_paths[i:i+batch_size]\n",
        "        batch_images = []\n",
        "        for img_path in batch_paths:\n",
        "            img = cv2.imread(img_path)\n",
        "            img = cv2.cvtColor(img, cv2.COLOR_BGR2RGB)\n",
        "            img = preprocess(img)\n",
        "            batch_images.append(img)\n",
        "\n",
        "        batch_images = torch.stack(batch_images).to(CONFIG['device'])\n",
        "        with torch.no_grad():\n",
        "            output = model(batch_images)\n",
        "            preds = torch.sigmoid(output).cpu().numpy()\n",
        "            predictions.extend(preds)\n",
        "\n",
        "    return np.array(predictions).squeeze()\n",
        "\n",
        "# モデルで予測を実行し、誤った予測を抽出\n",
        "predictions = predict_all_batches(model, df_train)\n",
        "df_train['predictions'] = predictions\n",
        "\n",
        "# 誤った予測を持つデータを抽出\n",
        "incorrect_df = df_train[(df_train['predictions'] > 0.5) != (df_train['target'] == 1)]\n",
        "\n",
        "# 新しいデータローダの作成\n",
        "class IncorrectPredictionsDataset(Dataset):\n",
        "    def __init__(self, df, transforms=None):\n",
        "        self.df = df\n",
        "        self.file_names = df['file_path'].values\n",
        "        self.targets = df['target'].values\n",
        "        self.transforms = transforms\n",
        "\n",
        "    def __len__(self):\n",
        "        return len(self.df)\n",
        "\n",
        "    def __getitem__(self, index):\n",
        "        img_path = self.file_names[index]\n",
        "        img = cv2.imread(img_path)\n",
        "        img = cv2.cvtColor(img, cv2.COLOR_BGR2RGB)\n",
        "        target = self.targets[index]\n",
        "\n",
        "        if self.transforms:\n",
        "            img = self.transforms(image=img)[\"image\"]\n",
        "\n",
        "        return {\n",
        "            'image': img,\n",
        "            'target': target\n",
        "        }\n",
        "\n",
        "incorrect_dataset = IncorrectPredictionsDataset(incorrect_df, transforms=your_transforms)  # 既存のtransformsを使用\n",
        "incorrect_dataloader = DataLoader(incorrect_dataset, batch_size=32, shuffle=True)\n"
      ],
      "metadata": {
        "colab": {
          "base_uri": "https://localhost:8080/"
        },
        "id": "vi_0lnmlc1Qz",
        "outputId": "6d6de2aa-67a3-43de-8b5a-eedaaabdca50"
      },
      "execution_count": null,
      "outputs": [
        {
          "output_type": "stream",
          "name": "stderr",
          "text": [
            "Processing Batches:   1%|▏         | 185/12534 [01:44<1:57:36,  1.75it/s]"
          ]
        }
      ]
    },
    {
      "cell_type": "code",
      "source": [
        "import torch\n",
        "\n",
        "# モデルの評価とミス分類データの特定\n",
        "misclassified_data = []\n",
        "model.eval()\n",
        "with torch.no_grad():\n",
        "    for images, labels in val_loader:  # 検証用データを使用\n",
        "        outputs = model(images)\n",
        "        _, preds = torch.max(outputs, 1)\n",
        "        misclassified = (preds != labels).nonzero(as_tuple=True)[0]\n",
        "        misclassified_data.extend([(images[i], labels[i]) for i in misclassified])\n"
      ],
      "metadata": {
        "id": "Tbi9pE4yjxcX",
        "outputId": "826cefa9-41da-40a1-d7fe-1c118dbf93d0",
        "colab": {
          "base_uri": "https://localhost:8080/",
          "height": 211
        }
      },
      "execution_count": null,
      "outputs": [
        {
          "output_type": "error",
          "ename": "NameError",
          "evalue": "name 'val_loader' is not defined",
          "traceback": [
            "\u001b[0;31m---------------------------------------------------------------------------\u001b[0m",
            "\u001b[0;31mNameError\u001b[0m                                 Traceback (most recent call last)",
            "\u001b[0;32m<ipython-input-76-182c0af7837b>\u001b[0m in \u001b[0;36m<cell line: 6>\u001b[0;34m()\u001b[0m\n\u001b[1;32m      5\u001b[0m \u001b[0mmodel\u001b[0m\u001b[0;34m.\u001b[0m\u001b[0meval\u001b[0m\u001b[0;34m(\u001b[0m\u001b[0;34m)\u001b[0m\u001b[0;34m\u001b[0m\u001b[0;34m\u001b[0m\u001b[0m\n\u001b[1;32m      6\u001b[0m \u001b[0;32mwith\u001b[0m \u001b[0mtorch\u001b[0m\u001b[0;34m.\u001b[0m\u001b[0mno_grad\u001b[0m\u001b[0;34m(\u001b[0m\u001b[0;34m)\u001b[0m\u001b[0;34m:\u001b[0m\u001b[0;34m\u001b[0m\u001b[0;34m\u001b[0m\u001b[0m\n\u001b[0;32m----> 7\u001b[0;31m     \u001b[0;32mfor\u001b[0m \u001b[0mimages\u001b[0m\u001b[0;34m,\u001b[0m \u001b[0mlabels\u001b[0m \u001b[0;32min\u001b[0m \u001b[0mval_loader\u001b[0m\u001b[0;34m:\u001b[0m  \u001b[0;31m# 検証用データを使用\u001b[0m\u001b[0;34m\u001b[0m\u001b[0;34m\u001b[0m\u001b[0m\n\u001b[0m\u001b[1;32m      8\u001b[0m         \u001b[0moutputs\u001b[0m \u001b[0;34m=\u001b[0m \u001b[0mmodel\u001b[0m\u001b[0;34m(\u001b[0m\u001b[0mimages\u001b[0m\u001b[0;34m)\u001b[0m\u001b[0;34m\u001b[0m\u001b[0;34m\u001b[0m\u001b[0m\n\u001b[1;32m      9\u001b[0m         \u001b[0m_\u001b[0m\u001b[0;34m,\u001b[0m \u001b[0mpreds\u001b[0m \u001b[0;34m=\u001b[0m \u001b[0mtorch\u001b[0m\u001b[0;34m.\u001b[0m\u001b[0mmax\u001b[0m\u001b[0;34m(\u001b[0m\u001b[0moutputs\u001b[0m\u001b[0;34m,\u001b[0m \u001b[0;36m1\u001b[0m\u001b[0;34m)\u001b[0m\u001b[0;34m\u001b[0m\u001b[0;34m\u001b[0m\u001b[0m\n",
            "\u001b[0;31mNameError\u001b[0m: name 'val_loader' is not defined"
          ]
        }
      ]
    },
    {
      "cell_type": "code",
      "source": [
        "import torchvision.transforms as transforms\n",
        "from PIL import Image, ImageEnhance\n",
        "\n",
        "# フィルタの定義\n",
        "def apply_filters(image):\n",
        "    pil_image = transforms.ToPILImage()(image)\n",
        "\n",
        "    # 色彩強調フィルタ\n",
        "    enhancer = ImageEnhance.Color(pil_image)\n",
        "    enhanced_image = enhancer.enhance(2.0)  # 色彩を強調\n",
        "\n",
        "    # エッジ抽出＆強調フィルタ\n",
        "    edge_image = enhanced_image.filter(ImageFilter.FIND_EDGES)\n",
        "    edge_image = edge_image.filter(ImageFilter.EDGE_ENHANCE_MORE)\n",
        "\n",
        "    return transforms.ToTensor()(edge_image)\n",
        "\n",
        "# ミス分類データにフィルタを適用\n",
        "filtered_data = [(apply_filters(img), label) for img, label in misclassified_data]\n"
      ],
      "metadata": {
        "id": "hhzXARtHj0Mk",
        "outputId": "3bd953b8-752e-4062-8a08-70a656f1760f",
        "colab": {
          "base_uri": "https://localhost:8080/",
          "height": 176
        }
      },
      "execution_count": null,
      "outputs": [
        {
          "output_type": "error",
          "ename": "NameError",
          "evalue": "name 'misclassified_data' is not defined",
          "traceback": [
            "\u001b[0;31m---------------------------------------------------------------------------\u001b[0m",
            "\u001b[0;31mNameError\u001b[0m                                 Traceback (most recent call last)",
            "\u001b[0;32m<ipython-input-70-e26759f1bb1f>\u001b[0m in \u001b[0;36m<cell line: 19>\u001b[0;34m()\u001b[0m\n\u001b[1;32m     17\u001b[0m \u001b[0;34m\u001b[0m\u001b[0m\n\u001b[1;32m     18\u001b[0m \u001b[0;31m# ミス分類データにフィルタを適用\u001b[0m\u001b[0;34m\u001b[0m\u001b[0;34m\u001b[0m\u001b[0m\n\u001b[0;32m---> 19\u001b[0;31m \u001b[0mfiltered_data\u001b[0m \u001b[0;34m=\u001b[0m \u001b[0;34m[\u001b[0m\u001b[0;34m(\u001b[0m\u001b[0mapply_filters\u001b[0m\u001b[0;34m(\u001b[0m\u001b[0mimg\u001b[0m\u001b[0;34m)\u001b[0m\u001b[0;34m,\u001b[0m \u001b[0mlabel\u001b[0m\u001b[0;34m)\u001b[0m \u001b[0;32mfor\u001b[0m \u001b[0mimg\u001b[0m\u001b[0;34m,\u001b[0m \u001b[0mlabel\u001b[0m \u001b[0;32min\u001b[0m \u001b[0mmisclassified_data\u001b[0m\u001b[0;34m]\u001b[0m\u001b[0;34m\u001b[0m\u001b[0;34m\u001b[0m\u001b[0m\n\u001b[0m",
            "\u001b[0;31mNameError\u001b[0m: name 'misclassified_data' is not defined"
          ]
        }
      ]
    },
    {
      "cell_type": "code",
      "source": [
        "from torch.utils.data import DataLoader, TensorDataset\n",
        "\n",
        "# フィルタを適用したデータセットを作成\n",
        "filtered_images, filtered_labels = zip(*filtered_data)\n",
        "filtered_dataset = TensorDataset(torch.stack(filtered_images), torch.tensor(filtered_labels))\n",
        "filtered_loader = DataLoader(filtered_dataset, batch_size=32, shuffle=True)\n",
        "\n",
        "# 別のモデルでトレーニング\n",
        "model2 = Model()  # 新しいモデルインスタンス\n",
        "optimizer2 = torch.optim.Adam(model2.parameters(), lr=0.001)\n",
        "\n",
        "for epoch in range(10):\n",
        "    model2.train()\n",
        "    for images, labels in filtered_loader:\n",
        "        optimizer2.zero_grad()\n",
        "        outputs = model2(images)\n",
        "        loss = criterion(outputs, labels)\n",
        "        loss.backward()\n",
        "        optimizer2.step()\n"
      ],
      "metadata": {
        "id": "Hqc6g7rPj5iB",
        "outputId": "3387f4c7-459e-4110-cbcb-4a26e0afc503",
        "colab": {
          "base_uri": "https://localhost:8080/",
          "height": 211
        }
      },
      "execution_count": null,
      "outputs": [
        {
          "output_type": "error",
          "ename": "NameError",
          "evalue": "name 'filtered_data' is not defined",
          "traceback": [
            "\u001b[0;31m---------------------------------------------------------------------------\u001b[0m",
            "\u001b[0;31mNameError\u001b[0m                                 Traceback (most recent call last)",
            "\u001b[0;32m<ipython-input-71-b088dc55eeab>\u001b[0m in \u001b[0;36m<cell line: 4>\u001b[0;34m()\u001b[0m\n\u001b[1;32m      2\u001b[0m \u001b[0;34m\u001b[0m\u001b[0m\n\u001b[1;32m      3\u001b[0m \u001b[0;31m# フィルタを適用したデータセットを作成\u001b[0m\u001b[0;34m\u001b[0m\u001b[0;34m\u001b[0m\u001b[0m\n\u001b[0;32m----> 4\u001b[0;31m \u001b[0mfiltered_images\u001b[0m\u001b[0;34m,\u001b[0m \u001b[0mfiltered_labels\u001b[0m \u001b[0;34m=\u001b[0m \u001b[0mzip\u001b[0m\u001b[0;34m(\u001b[0m\u001b[0;34m*\u001b[0m\u001b[0mfiltered_data\u001b[0m\u001b[0;34m)\u001b[0m\u001b[0;34m\u001b[0m\u001b[0;34m\u001b[0m\u001b[0m\n\u001b[0m\u001b[1;32m      5\u001b[0m \u001b[0mfiltered_dataset\u001b[0m \u001b[0;34m=\u001b[0m \u001b[0mTensorDataset\u001b[0m\u001b[0;34m(\u001b[0m\u001b[0mtorch\u001b[0m\u001b[0;34m.\u001b[0m\u001b[0mstack\u001b[0m\u001b[0;34m(\u001b[0m\u001b[0mfiltered_images\u001b[0m\u001b[0;34m)\u001b[0m\u001b[0;34m,\u001b[0m \u001b[0mtorch\u001b[0m\u001b[0;34m.\u001b[0m\u001b[0mtensor\u001b[0m\u001b[0;34m(\u001b[0m\u001b[0mfiltered_labels\u001b[0m\u001b[0;34m)\u001b[0m\u001b[0;34m)\u001b[0m\u001b[0;34m\u001b[0m\u001b[0;34m\u001b[0m\u001b[0m\n\u001b[1;32m      6\u001b[0m \u001b[0mfiltered_loader\u001b[0m \u001b[0;34m=\u001b[0m \u001b[0mDataLoader\u001b[0m\u001b[0;34m(\u001b[0m\u001b[0mfiltered_dataset\u001b[0m\u001b[0;34m,\u001b[0m \u001b[0mbatch_size\u001b[0m\u001b[0;34m=\u001b[0m\u001b[0;36m32\u001b[0m\u001b[0;34m,\u001b[0m \u001b[0mshuffle\u001b[0m\u001b[0;34m=\u001b[0m\u001b[0;32mTrue\u001b[0m\u001b[0;34m)\u001b[0m\u001b[0;34m\u001b[0m\u001b[0;34m\u001b[0m\u001b[0m\n",
            "\u001b[0;31mNameError\u001b[0m: name 'filtered_data' is not defined"
          ]
        }
      ]
    },
    {
      "cell_type": "code",
      "source": [
        "# 最終モデルの予測と統合\n",
        "final_predictions = []\n",
        "model.eval()\n",
        "model2.eval()\n",
        "\n",
        "with torch.no_grad():\n",
        "    for images in test_loader:\n",
        "        outputs1 = model(images)\n",
        "        outputs2 = model2(images)\n",
        "\n",
        "        # 加重平均や他のアンサンブル手法を使用\n",
        "        final_output = (outputs1 + outputs2) / 2\n",
        "        _, final_pred = torch.max(final_output, 1)\n",
        "        final_predictions.extend(final_pred.cpu().numpy())\n"
      ],
      "metadata": {
        "id": "KU8k4GJakASS"
      },
      "execution_count": null,
      "outputs": []
    },
    {
      "cell_type": "markdown",
      "source": [
        "## Prepare for Unsamble"
      ],
      "metadata": {
        "id": "6ClDFRj3cb_o"
      }
    },
    {
      "cell_type": "code",
      "source": [
        "model1 = model\n",
        "model1.load_state_dict(torch.load(\"model1.pth\"))\n",
        "model1.eval()\n",
        "\n",
        "model2 = model\n",
        "model2.load_state_dict(torch.load(model2_path"
      ],
      "metadata": {
        "id": "O6bmF3YhcbTX"
      },
      "execution_count": null,
      "outputs": []
    },
    {
      "cell_type": "code",
      "source": [],
      "metadata": {
        "id": "MGpJ6JtCbeit"
      },
      "execution_count": null,
      "outputs": []
    },
    {
      "cell_type": "code",
      "source": [],
      "metadata": {
        "id": "76nXQWvLbegH"
      },
      "execution_count": null,
      "outputs": []
    },
    {
      "cell_type": "code",
      "source": [],
      "metadata": {
        "id": "PbXWc7hcbd_r"
      },
      "execution_count": null,
      "outputs": []
    },
    {
      "cell_type": "code",
      "source": [
        "# Read the CSV file\n",
        "oof_image_net_preds = pd.read_csv(\"/kaggle/input/isic-2024-imagenet-gen-2-output/oof_predictions.csv\")\n",
        "\n",
        "# Rename the 'oof_prediction' column to 'imagenet_predict'\n",
        "image_pred_col = \"imagenet_predict\"\n",
        "oof_image_net_preds = oof_image_net_preds.rename(columns={'oof_prediction': image_pred_col})\n",
        "\n",
        "# Merge with df_train on 'isic_id', adding both 'fold' and the prediction column\n",
        "df_train = df_train.merge(oof_image_net_preds[['isic_id', 'fold', image_pred_col]],\n",
        "                          on='isic_id',\n",
        "                          how='left')\n",
        "\n",
        "# Add the new column to feature_cols\n",
        "feature_cols.append(image_pred_col)\n",
        "\n",
        "# Print some information about the merged dataframe\n",
        "print(f\"Shape of df_train after merge: {df_train.shape}\")\n",
        "print(f\"Number of null values in {image_pred_col}: {df_train[image_pred_col].isnull().sum()}\")\n",
        "print(f\"Number of null values in fold: {df_train['fold'].isnull().sum()}\")\n",
        "print(f\"Unique values in fold: {df_train['fold'].unique()}\")"
      ],
      "metadata": {
        "execution": {
          "iopub.status.busy": "2024-08-11T06:30:19.497449Z",
          "iopub.execute_input": "2024-08-11T06:30:19.497838Z",
          "iopub.status.idle": "2024-08-11T06:30:20.032201Z",
          "shell.execute_reply.started": "2024-08-11T06:30:19.497803Z",
          "shell.execute_reply": "2024-08-11T06:30:20.030797Z"
        },
        "trusted": true,
        "collapsed": true,
        "id": "VrUKhj_1MMsR",
        "outputId": "987b9641-7bd7-4384-eb1a-28c59c3a8ded",
        "colab": {
          "base_uri": "https://localhost:8080/",
          "height": 894
        }
      },
      "execution_count": null,
      "outputs": [
        {
          "output_type": "error",
          "ename": "FileNotFoundError",
          "evalue": "[Errno 2] No such file or directory: '/kaggle/input/isic-2024-imagenet-gen-2-output/oof_predictions.csv'",
          "traceback": [
            "\u001b[0;31m---------------------------------------------------------------------------\u001b[0m",
            "\u001b[0;31mFileNotFoundError\u001b[0m                         Traceback (most recent call last)",
            "\u001b[0;32m<ipython-input-15-052351d66212>\u001b[0m in \u001b[0;36m<cell line: 2>\u001b[0;34m()\u001b[0m\n\u001b[1;32m      1\u001b[0m \u001b[0;31m# Read the CSV file\u001b[0m\u001b[0;34m\u001b[0m\u001b[0;34m\u001b[0m\u001b[0m\n\u001b[0;32m----> 2\u001b[0;31m \u001b[0moof_image_net_preds\u001b[0m \u001b[0;34m=\u001b[0m \u001b[0mpd\u001b[0m\u001b[0;34m.\u001b[0m\u001b[0mread_csv\u001b[0m\u001b[0;34m(\u001b[0m\u001b[0;34m\"/kaggle/input/isic-2024-imagenet-gen-2-output/oof_predictions.csv\"\u001b[0m\u001b[0;34m)\u001b[0m\u001b[0;34m\u001b[0m\u001b[0;34m\u001b[0m\u001b[0m\n\u001b[0m\u001b[1;32m      3\u001b[0m \u001b[0;34m\u001b[0m\u001b[0m\n\u001b[1;32m      4\u001b[0m \u001b[0;31m# Rename the 'oof_prediction' column to 'imagenet_predict'\u001b[0m\u001b[0;34m\u001b[0m\u001b[0;34m\u001b[0m\u001b[0m\n\u001b[1;32m      5\u001b[0m \u001b[0mimage_pred_col\u001b[0m \u001b[0;34m=\u001b[0m \u001b[0;34m\"imagenet_predict\"\u001b[0m\u001b[0;34m\u001b[0m\u001b[0;34m\u001b[0m\u001b[0m\n",
            "\u001b[0;32m/usr/local/lib/python3.10/dist-packages/pandas/io/parsers/readers.py\u001b[0m in \u001b[0;36mread_csv\u001b[0;34m(filepath_or_buffer, sep, delimiter, header, names, index_col, usecols, dtype, engine, converters, true_values, false_values, skipinitialspace, skiprows, skipfooter, nrows, na_values, keep_default_na, na_filter, verbose, skip_blank_lines, parse_dates, infer_datetime_format, keep_date_col, date_parser, date_format, dayfirst, cache_dates, iterator, chunksize, compression, thousands, decimal, lineterminator, quotechar, quoting, doublequote, escapechar, comment, encoding, encoding_errors, dialect, on_bad_lines, delim_whitespace, low_memory, memory_map, float_precision, storage_options, dtype_backend)\u001b[0m\n\u001b[1;32m    946\u001b[0m     \u001b[0mkwds\u001b[0m\u001b[0;34m.\u001b[0m\u001b[0mupdate\u001b[0m\u001b[0;34m(\u001b[0m\u001b[0mkwds_defaults\u001b[0m\u001b[0;34m)\u001b[0m\u001b[0;34m\u001b[0m\u001b[0;34m\u001b[0m\u001b[0m\n\u001b[1;32m    947\u001b[0m \u001b[0;34m\u001b[0m\u001b[0m\n\u001b[0;32m--> 948\u001b[0;31m     \u001b[0;32mreturn\u001b[0m \u001b[0m_read\u001b[0m\u001b[0;34m(\u001b[0m\u001b[0mfilepath_or_buffer\u001b[0m\u001b[0;34m,\u001b[0m \u001b[0mkwds\u001b[0m\u001b[0;34m)\u001b[0m\u001b[0;34m\u001b[0m\u001b[0;34m\u001b[0m\u001b[0m\n\u001b[0m\u001b[1;32m    949\u001b[0m \u001b[0;34m\u001b[0m\u001b[0m\n\u001b[1;32m    950\u001b[0m \u001b[0;34m\u001b[0m\u001b[0m\n",
            "\u001b[0;32m/usr/local/lib/python3.10/dist-packages/pandas/io/parsers/readers.py\u001b[0m in \u001b[0;36m_read\u001b[0;34m(filepath_or_buffer, kwds)\u001b[0m\n\u001b[1;32m    609\u001b[0m \u001b[0;34m\u001b[0m\u001b[0m\n\u001b[1;32m    610\u001b[0m     \u001b[0;31m# Create the parser.\u001b[0m\u001b[0;34m\u001b[0m\u001b[0;34m\u001b[0m\u001b[0m\n\u001b[0;32m--> 611\u001b[0;31m     \u001b[0mparser\u001b[0m \u001b[0;34m=\u001b[0m \u001b[0mTextFileReader\u001b[0m\u001b[0;34m(\u001b[0m\u001b[0mfilepath_or_buffer\u001b[0m\u001b[0;34m,\u001b[0m \u001b[0;34m**\u001b[0m\u001b[0mkwds\u001b[0m\u001b[0;34m)\u001b[0m\u001b[0;34m\u001b[0m\u001b[0;34m\u001b[0m\u001b[0m\n\u001b[0m\u001b[1;32m    612\u001b[0m \u001b[0;34m\u001b[0m\u001b[0m\n\u001b[1;32m    613\u001b[0m     \u001b[0;32mif\u001b[0m \u001b[0mchunksize\u001b[0m \u001b[0;32mor\u001b[0m \u001b[0miterator\u001b[0m\u001b[0;34m:\u001b[0m\u001b[0;34m\u001b[0m\u001b[0;34m\u001b[0m\u001b[0m\n",
            "\u001b[0;32m/usr/local/lib/python3.10/dist-packages/pandas/io/parsers/readers.py\u001b[0m in \u001b[0;36m__init__\u001b[0;34m(self, f, engine, **kwds)\u001b[0m\n\u001b[1;32m   1446\u001b[0m \u001b[0;34m\u001b[0m\u001b[0m\n\u001b[1;32m   1447\u001b[0m         \u001b[0mself\u001b[0m\u001b[0;34m.\u001b[0m\u001b[0mhandles\u001b[0m\u001b[0;34m:\u001b[0m \u001b[0mIOHandles\u001b[0m \u001b[0;34m|\u001b[0m \u001b[0;32mNone\u001b[0m \u001b[0;34m=\u001b[0m \u001b[0;32mNone\u001b[0m\u001b[0;34m\u001b[0m\u001b[0;34m\u001b[0m\u001b[0m\n\u001b[0;32m-> 1448\u001b[0;31m         \u001b[0mself\u001b[0m\u001b[0;34m.\u001b[0m\u001b[0m_engine\u001b[0m \u001b[0;34m=\u001b[0m \u001b[0mself\u001b[0m\u001b[0;34m.\u001b[0m\u001b[0m_make_engine\u001b[0m\u001b[0;34m(\u001b[0m\u001b[0mf\u001b[0m\u001b[0;34m,\u001b[0m \u001b[0mself\u001b[0m\u001b[0;34m.\u001b[0m\u001b[0mengine\u001b[0m\u001b[0;34m)\u001b[0m\u001b[0;34m\u001b[0m\u001b[0;34m\u001b[0m\u001b[0m\n\u001b[0m\u001b[1;32m   1449\u001b[0m \u001b[0;34m\u001b[0m\u001b[0m\n\u001b[1;32m   1450\u001b[0m     \u001b[0;32mdef\u001b[0m \u001b[0mclose\u001b[0m\u001b[0;34m(\u001b[0m\u001b[0mself\u001b[0m\u001b[0;34m)\u001b[0m \u001b[0;34m->\u001b[0m \u001b[0;32mNone\u001b[0m\u001b[0;34m:\u001b[0m\u001b[0;34m\u001b[0m\u001b[0;34m\u001b[0m\u001b[0m\n",
            "\u001b[0;32m/usr/local/lib/python3.10/dist-packages/pandas/io/parsers/readers.py\u001b[0m in \u001b[0;36m_make_engine\u001b[0;34m(self, f, engine)\u001b[0m\n\u001b[1;32m   1703\u001b[0m                 \u001b[0;32mif\u001b[0m \u001b[0;34m\"b\"\u001b[0m \u001b[0;32mnot\u001b[0m \u001b[0;32min\u001b[0m \u001b[0mmode\u001b[0m\u001b[0;34m:\u001b[0m\u001b[0;34m\u001b[0m\u001b[0;34m\u001b[0m\u001b[0m\n\u001b[1;32m   1704\u001b[0m                     \u001b[0mmode\u001b[0m \u001b[0;34m+=\u001b[0m \u001b[0;34m\"b\"\u001b[0m\u001b[0;34m\u001b[0m\u001b[0;34m\u001b[0m\u001b[0m\n\u001b[0;32m-> 1705\u001b[0;31m             self.handles = get_handle(\n\u001b[0m\u001b[1;32m   1706\u001b[0m                 \u001b[0mf\u001b[0m\u001b[0;34m,\u001b[0m\u001b[0;34m\u001b[0m\u001b[0;34m\u001b[0m\u001b[0m\n\u001b[1;32m   1707\u001b[0m                 \u001b[0mmode\u001b[0m\u001b[0;34m,\u001b[0m\u001b[0;34m\u001b[0m\u001b[0;34m\u001b[0m\u001b[0m\n",
            "\u001b[0;32m/usr/local/lib/python3.10/dist-packages/pandas/io/common.py\u001b[0m in \u001b[0;36mget_handle\u001b[0;34m(path_or_buf, mode, encoding, compression, memory_map, is_text, errors, storage_options)\u001b[0m\n\u001b[1;32m    861\u001b[0m         \u001b[0;32mif\u001b[0m \u001b[0mioargs\u001b[0m\u001b[0;34m.\u001b[0m\u001b[0mencoding\u001b[0m \u001b[0;32mand\u001b[0m \u001b[0;34m\"b\"\u001b[0m \u001b[0;32mnot\u001b[0m \u001b[0;32min\u001b[0m \u001b[0mioargs\u001b[0m\u001b[0;34m.\u001b[0m\u001b[0mmode\u001b[0m\u001b[0;34m:\u001b[0m\u001b[0;34m\u001b[0m\u001b[0;34m\u001b[0m\u001b[0m\n\u001b[1;32m    862\u001b[0m             \u001b[0;31m# Encoding\u001b[0m\u001b[0;34m\u001b[0m\u001b[0;34m\u001b[0m\u001b[0m\n\u001b[0;32m--> 863\u001b[0;31m             handle = open(\n\u001b[0m\u001b[1;32m    864\u001b[0m                 \u001b[0mhandle\u001b[0m\u001b[0;34m,\u001b[0m\u001b[0;34m\u001b[0m\u001b[0;34m\u001b[0m\u001b[0m\n\u001b[1;32m    865\u001b[0m                 \u001b[0mioargs\u001b[0m\u001b[0;34m.\u001b[0m\u001b[0mmode\u001b[0m\u001b[0;34m,\u001b[0m\u001b[0;34m\u001b[0m\u001b[0;34m\u001b[0m\u001b[0m\n",
            "\u001b[0;31mFileNotFoundError\u001b[0m: [Errno 2] No such file or directory: '/kaggle/input/isic-2024-imagenet-gen-2-output/oof_predictions.csv'"
          ]
        }
      ]
    },
    {
      "cell_type": "code",
      "source": [
        "df_train"
      ],
      "metadata": {
        "id": "aoDm-IiEV-Gl",
        "outputId": "f16d86e2-fad9-4a34-b8cd-32cb468fb364",
        "colab": {
          "base_uri": "https://localhost:8080/",
          "height": 648
        }
      },
      "execution_count": null,
      "outputs": [
        {
          "output_type": "execute_result",
          "data": {
            "text/plain": [
              "              target  patient_id  age_approx     sex anatom_site_general  \\\n",
              "isic_id                                                                    \n",
              "ISIC_0015670       0  IP_1235828        60.0    male     lower extremity   \n",
              "ISIC_0015845       0  IP_8170065        60.0    male           head/neck   \n",
              "ISIC_0015864       0  IP_6724798        60.0    male     posterior torso   \n",
              "ISIC_0015902       0  IP_4111386        65.0    male      anterior torso   \n",
              "ISIC_0024200       0  IP_8313778        55.0    male      anterior torso   \n",
              "...              ...         ...         ...     ...                 ...   \n",
              "ISIC_9999937       0  IP_1140263        70.0    male      anterior torso   \n",
              "ISIC_9999951       0  IP_5678181        60.0    male     posterior torso   \n",
              "ISIC_9999960       0  IP_0076153        65.0  female      anterior torso   \n",
              "ISIC_9999964       0  IP_5231513        30.0  female      anterior torso   \n",
              "ISIC_9999967       0  IP_6426047        50.0    male     lower extremity   \n",
              "\n",
              "              clin_size_long_diam_mm          image_type tbp_tile_type  \\\n",
              "isic_id                                                                  \n",
              "ISIC_0015670                    3.04  TBP tile: close-up     3D: white   \n",
              "ISIC_0015845                    1.10  TBP tile: close-up     3D: white   \n",
              "ISIC_0015864                    3.40  TBP tile: close-up        3D: XP   \n",
              "ISIC_0015902                    3.22  TBP tile: close-up        3D: XP   \n",
              "ISIC_0024200                    2.73  TBP tile: close-up     3D: white   \n",
              "...                              ...                 ...           ...   \n",
              "ISIC_9999937                    6.80  TBP tile: close-up        3D: XP   \n",
              "ISIC_9999951                    3.11  TBP tile: close-up     3D: white   \n",
              "ISIC_9999960                    2.05  TBP tile: close-up        3D: XP   \n",
              "ISIC_9999964                    2.80  TBP tile: close-up        3D: XP   \n",
              "ISIC_9999967                    3.30  TBP tile: close-up        3D: XP   \n",
              "\n",
              "               tbp_lv_A  tbp_lv_Aext  ...  onehot_37  onehot_38  onehot_39  \\\n",
              "isic_id                               ...                                    \n",
              "ISIC_0015670  20.244422    16.261975  ...          0          0          0   \n",
              "ISIC_0015845  31.712570    25.364740  ...          0          0          0   \n",
              "ISIC_0015864  22.575830    17.128170  ...          1          0          0   \n",
              "ISIC_0015902  14.242329    12.164757  ...          0          1          0   \n",
              "ISIC_0024200  24.725520    20.057470  ...          0          1          0   \n",
              "...                 ...          ...  ...        ...        ...        ...   \n",
              "ISIC_9999937  22.574335    14.944666  ...          0          1          0   \n",
              "ISIC_9999951  19.977640    16.026870  ...          1          0          0   \n",
              "ISIC_9999960  17.332567    12.364397  ...          0          1          0   \n",
              "ISIC_9999964  22.288570     9.564721  ...          0          1          0   \n",
              "ISIC_9999967  16.792900    11.434730  ...          0          0          0   \n",
              "\n",
              "              onehot_40  onehot_41  onehot_42  onehot_43  onehot_44  \\\n",
              "isic_id                                                               \n",
              "ISIC_0015670          0          0          0          0          1   \n",
              "ISIC_0015845          0          0          0          0          1   \n",
              "ISIC_0015864          0          0          0          0          1   \n",
              "ISIC_0015902          1          0          0          0          0   \n",
              "ISIC_0024200          0          0          0          0          1   \n",
              "...                 ...        ...        ...        ...        ...   \n",
              "ISIC_9999937          0          1          0          0          0   \n",
              "ISIC_9999951          0          0          0          0          1   \n",
              "ISIC_9999960          0          0          0          1          0   \n",
              "ISIC_9999964          0          0          0          0          0   \n",
              "ISIC_9999967          0          0          1          0          0   \n",
              "\n",
              "              onehot_45  onehot_46  \n",
              "isic_id                             \n",
              "ISIC_0015670          0          0  \n",
              "ISIC_0015845          0          0  \n",
              "ISIC_0015864          0          0  \n",
              "ISIC_0015902          0          0  \n",
              "ISIC_0024200          0          0  \n",
              "...                 ...        ...  \n",
              "ISIC_9999937          0          0  \n",
              "ISIC_9999951          0          0  \n",
              "ISIC_9999960          0          0  \n",
              "ISIC_9999964          1          0  \n",
              "ISIC_9999967          0          0  \n",
              "\n",
              "[401059 rows x 221 columns]"
            ],
            "text/html": [
              "\n",
              "  <div id=\"df-d966b9e0-6ace-4365-b2e4-c9a46abee908\" class=\"colab-df-container\">\n",
              "    <div>\n",
              "<style scoped>\n",
              "    .dataframe tbody tr th:only-of-type {\n",
              "        vertical-align: middle;\n",
              "    }\n",
              "\n",
              "    .dataframe tbody tr th {\n",
              "        vertical-align: top;\n",
              "    }\n",
              "\n",
              "    .dataframe thead th {\n",
              "        text-align: right;\n",
              "    }\n",
              "</style>\n",
              "<table border=\"1\" class=\"dataframe\">\n",
              "  <thead>\n",
              "    <tr style=\"text-align: right;\">\n",
              "      <th></th>\n",
              "      <th>target</th>\n",
              "      <th>patient_id</th>\n",
              "      <th>age_approx</th>\n",
              "      <th>sex</th>\n",
              "      <th>anatom_site_general</th>\n",
              "      <th>clin_size_long_diam_mm</th>\n",
              "      <th>image_type</th>\n",
              "      <th>tbp_tile_type</th>\n",
              "      <th>tbp_lv_A</th>\n",
              "      <th>tbp_lv_Aext</th>\n",
              "      <th>...</th>\n",
              "      <th>onehot_37</th>\n",
              "      <th>onehot_38</th>\n",
              "      <th>onehot_39</th>\n",
              "      <th>onehot_40</th>\n",
              "      <th>onehot_41</th>\n",
              "      <th>onehot_42</th>\n",
              "      <th>onehot_43</th>\n",
              "      <th>onehot_44</th>\n",
              "      <th>onehot_45</th>\n",
              "      <th>onehot_46</th>\n",
              "    </tr>\n",
              "    <tr>\n",
              "      <th>isic_id</th>\n",
              "      <th></th>\n",
              "      <th></th>\n",
              "      <th></th>\n",
              "      <th></th>\n",
              "      <th></th>\n",
              "      <th></th>\n",
              "      <th></th>\n",
              "      <th></th>\n",
              "      <th></th>\n",
              "      <th></th>\n",
              "      <th></th>\n",
              "      <th></th>\n",
              "      <th></th>\n",
              "      <th></th>\n",
              "      <th></th>\n",
              "      <th></th>\n",
              "      <th></th>\n",
              "      <th></th>\n",
              "      <th></th>\n",
              "      <th></th>\n",
              "      <th></th>\n",
              "    </tr>\n",
              "  </thead>\n",
              "  <tbody>\n",
              "    <tr>\n",
              "      <th>ISIC_0015670</th>\n",
              "      <td>0</td>\n",
              "      <td>IP_1235828</td>\n",
              "      <td>60.0</td>\n",
              "      <td>male</td>\n",
              "      <td>lower extremity</td>\n",
              "      <td>3.04</td>\n",
              "      <td>TBP tile: close-up</td>\n",
              "      <td>3D: white</td>\n",
              "      <td>20.244422</td>\n",
              "      <td>16.261975</td>\n",
              "      <td>...</td>\n",
              "      <td>0</td>\n",
              "      <td>0</td>\n",
              "      <td>0</td>\n",
              "      <td>0</td>\n",
              "      <td>0</td>\n",
              "      <td>0</td>\n",
              "      <td>0</td>\n",
              "      <td>1</td>\n",
              "      <td>0</td>\n",
              "      <td>0</td>\n",
              "    </tr>\n",
              "    <tr>\n",
              "      <th>ISIC_0015845</th>\n",
              "      <td>0</td>\n",
              "      <td>IP_8170065</td>\n",
              "      <td>60.0</td>\n",
              "      <td>male</td>\n",
              "      <td>head/neck</td>\n",
              "      <td>1.10</td>\n",
              "      <td>TBP tile: close-up</td>\n",
              "      <td>3D: white</td>\n",
              "      <td>31.712570</td>\n",
              "      <td>25.364740</td>\n",
              "      <td>...</td>\n",
              "      <td>0</td>\n",
              "      <td>0</td>\n",
              "      <td>0</td>\n",
              "      <td>0</td>\n",
              "      <td>0</td>\n",
              "      <td>0</td>\n",
              "      <td>0</td>\n",
              "      <td>1</td>\n",
              "      <td>0</td>\n",
              "      <td>0</td>\n",
              "    </tr>\n",
              "    <tr>\n",
              "      <th>ISIC_0015864</th>\n",
              "      <td>0</td>\n",
              "      <td>IP_6724798</td>\n",
              "      <td>60.0</td>\n",
              "      <td>male</td>\n",
              "      <td>posterior torso</td>\n",
              "      <td>3.40</td>\n",
              "      <td>TBP tile: close-up</td>\n",
              "      <td>3D: XP</td>\n",
              "      <td>22.575830</td>\n",
              "      <td>17.128170</td>\n",
              "      <td>...</td>\n",
              "      <td>1</td>\n",
              "      <td>0</td>\n",
              "      <td>0</td>\n",
              "      <td>0</td>\n",
              "      <td>0</td>\n",
              "      <td>0</td>\n",
              "      <td>0</td>\n",
              "      <td>1</td>\n",
              "      <td>0</td>\n",
              "      <td>0</td>\n",
              "    </tr>\n",
              "    <tr>\n",
              "      <th>ISIC_0015902</th>\n",
              "      <td>0</td>\n",
              "      <td>IP_4111386</td>\n",
              "      <td>65.0</td>\n",
              "      <td>male</td>\n",
              "      <td>anterior torso</td>\n",
              "      <td>3.22</td>\n",
              "      <td>TBP tile: close-up</td>\n",
              "      <td>3D: XP</td>\n",
              "      <td>14.242329</td>\n",
              "      <td>12.164757</td>\n",
              "      <td>...</td>\n",
              "      <td>0</td>\n",
              "      <td>1</td>\n",
              "      <td>0</td>\n",
              "      <td>1</td>\n",
              "      <td>0</td>\n",
              "      <td>0</td>\n",
              "      <td>0</td>\n",
              "      <td>0</td>\n",
              "      <td>0</td>\n",
              "      <td>0</td>\n",
              "    </tr>\n",
              "    <tr>\n",
              "      <th>ISIC_0024200</th>\n",
              "      <td>0</td>\n",
              "      <td>IP_8313778</td>\n",
              "      <td>55.0</td>\n",
              "      <td>male</td>\n",
              "      <td>anterior torso</td>\n",
              "      <td>2.73</td>\n",
              "      <td>TBP tile: close-up</td>\n",
              "      <td>3D: white</td>\n",
              "      <td>24.725520</td>\n",
              "      <td>20.057470</td>\n",
              "      <td>...</td>\n",
              "      <td>0</td>\n",
              "      <td>1</td>\n",
              "      <td>0</td>\n",
              "      <td>0</td>\n",
              "      <td>0</td>\n",
              "      <td>0</td>\n",
              "      <td>0</td>\n",
              "      <td>1</td>\n",
              "      <td>0</td>\n",
              "      <td>0</td>\n",
              "    </tr>\n",
              "    <tr>\n",
              "      <th>...</th>\n",
              "      <td>...</td>\n",
              "      <td>...</td>\n",
              "      <td>...</td>\n",
              "      <td>...</td>\n",
              "      <td>...</td>\n",
              "      <td>...</td>\n",
              "      <td>...</td>\n",
              "      <td>...</td>\n",
              "      <td>...</td>\n",
              "      <td>...</td>\n",
              "      <td>...</td>\n",
              "      <td>...</td>\n",
              "      <td>...</td>\n",
              "      <td>...</td>\n",
              "      <td>...</td>\n",
              "      <td>...</td>\n",
              "      <td>...</td>\n",
              "      <td>...</td>\n",
              "      <td>...</td>\n",
              "      <td>...</td>\n",
              "      <td>...</td>\n",
              "    </tr>\n",
              "    <tr>\n",
              "      <th>ISIC_9999937</th>\n",
              "      <td>0</td>\n",
              "      <td>IP_1140263</td>\n",
              "      <td>70.0</td>\n",
              "      <td>male</td>\n",
              "      <td>anterior torso</td>\n",
              "      <td>6.80</td>\n",
              "      <td>TBP tile: close-up</td>\n",
              "      <td>3D: XP</td>\n",
              "      <td>22.574335</td>\n",
              "      <td>14.944666</td>\n",
              "      <td>...</td>\n",
              "      <td>0</td>\n",
              "      <td>1</td>\n",
              "      <td>0</td>\n",
              "      <td>0</td>\n",
              "      <td>1</td>\n",
              "      <td>0</td>\n",
              "      <td>0</td>\n",
              "      <td>0</td>\n",
              "      <td>0</td>\n",
              "      <td>0</td>\n",
              "    </tr>\n",
              "    <tr>\n",
              "      <th>ISIC_9999951</th>\n",
              "      <td>0</td>\n",
              "      <td>IP_5678181</td>\n",
              "      <td>60.0</td>\n",
              "      <td>male</td>\n",
              "      <td>posterior torso</td>\n",
              "      <td>3.11</td>\n",
              "      <td>TBP tile: close-up</td>\n",
              "      <td>3D: white</td>\n",
              "      <td>19.977640</td>\n",
              "      <td>16.026870</td>\n",
              "      <td>...</td>\n",
              "      <td>1</td>\n",
              "      <td>0</td>\n",
              "      <td>0</td>\n",
              "      <td>0</td>\n",
              "      <td>0</td>\n",
              "      <td>0</td>\n",
              "      <td>0</td>\n",
              "      <td>1</td>\n",
              "      <td>0</td>\n",
              "      <td>0</td>\n",
              "    </tr>\n",
              "    <tr>\n",
              "      <th>ISIC_9999960</th>\n",
              "      <td>0</td>\n",
              "      <td>IP_0076153</td>\n",
              "      <td>65.0</td>\n",
              "      <td>female</td>\n",
              "      <td>anterior torso</td>\n",
              "      <td>2.05</td>\n",
              "      <td>TBP tile: close-up</td>\n",
              "      <td>3D: XP</td>\n",
              "      <td>17.332567</td>\n",
              "      <td>12.364397</td>\n",
              "      <td>...</td>\n",
              "      <td>0</td>\n",
              "      <td>1</td>\n",
              "      <td>0</td>\n",
              "      <td>0</td>\n",
              "      <td>0</td>\n",
              "      <td>0</td>\n",
              "      <td>1</td>\n",
              "      <td>0</td>\n",
              "      <td>0</td>\n",
              "      <td>0</td>\n",
              "    </tr>\n",
              "    <tr>\n",
              "      <th>ISIC_9999964</th>\n",
              "      <td>0</td>\n",
              "      <td>IP_5231513</td>\n",
              "      <td>30.0</td>\n",
              "      <td>female</td>\n",
              "      <td>anterior torso</td>\n",
              "      <td>2.80</td>\n",
              "      <td>TBP tile: close-up</td>\n",
              "      <td>3D: XP</td>\n",
              "      <td>22.288570</td>\n",
              "      <td>9.564721</td>\n",
              "      <td>...</td>\n",
              "      <td>0</td>\n",
              "      <td>1</td>\n",
              "      <td>0</td>\n",
              "      <td>0</td>\n",
              "      <td>0</td>\n",
              "      <td>0</td>\n",
              "      <td>0</td>\n",
              "      <td>0</td>\n",
              "      <td>1</td>\n",
              "      <td>0</td>\n",
              "    </tr>\n",
              "    <tr>\n",
              "      <th>ISIC_9999967</th>\n",
              "      <td>0</td>\n",
              "      <td>IP_6426047</td>\n",
              "      <td>50.0</td>\n",
              "      <td>male</td>\n",
              "      <td>lower extremity</td>\n",
              "      <td>3.30</td>\n",
              "      <td>TBP tile: close-up</td>\n",
              "      <td>3D: XP</td>\n",
              "      <td>16.792900</td>\n",
              "      <td>11.434730</td>\n",
              "      <td>...</td>\n",
              "      <td>0</td>\n",
              "      <td>0</td>\n",
              "      <td>0</td>\n",
              "      <td>0</td>\n",
              "      <td>0</td>\n",
              "      <td>1</td>\n",
              "      <td>0</td>\n",
              "      <td>0</td>\n",
              "      <td>0</td>\n",
              "      <td>0</td>\n",
              "    </tr>\n",
              "  </tbody>\n",
              "</table>\n",
              "<p>401059 rows × 221 columns</p>\n",
              "</div>\n",
              "    <div class=\"colab-df-buttons\">\n",
              "\n",
              "  <div class=\"colab-df-container\">\n",
              "    <button class=\"colab-df-convert\" onclick=\"convertToInteractive('df-d966b9e0-6ace-4365-b2e4-c9a46abee908')\"\n",
              "            title=\"Convert this dataframe to an interactive table.\"\n",
              "            style=\"display:none;\">\n",
              "\n",
              "  <svg xmlns=\"http://www.w3.org/2000/svg\" height=\"24px\" viewBox=\"0 -960 960 960\">\n",
              "    <path d=\"M120-120v-720h720v720H120Zm60-500h600v-160H180v160Zm220 220h160v-160H400v160Zm0 220h160v-160H400v160ZM180-400h160v-160H180v160Zm440 0h160v-160H620v160ZM180-180h160v-160H180v160Zm440 0h160v-160H620v160Z\"/>\n",
              "  </svg>\n",
              "    </button>\n",
              "\n",
              "  <style>\n",
              "    .colab-df-container {\n",
              "      display:flex;\n",
              "      gap: 12px;\n",
              "    }\n",
              "\n",
              "    .colab-df-convert {\n",
              "      background-color: #E8F0FE;\n",
              "      border: none;\n",
              "      border-radius: 50%;\n",
              "      cursor: pointer;\n",
              "      display: none;\n",
              "      fill: #1967D2;\n",
              "      height: 32px;\n",
              "      padding: 0 0 0 0;\n",
              "      width: 32px;\n",
              "    }\n",
              "\n",
              "    .colab-df-convert:hover {\n",
              "      background-color: #E2EBFA;\n",
              "      box-shadow: 0px 1px 2px rgba(60, 64, 67, 0.3), 0px 1px 3px 1px rgba(60, 64, 67, 0.15);\n",
              "      fill: #174EA6;\n",
              "    }\n",
              "\n",
              "    .colab-df-buttons div {\n",
              "      margin-bottom: 4px;\n",
              "    }\n",
              "\n",
              "    [theme=dark] .colab-df-convert {\n",
              "      background-color: #3B4455;\n",
              "      fill: #D2E3FC;\n",
              "    }\n",
              "\n",
              "    [theme=dark] .colab-df-convert:hover {\n",
              "      background-color: #434B5C;\n",
              "      box-shadow: 0px 1px 3px 1px rgba(0, 0, 0, 0.15);\n",
              "      filter: drop-shadow(0px 1px 2px rgba(0, 0, 0, 0.3));\n",
              "      fill: #FFFFFF;\n",
              "    }\n",
              "  </style>\n",
              "\n",
              "    <script>\n",
              "      const buttonEl =\n",
              "        document.querySelector('#df-d966b9e0-6ace-4365-b2e4-c9a46abee908 button.colab-df-convert');\n",
              "      buttonEl.style.display =\n",
              "        google.colab.kernel.accessAllowed ? 'block' : 'none';\n",
              "\n",
              "      async function convertToInteractive(key) {\n",
              "        const element = document.querySelector('#df-d966b9e0-6ace-4365-b2e4-c9a46abee908');\n",
              "        const dataTable =\n",
              "          await google.colab.kernel.invokeFunction('convertToInteractive',\n",
              "                                                    [key], {});\n",
              "        if (!dataTable) return;\n",
              "\n",
              "        const docLinkHtml = 'Like what you see? Visit the ' +\n",
              "          '<a target=\"_blank\" href=https://colab.research.google.com/notebooks/data_table.ipynb>data table notebook</a>'\n",
              "          + ' to learn more about interactive tables.';\n",
              "        element.innerHTML = '';\n",
              "        dataTable['output_type'] = 'display_data';\n",
              "        await google.colab.output.renderOutput(dataTable, element);\n",
              "        const docLink = document.createElement('div');\n",
              "        docLink.innerHTML = docLinkHtml;\n",
              "        element.appendChild(docLink);\n",
              "      }\n",
              "    </script>\n",
              "  </div>\n",
              "\n",
              "\n",
              "<div id=\"df-79c9f981-a646-476e-abf7-ab29161b352b\">\n",
              "  <button class=\"colab-df-quickchart\" onclick=\"quickchart('df-79c9f981-a646-476e-abf7-ab29161b352b')\"\n",
              "            title=\"Suggest charts\"\n",
              "            style=\"display:none;\">\n",
              "\n",
              "<svg xmlns=\"http://www.w3.org/2000/svg\" height=\"24px\"viewBox=\"0 0 24 24\"\n",
              "     width=\"24px\">\n",
              "    <g>\n",
              "        <path d=\"M19 3H5c-1.1 0-2 .9-2 2v14c0 1.1.9 2 2 2h14c1.1 0 2-.9 2-2V5c0-1.1-.9-2-2-2zM9 17H7v-7h2v7zm4 0h-2V7h2v10zm4 0h-2v-4h2v4z\"/>\n",
              "    </g>\n",
              "</svg>\n",
              "  </button>\n",
              "\n",
              "<style>\n",
              "  .colab-df-quickchart {\n",
              "      --bg-color: #E8F0FE;\n",
              "      --fill-color: #1967D2;\n",
              "      --hover-bg-color: #E2EBFA;\n",
              "      --hover-fill-color: #174EA6;\n",
              "      --disabled-fill-color: #AAA;\n",
              "      --disabled-bg-color: #DDD;\n",
              "  }\n",
              "\n",
              "  [theme=dark] .colab-df-quickchart {\n",
              "      --bg-color: #3B4455;\n",
              "      --fill-color: #D2E3FC;\n",
              "      --hover-bg-color: #434B5C;\n",
              "      --hover-fill-color: #FFFFFF;\n",
              "      --disabled-bg-color: #3B4455;\n",
              "      --disabled-fill-color: #666;\n",
              "  }\n",
              "\n",
              "  .colab-df-quickchart {\n",
              "    background-color: var(--bg-color);\n",
              "    border: none;\n",
              "    border-radius: 50%;\n",
              "    cursor: pointer;\n",
              "    display: none;\n",
              "    fill: var(--fill-color);\n",
              "    height: 32px;\n",
              "    padding: 0;\n",
              "    width: 32px;\n",
              "  }\n",
              "\n",
              "  .colab-df-quickchart:hover {\n",
              "    background-color: var(--hover-bg-color);\n",
              "    box-shadow: 0 1px 2px rgba(60, 64, 67, 0.3), 0 1px 3px 1px rgba(60, 64, 67, 0.15);\n",
              "    fill: var(--button-hover-fill-color);\n",
              "  }\n",
              "\n",
              "  .colab-df-quickchart-complete:disabled,\n",
              "  .colab-df-quickchart-complete:disabled:hover {\n",
              "    background-color: var(--disabled-bg-color);\n",
              "    fill: var(--disabled-fill-color);\n",
              "    box-shadow: none;\n",
              "  }\n",
              "\n",
              "  .colab-df-spinner {\n",
              "    border: 2px solid var(--fill-color);\n",
              "    border-color: transparent;\n",
              "    border-bottom-color: var(--fill-color);\n",
              "    animation:\n",
              "      spin 1s steps(1) infinite;\n",
              "  }\n",
              "\n",
              "  @keyframes spin {\n",
              "    0% {\n",
              "      border-color: transparent;\n",
              "      border-bottom-color: var(--fill-color);\n",
              "      border-left-color: var(--fill-color);\n",
              "    }\n",
              "    20% {\n",
              "      border-color: transparent;\n",
              "      border-left-color: var(--fill-color);\n",
              "      border-top-color: var(--fill-color);\n",
              "    }\n",
              "    30% {\n",
              "      border-color: transparent;\n",
              "      border-left-color: var(--fill-color);\n",
              "      border-top-color: var(--fill-color);\n",
              "      border-right-color: var(--fill-color);\n",
              "    }\n",
              "    40% {\n",
              "      border-color: transparent;\n",
              "      border-right-color: var(--fill-color);\n",
              "      border-top-color: var(--fill-color);\n",
              "    }\n",
              "    60% {\n",
              "      border-color: transparent;\n",
              "      border-right-color: var(--fill-color);\n",
              "    }\n",
              "    80% {\n",
              "      border-color: transparent;\n",
              "      border-right-color: var(--fill-color);\n",
              "      border-bottom-color: var(--fill-color);\n",
              "    }\n",
              "    90% {\n",
              "      border-color: transparent;\n",
              "      border-bottom-color: var(--fill-color);\n",
              "    }\n",
              "  }\n",
              "</style>\n",
              "\n",
              "  <script>\n",
              "    async function quickchart(key) {\n",
              "      const quickchartButtonEl =\n",
              "        document.querySelector('#' + key + ' button');\n",
              "      quickchartButtonEl.disabled = true;  // To prevent multiple clicks.\n",
              "      quickchartButtonEl.classList.add('colab-df-spinner');\n",
              "      try {\n",
              "        const charts = await google.colab.kernel.invokeFunction(\n",
              "            'suggestCharts', [key], {});\n",
              "      } catch (error) {\n",
              "        console.error('Error during call to suggestCharts:', error);\n",
              "      }\n",
              "      quickchartButtonEl.classList.remove('colab-df-spinner');\n",
              "      quickchartButtonEl.classList.add('colab-df-quickchart-complete');\n",
              "    }\n",
              "    (() => {\n",
              "      let quickchartButtonEl =\n",
              "        document.querySelector('#df-79c9f981-a646-476e-abf7-ab29161b352b button');\n",
              "      quickchartButtonEl.style.display =\n",
              "        google.colab.kernel.accessAllowed ? 'block' : 'none';\n",
              "    })();\n",
              "  </script>\n",
              "</div>\n",
              "\n",
              "  <div id=\"id_471a2328-7044-4e14-83c8-5fa89f5c1866\">\n",
              "    <style>\n",
              "      .colab-df-generate {\n",
              "        background-color: #E8F0FE;\n",
              "        border: none;\n",
              "        border-radius: 50%;\n",
              "        cursor: pointer;\n",
              "        display: none;\n",
              "        fill: #1967D2;\n",
              "        height: 32px;\n",
              "        padding: 0 0 0 0;\n",
              "        width: 32px;\n",
              "      }\n",
              "\n",
              "      .colab-df-generate:hover {\n",
              "        background-color: #E2EBFA;\n",
              "        box-shadow: 0px 1px 2px rgba(60, 64, 67, 0.3), 0px 1px 3px 1px rgba(60, 64, 67, 0.15);\n",
              "        fill: #174EA6;\n",
              "      }\n",
              "\n",
              "      [theme=dark] .colab-df-generate {\n",
              "        background-color: #3B4455;\n",
              "        fill: #D2E3FC;\n",
              "      }\n",
              "\n",
              "      [theme=dark] .colab-df-generate:hover {\n",
              "        background-color: #434B5C;\n",
              "        box-shadow: 0px 1px 3px 1px rgba(0, 0, 0, 0.15);\n",
              "        filter: drop-shadow(0px 1px 2px rgba(0, 0, 0, 0.3));\n",
              "        fill: #FFFFFF;\n",
              "      }\n",
              "    </style>\n",
              "    <button class=\"colab-df-generate\" onclick=\"generateWithVariable('df_train')\"\n",
              "            title=\"Generate code using this dataframe.\"\n",
              "            style=\"display:none;\">\n",
              "\n",
              "  <svg xmlns=\"http://www.w3.org/2000/svg\" height=\"24px\"viewBox=\"0 0 24 24\"\n",
              "       width=\"24px\">\n",
              "    <path d=\"M7,19H8.4L18.45,9,17,7.55,7,17.6ZM5,21V16.75L18.45,3.32a2,2,0,0,1,2.83,0l1.4,1.43a1.91,1.91,0,0,1,.58,1.4,1.91,1.91,0,0,1-.58,1.4L9.25,21ZM18.45,9,17,7.55Zm-12,3A5.31,5.31,0,0,0,4.9,8.1,5.31,5.31,0,0,0,1,6.5,5.31,5.31,0,0,0,4.9,4.9,5.31,5.31,0,0,0,6.5,1,5.31,5.31,0,0,0,8.1,4.9,5.31,5.31,0,0,0,12,6.5,5.46,5.46,0,0,0,6.5,12Z\"/>\n",
              "  </svg>\n",
              "    </button>\n",
              "    <script>\n",
              "      (() => {\n",
              "      const buttonEl =\n",
              "        document.querySelector('#id_471a2328-7044-4e14-83c8-5fa89f5c1866 button.colab-df-generate');\n",
              "      buttonEl.style.display =\n",
              "        google.colab.kernel.accessAllowed ? 'block' : 'none';\n",
              "\n",
              "      buttonEl.onclick = () => {\n",
              "        google.colab.notebook.generateWithVariable('df_train');\n",
              "      }\n",
              "      })();\n",
              "    </script>\n",
              "  </div>\n",
              "\n",
              "    </div>\n",
              "  </div>\n"
            ],
            "application/vnd.google.colaboratory.intrinsic+json": {
              "type": "dataframe",
              "variable_name": "df_train"
            }
          },
          "metadata": {},
          "execution_count": 36
        }
      ]
    },
    {
      "cell_type": "code",
      "source": [],
      "metadata": {
        "id": "d5pjTxWcUpBw"
      },
      "execution_count": null,
      "outputs": []
    },
    {
      "cell_type": "markdown",
      "source": [
        "# ImageNet inference code"
      ],
      "metadata": {
        "id": "WT6Sst_7MMsS"
      }
    },
    {
      "cell_type": "code",
      "source": [
        "import torch\n",
        "import torch.nn as nn\n",
        "from torch.utils.data import Dataset, DataLoader\n",
        "import pandas as pd\n",
        "import numpy as np\n",
        "from tqdm import tqdm\n",
        "import h5py\n",
        "import timm\n",
        "from torchvision import transforms\n",
        "from PIL import Image\n",
        "import io\n",
        "import albumentations as A\n",
        "from albumentations.pytorch import ToTensorV2\n",
        "\n",
        "epoch_for_preds = 1\n",
        "model_path = \"/kaggle/input/isic-2024-imagenet-train-oof-preds-public/\"\n",
        "\n",
        "class ISICDataset(Dataset):\n",
        "    def __init__(self, hdf5_file, isic_ids, targets=None, transform=None):\n",
        "        self.hdf5_file = h5py.File(hdf5_file, 'r')  # Keep file open\n",
        "        self.isic_ids = isic_ids\n",
        "        self.targets = targets\n",
        "        self.transform = transform\n",
        "\n",
        "    def __len__(self):\n",
        "        return len(self.isic_ids)\n",
        "\n",
        "    def __getitem__(self, idx):\n",
        "        img_bytes = self.hdf5_file[self.isic_ids[idx]][()]\n",
        "        img = Image.open(io.BytesIO(img_bytes))\n",
        "        img = np.array(img)\n",
        "\n",
        "        if self.transform:\n",
        "            transformed = self.transform(image=img)\n",
        "            img = transformed['image']\n",
        "\n",
        "        target = self.targets[idx] if self.targets is not None else torch.tensor(-1)\n",
        "        return img, target\n",
        "\n",
        "    def __del__(self):\n",
        "        self.hdf5_file.close()  # Ensure file is closed when object is destroyed\n",
        "\n",
        "# Define the albumentations transformation\n",
        "base_transform = A.Compose([\n",
        "    A.Resize(224, 224),\n",
        "    A.Normalize(mean=[0.485, 0.456, 0.406], std=[0.229, 0.224, 0.225]),\n",
        "    ToTensorV2(),\n",
        "])\n",
        "\n",
        "def setup_model(num_classes=2):\n",
        "    return timm.create_model('tf_efficientnetv2_b1', pretrained=False, num_classes=num_classes)\n",
        "\n",
        "def load_models(folds, device):\n",
        "    models = []\n",
        "    for fold in folds:\n",
        "        model = setup_model().to(device)\n",
        "        model.load_state_dict(torch.load(f'{model_path}model_fold_{fold}_epoch_{epoch_for_preds}.pth', map_location=device))\n",
        "        model.eval()\n",
        "        models.append(model)\n",
        "    return models\n",
        "\n",
        "@torch.no_grad()  # Apply no_grad to the entire function\n",
        "def ensemble_predict(models, test_loader, device):\n",
        "    all_predictions = []\n",
        "    for inputs, _ in tqdm(test_loader, desc=\"Predicting\"):\n",
        "        inputs = inputs.to(device)\n",
        "        fold_predictions = torch.stack([model(inputs).softmax(dim=1)[:, 1] for model in models])\n",
        "        avg_predictions = fold_predictions.mean(dim=0)\n",
        "        all_predictions.extend(avg_predictions.cpu().numpy())\n",
        "    return all_predictions\n"
      ],
      "metadata": {
        "execution": {
          "iopub.status.busy": "2024-08-11T06:30:20.033697Z",
          "iopub.status.idle": "2024-08-11T06:30:20.034068Z",
          "shell.execute_reply.started": "2024-08-11T06:30:20.033891Z",
          "shell.execute_reply": "2024-08-11T06:30:20.033906Z"
        },
        "trusted": true,
        "id": "2Uc_xdmPMMsS"
      },
      "execution_count": null,
      "outputs": []
    },
    {
      "cell_type": "markdown",
      "source": [
        "# Do ImageNet inference on test data / merge df_test"
      ],
      "metadata": {
        "id": "rwT46jucMMsT"
      }
    },
    {
      "cell_type": "code",
      "source": [
        "TEST_HDF5_FILE_PATH = '/kaggle/input/isic-2024-challenge/test-image.hdf5'\n",
        "\n",
        "# Set up CUDA if available\n",
        "device = torch.device(\"cuda\" if torch.cuda.is_available() else \"cpu\")\n",
        "print(f\"Using device: {device}\")\n",
        "\n",
        "# folds to use for pred\n",
        "folds = [0, 1, 2, 3, 4]\n",
        "\n",
        "models = load_models(folds, device)\n",
        "\n",
        "# Prepare your test dataset\n",
        "test_dataset = ISICDataset(\n",
        "    hdf5_file=TEST_HDF5_FILE_PATH,\n",
        "    isic_ids=df_test.index.values,  #minor change here from\n",
        "    transform=base_transform,\n",
        ")\n",
        "\n",
        "# Create test data loader\n",
        "test_loader = DataLoader(test_dataset, batch_size=512, shuffle=False, num_workers=4, pin_memory=True)\n",
        "\n",
        "# Run predictions\n",
        "predictions = ensemble_predict(models, test_loader, device)\n",
        "\n",
        "# Create a new DataFrame with predictions\n",
        "temp_df = pd.DataFrame({image_pred_col: predictions}, index=df_test.index)\n",
        "\n",
        "# Join the predictions to df_test\n",
        "df_test = df_test.join(temp_df)\n"
      ],
      "metadata": {
        "execution": {
          "iopub.status.busy": "2024-08-11T06:30:20.035074Z",
          "iopub.status.idle": "2024-08-11T06:30:20.035416Z",
          "shell.execute_reply.started": "2024-08-11T06:30:20.035246Z",
          "shell.execute_reply": "2024-08-11T06:30:20.035261Z"
        },
        "trusted": true,
        "id": "Yhtdq29WMMsT",
        "outputId": "20570d68-dcf6-488d-9c96-f4058d522fbd",
        "colab": {
          "base_uri": "https://localhost:8080/",
          "height": 391
        }
      },
      "execution_count": null,
      "outputs": [
        {
          "output_type": "stream",
          "name": "stdout",
          "text": [
            "Using device: cpu\n"
          ]
        },
        {
          "output_type": "error",
          "ename": "FileNotFoundError",
          "evalue": "[Errno 2] No such file or directory: '/kaggle/input/isic-2024-imagenet-train-oof-preds-public/model_fold_0_epoch_1.pth'",
          "traceback": [
            "\u001b[0;31m---------------------------------------------------------------------------\u001b[0m",
            "\u001b[0;31mFileNotFoundError\u001b[0m                         Traceback (most recent call last)",
            "\u001b[0;32m<ipython-input-18-b772bbf3932b>\u001b[0m in \u001b[0;36m<cell line: 10>\u001b[0;34m()\u001b[0m\n\u001b[1;32m      8\u001b[0m \u001b[0mfolds\u001b[0m \u001b[0;34m=\u001b[0m \u001b[0;34m[\u001b[0m\u001b[0;36m0\u001b[0m\u001b[0;34m,\u001b[0m \u001b[0;36m1\u001b[0m\u001b[0;34m,\u001b[0m \u001b[0;36m2\u001b[0m\u001b[0;34m,\u001b[0m \u001b[0;36m3\u001b[0m\u001b[0;34m,\u001b[0m \u001b[0;36m4\u001b[0m\u001b[0;34m]\u001b[0m\u001b[0;34m\u001b[0m\u001b[0;34m\u001b[0m\u001b[0m\n\u001b[1;32m      9\u001b[0m \u001b[0;34m\u001b[0m\u001b[0m\n\u001b[0;32m---> 10\u001b[0;31m \u001b[0mmodels\u001b[0m \u001b[0;34m=\u001b[0m \u001b[0mload_models\u001b[0m\u001b[0;34m(\u001b[0m\u001b[0mfolds\u001b[0m\u001b[0;34m,\u001b[0m \u001b[0mdevice\u001b[0m\u001b[0;34m)\u001b[0m\u001b[0;34m\u001b[0m\u001b[0;34m\u001b[0m\u001b[0m\n\u001b[0m\u001b[1;32m     11\u001b[0m \u001b[0;34m\u001b[0m\u001b[0m\n\u001b[1;32m     12\u001b[0m \u001b[0;31m# Prepare your test dataset\u001b[0m\u001b[0;34m\u001b[0m\u001b[0;34m\u001b[0m\u001b[0m\n",
            "\u001b[0;32m<ipython-input-17-90eeb53f4b43>\u001b[0m in \u001b[0;36mload_models\u001b[0;34m(folds, device)\u001b[0m\n\u001b[1;32m     55\u001b[0m     \u001b[0;32mfor\u001b[0m \u001b[0mfold\u001b[0m \u001b[0;32min\u001b[0m \u001b[0mfolds\u001b[0m\u001b[0;34m:\u001b[0m\u001b[0;34m\u001b[0m\u001b[0;34m\u001b[0m\u001b[0m\n\u001b[1;32m     56\u001b[0m         \u001b[0mmodel\u001b[0m \u001b[0;34m=\u001b[0m \u001b[0msetup_model\u001b[0m\u001b[0;34m(\u001b[0m\u001b[0;34m)\u001b[0m\u001b[0;34m.\u001b[0m\u001b[0mto\u001b[0m\u001b[0;34m(\u001b[0m\u001b[0mdevice\u001b[0m\u001b[0;34m)\u001b[0m\u001b[0;34m\u001b[0m\u001b[0;34m\u001b[0m\u001b[0m\n\u001b[0;32m---> 57\u001b[0;31m         \u001b[0mmodel\u001b[0m\u001b[0;34m.\u001b[0m\u001b[0mload_state_dict\u001b[0m\u001b[0;34m(\u001b[0m\u001b[0mtorch\u001b[0m\u001b[0;34m.\u001b[0m\u001b[0mload\u001b[0m\u001b[0;34m(\u001b[0m\u001b[0;34mf'{model_path}model_fold_{fold}_epoch_{epoch_for_preds}.pth'\u001b[0m\u001b[0;34m,\u001b[0m \u001b[0mmap_location\u001b[0m\u001b[0;34m=\u001b[0m\u001b[0mdevice\u001b[0m\u001b[0;34m)\u001b[0m\u001b[0;34m)\u001b[0m\u001b[0;34m\u001b[0m\u001b[0;34m\u001b[0m\u001b[0m\n\u001b[0m\u001b[1;32m     58\u001b[0m         \u001b[0mmodel\u001b[0m\u001b[0;34m.\u001b[0m\u001b[0meval\u001b[0m\u001b[0;34m(\u001b[0m\u001b[0;34m)\u001b[0m\u001b[0;34m\u001b[0m\u001b[0;34m\u001b[0m\u001b[0m\n\u001b[1;32m     59\u001b[0m         \u001b[0mmodels\u001b[0m\u001b[0;34m.\u001b[0m\u001b[0mappend\u001b[0m\u001b[0;34m(\u001b[0m\u001b[0mmodel\u001b[0m\u001b[0;34m)\u001b[0m\u001b[0;34m\u001b[0m\u001b[0;34m\u001b[0m\u001b[0m\n",
            "\u001b[0;32m/usr/local/lib/python3.10/dist-packages/torch/serialization.py\u001b[0m in \u001b[0;36mload\u001b[0;34m(f, map_location, pickle_module, weights_only, mmap, **pickle_load_args)\u001b[0m\n\u001b[1;32m    995\u001b[0m         \u001b[0mpickle_load_args\u001b[0m\u001b[0;34m[\u001b[0m\u001b[0;34m'encoding'\u001b[0m\u001b[0;34m]\u001b[0m \u001b[0;34m=\u001b[0m \u001b[0;34m'utf-8'\u001b[0m\u001b[0;34m\u001b[0m\u001b[0;34m\u001b[0m\u001b[0m\n\u001b[1;32m    996\u001b[0m \u001b[0;34m\u001b[0m\u001b[0m\n\u001b[0;32m--> 997\u001b[0;31m     \u001b[0;32mwith\u001b[0m \u001b[0m_open_file_like\u001b[0m\u001b[0;34m(\u001b[0m\u001b[0mf\u001b[0m\u001b[0;34m,\u001b[0m \u001b[0;34m'rb'\u001b[0m\u001b[0;34m)\u001b[0m \u001b[0;32mas\u001b[0m \u001b[0mopened_file\u001b[0m\u001b[0;34m:\u001b[0m\u001b[0;34m\u001b[0m\u001b[0;34m\u001b[0m\u001b[0m\n\u001b[0m\u001b[1;32m    998\u001b[0m         \u001b[0;32mif\u001b[0m \u001b[0m_is_zipfile\u001b[0m\u001b[0;34m(\u001b[0m\u001b[0mopened_file\u001b[0m\u001b[0;34m)\u001b[0m\u001b[0;34m:\u001b[0m\u001b[0;34m\u001b[0m\u001b[0;34m\u001b[0m\u001b[0m\n\u001b[1;32m    999\u001b[0m             \u001b[0;31m# The zipfile reader is going to advance the current file position.\u001b[0m\u001b[0;34m\u001b[0m\u001b[0;34m\u001b[0m\u001b[0m\n",
            "\u001b[0;32m/usr/local/lib/python3.10/dist-packages/torch/serialization.py\u001b[0m in \u001b[0;36m_open_file_like\u001b[0;34m(name_or_buffer, mode)\u001b[0m\n\u001b[1;32m    442\u001b[0m \u001b[0;32mdef\u001b[0m \u001b[0m_open_file_like\u001b[0m\u001b[0;34m(\u001b[0m\u001b[0mname_or_buffer\u001b[0m\u001b[0;34m,\u001b[0m \u001b[0mmode\u001b[0m\u001b[0;34m)\u001b[0m\u001b[0;34m:\u001b[0m\u001b[0;34m\u001b[0m\u001b[0;34m\u001b[0m\u001b[0m\n\u001b[1;32m    443\u001b[0m     \u001b[0;32mif\u001b[0m \u001b[0m_is_path\u001b[0m\u001b[0;34m(\u001b[0m\u001b[0mname_or_buffer\u001b[0m\u001b[0;34m)\u001b[0m\u001b[0;34m:\u001b[0m\u001b[0;34m\u001b[0m\u001b[0;34m\u001b[0m\u001b[0m\n\u001b[0;32m--> 444\u001b[0;31m         \u001b[0;32mreturn\u001b[0m \u001b[0m_open_file\u001b[0m\u001b[0;34m(\u001b[0m\u001b[0mname_or_buffer\u001b[0m\u001b[0;34m,\u001b[0m \u001b[0mmode\u001b[0m\u001b[0;34m)\u001b[0m\u001b[0;34m\u001b[0m\u001b[0;34m\u001b[0m\u001b[0m\n\u001b[0m\u001b[1;32m    445\u001b[0m     \u001b[0;32melse\u001b[0m\u001b[0;34m:\u001b[0m\u001b[0;34m\u001b[0m\u001b[0;34m\u001b[0m\u001b[0m\n\u001b[1;32m    446\u001b[0m         \u001b[0;32mif\u001b[0m \u001b[0;34m'w'\u001b[0m \u001b[0;32min\u001b[0m \u001b[0mmode\u001b[0m\u001b[0;34m:\u001b[0m\u001b[0;34m\u001b[0m\u001b[0;34m\u001b[0m\u001b[0m\n",
            "\u001b[0;32m/usr/local/lib/python3.10/dist-packages/torch/serialization.py\u001b[0m in \u001b[0;36m__init__\u001b[0;34m(self, name, mode)\u001b[0m\n\u001b[1;32m    423\u001b[0m \u001b[0;32mclass\u001b[0m \u001b[0m_open_file\u001b[0m\u001b[0;34m(\u001b[0m\u001b[0m_opener\u001b[0m\u001b[0;34m)\u001b[0m\u001b[0;34m:\u001b[0m\u001b[0;34m\u001b[0m\u001b[0;34m\u001b[0m\u001b[0m\n\u001b[1;32m    424\u001b[0m     \u001b[0;32mdef\u001b[0m \u001b[0m__init__\u001b[0m\u001b[0;34m(\u001b[0m\u001b[0mself\u001b[0m\u001b[0;34m,\u001b[0m \u001b[0mname\u001b[0m\u001b[0;34m,\u001b[0m \u001b[0mmode\u001b[0m\u001b[0;34m)\u001b[0m\u001b[0;34m:\u001b[0m\u001b[0;34m\u001b[0m\u001b[0;34m\u001b[0m\u001b[0m\n\u001b[0;32m--> 425\u001b[0;31m         \u001b[0msuper\u001b[0m\u001b[0;34m(\u001b[0m\u001b[0;34m)\u001b[0m\u001b[0;34m.\u001b[0m\u001b[0m__init__\u001b[0m\u001b[0;34m(\u001b[0m\u001b[0mopen\u001b[0m\u001b[0;34m(\u001b[0m\u001b[0mname\u001b[0m\u001b[0;34m,\u001b[0m \u001b[0mmode\u001b[0m\u001b[0;34m)\u001b[0m\u001b[0;34m)\u001b[0m\u001b[0;34m\u001b[0m\u001b[0;34m\u001b[0m\u001b[0m\n\u001b[0m\u001b[1;32m    426\u001b[0m \u001b[0;34m\u001b[0m\u001b[0m\n\u001b[1;32m    427\u001b[0m     \u001b[0;32mdef\u001b[0m \u001b[0m__exit__\u001b[0m\u001b[0;34m(\u001b[0m\u001b[0mself\u001b[0m\u001b[0;34m,\u001b[0m \u001b[0;34m*\u001b[0m\u001b[0margs\u001b[0m\u001b[0;34m)\u001b[0m\u001b[0;34m:\u001b[0m\u001b[0;34m\u001b[0m\u001b[0;34m\u001b[0m\u001b[0m\n",
            "\u001b[0;31mFileNotFoundError\u001b[0m: [Errno 2] No such file or directory: '/kaggle/input/isic-2024-imagenet-train-oof-preds-public/model_fold_0_epoch_1.pth'"
          ]
        }
      ]
    },
    {
      "cell_type": "markdown",
      "source": [
        "### Optuna HyperParam Tuned Models"
      ],
      "metadata": {
        "id": "jQe3tK5IMMsT"
      }
    },
    {
      "cell_type": "code",
      "source": [
        "lgb_params = {\n",
        "    'objective':        'binary',\n",
        "    'verbosity':        -1,\n",
        "    'n_iter':           200,\n",
        "    'boosting_type':    'gbdt',\n",
        "    'random_state':     seed,\n",
        "    'lambda_l1':        0.08758718919397321,\n",
        "    'lambda_l2':        0.0039689175176025465,\n",
        "    'learning_rate':    0.03231007103195577,\n",
        "    'max_depth':        4,\n",
        "    'num_leaves':       103,\n",
        "    'colsample_bytree': 0.8329551585827726,\n",
        "    'colsample_bynode': 0.4025961355653304,\n",
        "    'bagging_fraction': 0.7738954452473223,\n",
        "    'bagging_freq':     4,\n",
        "    'min_data_in_leaf': 85,\n",
        "    'scale_pos_weight': 2.7984184778875543,\n",
        "}\n",
        "\n",
        "lgb_model = Pipeline([\n",
        "    ('sampler', RandomUnderSampler(sampling_strategy=sampling_ratio, random_state=seed)),\n",
        "    ('classifier', lgb.LGBMClassifier(**lgb_params)),\n",
        "])"
      ],
      "metadata": {
        "execution": {
          "iopub.status.busy": "2024-08-11T06:30:20.037827Z",
          "iopub.status.idle": "2024-08-11T06:30:20.038178Z",
          "shell.execute_reply.started": "2024-08-11T06:30:20.038008Z",
          "shell.execute_reply": "2024-08-11T06:30:20.038022Z"
        },
        "trusted": true,
        "id": "FaNLoYk-MMsT"
      },
      "execution_count": null,
      "outputs": []
    },
    {
      "cell_type": "code",
      "source": [
        "cb_params = {\n",
        "    'loss_function':     'Logloss',\n",
        "    'iterations':        200,\n",
        "    'verbose':           False,\n",
        "    'random_state':      seed,\n",
        "    'max_depth':         7,\n",
        "    'learning_rate':     0.06936242010150652,\n",
        "    'scale_pos_weight':  2.6149345838209532,\n",
        "    'l2_leaf_reg':       6.216113851699493,\n",
        "    'subsample':         0.6249261779711819,\n",
        "    'min_data_in_leaf':  24,\n",
        "    'cat_features':      cat_cols,\n",
        "}\n",
        "\n",
        "cb_model = Pipeline([\n",
        "    ('sampler', RandomUnderSampler(sampling_strategy=sampling_ratio, random_state=seed)),\n",
        "    ('classifier', cb.CatBoostClassifier(**cb_params)),\n",
        "])"
      ],
      "metadata": {
        "execution": {
          "iopub.status.busy": "2024-08-11T06:30:20.039302Z",
          "iopub.status.idle": "2024-08-11T06:30:20.039675Z",
          "shell.execute_reply.started": "2024-08-11T06:30:20.039493Z",
          "shell.execute_reply": "2024-08-11T06:30:20.039508Z"
        },
        "trusted": true,
        "id": "a0hjBOmZMMsU"
      },
      "execution_count": null,
      "outputs": []
    },
    {
      "cell_type": "code",
      "source": [
        "xgb_params = {\n",
        "    'enable_categorical': True,\n",
        "    'tree_method':        'hist',\n",
        "    'random_state':       seed,\n",
        "    'learning_rate':      0.08501257473292347,\n",
        "    'lambda':             8.879624125465703,\n",
        "    'alpha':              0.6779926606782505,\n",
        "    'max_depth':          6,\n",
        "    'subsample':          0.6012681388711075,\n",
        "    'colsample_bytree':   0.8437772277074493,\n",
        "    'colsample_bylevel':  0.5476090898823716,\n",
        "    'colsample_bynode':   0.9928601203635129,\n",
        "    'scale_pos_weight':   3.29440313334688,\n",
        "}\n",
        "\n",
        "xgb_model = Pipeline([\n",
        "    ('sampler', RandomUnderSampler(sampling_strategy=sampling_ratio, random_state=seed)),\n",
        "    ('classifier', xgb.XGBClassifier(**xgb_params)),\n",
        "])"
      ],
      "metadata": {
        "execution": {
          "iopub.status.busy": "2024-08-11T06:30:20.040968Z",
          "iopub.status.idle": "2024-08-11T06:30:20.041269Z",
          "shell.execute_reply.started": "2024-08-11T06:30:20.041117Z",
          "shell.execute_reply": "2024-08-11T06:30:20.041129Z"
        },
        "trusted": true,
        "id": "X64DU_f4MMsU"
      },
      "execution_count": null,
      "outputs": []
    },
    {
      "cell_type": "code",
      "source": [
        "estimator = VotingClassifier([\n",
        "    ('lgb', lgb_model), ('cb', cb_model), ('xgb', xgb_model),\n",
        "], voting='soft')"
      ],
      "metadata": {
        "execution": {
          "iopub.status.busy": "2024-08-11T06:30:20.042911Z",
          "iopub.status.idle": "2024-08-11T06:30:20.043358Z",
          "shell.execute_reply.started": "2024-08-11T06:30:20.043121Z",
          "shell.execute_reply": "2024-08-11T06:30:20.043139Z"
        },
        "trusted": true,
        "id": "pFNAE4QoMMsU"
      },
      "execution_count": null,
      "outputs": []
    },
    {
      "cell_type": "markdown",
      "source": [
        "### Cross Validation\n",
        "* Using folds from OOF ImageNet predictions"
      ],
      "metadata": {
        "id": "JaAhmbuuMMsU"
      }
    },
    {
      "cell_type": "code",
      "source": [
        "from sklearn.model_selection import PredefinedSplit\n",
        "\n",
        "# Assuming df_train already has a 'fold' column with values 0-4\n",
        "X = df_train[feature_cols]\n",
        "y = df_train[target_col]\n",
        "\n",
        "# Create a PredefinedSplit object using the 'fold' column\n",
        "fold_indices = df_train['fold'].values\n",
        "cv = PredefinedSplit(fold_indices)\n",
        "\n",
        "# Perform cross-validation\n",
        "val_score = cross_val_score(\n",
        "    estimator=estimator,\n",
        "    X=X, y=y,\n",
        "    cv=cv,\n",
        "    scoring=custom_metric,\n",
        ")\n",
        "\n",
        "np.mean(val_score), val_score"
      ],
      "metadata": {
        "execution": {
          "iopub.status.busy": "2024-08-11T06:30:20.044475Z",
          "iopub.status.idle": "2024-08-11T06:30:20.044805Z",
          "shell.execute_reply.started": "2024-08-11T06:30:20.044646Z",
          "shell.execute_reply": "2024-08-11T06:30:20.04466Z"
        },
        "trusted": true,
        "id": "JVAZBiDVMMsV"
      },
      "execution_count": null,
      "outputs": []
    },
    {
      "cell_type": "markdown",
      "source": [
        "### Training"
      ],
      "metadata": {
        "id": "Fdkltf9ZMMsV"
      }
    },
    {
      "cell_type": "code",
      "source": [
        "X, y = df_train[feature_cols], df_train[target_col]\n",
        "\n",
        "estimator.fit(X, y)"
      ],
      "metadata": {
        "execution": {
          "iopub.status.busy": "2024-08-11T06:30:20.04705Z",
          "iopub.status.idle": "2024-08-11T06:30:20.047504Z",
          "shell.execute_reply.started": "2024-08-11T06:30:20.04726Z",
          "shell.execute_reply": "2024-08-11T06:30:20.047279Z"
        },
        "trusted": true,
        "id": "WzNaWOE6MMsV"
      },
      "execution_count": null,
      "outputs": []
    },
    {
      "cell_type": "markdown",
      "source": [
        "### Prediction"
      ],
      "metadata": {
        "id": "tsFVQViwMMsV"
      }
    },
    {
      "cell_type": "code",
      "source": [
        "df_subm['target'] = estimator.predict_proba(df_test[feature_cols])[:, 1]\n",
        "\n",
        "df_subm.to_csv('submission.csv')\n",
        "df_subm.head()"
      ],
      "metadata": {
        "execution": {
          "iopub.status.busy": "2024-08-11T06:30:20.048882Z",
          "iopub.status.idle": "2024-08-11T06:30:20.049206Z",
          "shell.execute_reply.started": "2024-08-11T06:30:20.049047Z",
          "shell.execute_reply": "2024-08-11T06:30:20.049061Z"
        },
        "trusted": true,
        "id": "-ODVbS4FMMsV"
      },
      "execution_count": null,
      "outputs": []
    },
    {
      "cell_type": "code",
      "source": [],
      "metadata": {
        "id": "rcyw9MjWMMsV"
      },
      "execution_count": null,
      "outputs": []
    }
  ]
}